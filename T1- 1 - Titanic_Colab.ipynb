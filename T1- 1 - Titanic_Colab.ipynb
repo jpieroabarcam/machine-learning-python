{
  "nbformat": 4,
  "nbformat_minor": 0,
  "metadata": {
    "kernelspec": {
      "display_name": "Python 3",
      "language": "python",
      "name": "python3"
    },
    "language_info": {
      "codemirror_mode": {
        "name": "ipython",
        "version": 3
      },
      "file_extension": ".py",
      "mimetype": "text/x-python",
      "name": "python",
      "nbconvert_exporter": "python",
      "pygments_lexer": "ipython3",
      "version": "3.7.0"
    },
    "colab": {
      "name": "T1- 1 - Titanic.ipynb",
      "provenance": []
    }
  },
  "cells": [
    {
      "cell_type": "markdown",
      "metadata": {
        "id": "cA4d0akJ3OW3",
        "colab_type": "text"
      },
      "source": [
        "# Ingreso desde Google Colab para versionarlo"
      ]
    },
    {
      "cell_type": "code",
      "metadata": {
        "id": "pkbvPiJpCTEe",
        "colab_type": "code",
        "colab": {
          "base_uri": "https://localhost:8080/",
          "height": 122
        },
        "outputId": "976dda32-1542-44a6-933a-935710f34d90"
      },
      "source": [
        "from google.colab import drive\n",
        "drive.mount('/content/drive')"
      ],
      "execution_count": 29,
      "outputs": [
        {
          "output_type": "stream",
          "text": [
            "Go to this URL in a browser: https://accounts.google.com/o/oauth2/auth?client_id=947318989803-6bn6qk8qdgf4n4g3pfee6491hc0brc4i.apps.googleusercontent.com&redirect_uri=urn%3aietf%3awg%3aoauth%3a2.0%3aoob&response_type=code&scope=email%20https%3a%2f%2fwww.googleapis.com%2fauth%2fdocs.test%20https%3a%2f%2fwww.googleapis.com%2fauth%2fdrive%20https%3a%2f%2fwww.googleapis.com%2fauth%2fdrive.photos.readonly%20https%3a%2f%2fwww.googleapis.com%2fauth%2fpeopleapi.readonly\n",
            "\n",
            "Enter your authorization code:\n",
            "··········\n",
            "Mounted at /content/drive\n"
          ],
          "name": "stdout"
        }
      ]
    },
    {
      "cell_type": "code",
      "metadata": {
        "id": "1tDaxfXlCT5x",
        "colab_type": "code",
        "colab": {
          "base_uri": "https://localhost:8080/",
          "height": 34
        },
        "outputId": "1a404a77-2bf2-4f21-fc94-9fce826abf7a"
      },
      "source": [
        "%cd drive/My\\ Drive/Investigacion/Datasets"
      ],
      "execution_count": 30,
      "outputs": [
        {
          "output_type": "stream",
          "text": [
            "/content/drive/My Drive/Investigacion/Datasets\n"
          ],
          "name": "stdout"
        }
      ]
    },
    {
      "cell_type": "code",
      "metadata": {
        "scrolled": true,
        "id": "Vrua9bn41GGE",
        "colab_type": "code",
        "colab": {}
      },
      "source": [
        "import pandas as pd\n",
        "import os"
      ],
      "execution_count": 4,
      "outputs": []
    },
    {
      "cell_type": "code",
      "metadata": {
        "id": "cmcWR2nJ1GGJ",
        "colab_type": "code",
        "colab": {}
      },
      "source": [
        "#windows\n",
        "#mainpath = \"E:/personal/programacion ex/MachineLearningPython/JupyterNotebook/datasets\"\n",
        "\n",
        "#linux\n",
        "#mainpath = \"/home/piero/Documentos/Cursos/machine-learning-python/datasets\"\n",
        "\n",
        "#filename = \"titanic/titanic3.csv\"\n",
        "#fullpath = mainpath + \"/\" + filename\n",
        "#fullpath = os.path.join(mainpath,fullpath)\n",
        "\n",
        "#desde data externa de GitHub\n",
        "fullpath = \"https://raw.githubusercontent.com/jpieroabarcam/machine-learning-python/master/datasets/titanic/titanic3.csv\""
      ],
      "execution_count": 36,
      "outputs": []
    },
    {
      "cell_type": "code",
      "metadata": {
        "id": "gof87Iw51GGM",
        "colab_type": "code",
        "colab": {}
      },
      "source": [
        "data = pd.read_csv(fullpath)"
      ],
      "execution_count": 6,
      "outputs": []
    },
    {
      "cell_type": "code",
      "metadata": {
        "id": "ax4VSnJ81GGP",
        "colab_type": "code",
        "colab": {
          "base_uri": "https://localhost:8080/",
          "height": 204
        },
        "outputId": "2c0e763b-4155-44af-e437-203c206b2c2b"
      },
      "source": [
        "data.head()"
      ],
      "execution_count": 7,
      "outputs": [
        {
          "output_type": "execute_result",
          "data": {
            "text/html": [
              "<div>\n",
              "<style scoped>\n",
              "    .dataframe tbody tr th:only-of-type {\n",
              "        vertical-align: middle;\n",
              "    }\n",
              "\n",
              "    .dataframe tbody tr th {\n",
              "        vertical-align: top;\n",
              "    }\n",
              "\n",
              "    .dataframe thead th {\n",
              "        text-align: right;\n",
              "    }\n",
              "</style>\n",
              "<table border=\"1\" class=\"dataframe\">\n",
              "  <thead>\n",
              "    <tr style=\"text-align: right;\">\n",
              "      <th></th>\n",
              "      <th>pclass</th>\n",
              "      <th>survived</th>\n",
              "      <th>name</th>\n",
              "      <th>sex</th>\n",
              "      <th>age</th>\n",
              "      <th>sibsp</th>\n",
              "      <th>parch</th>\n",
              "      <th>ticket</th>\n",
              "      <th>fare</th>\n",
              "      <th>cabin</th>\n",
              "      <th>embarked</th>\n",
              "      <th>boat</th>\n",
              "      <th>body</th>\n",
              "      <th>home.dest</th>\n",
              "    </tr>\n",
              "  </thead>\n",
              "  <tbody>\n",
              "    <tr>\n",
              "      <th>0</th>\n",
              "      <td>1</td>\n",
              "      <td>1</td>\n",
              "      <td>Allen, Miss. Elisabeth Walton</td>\n",
              "      <td>female</td>\n",
              "      <td>29.0000</td>\n",
              "      <td>0</td>\n",
              "      <td>0</td>\n",
              "      <td>24160</td>\n",
              "      <td>211.3375</td>\n",
              "      <td>B5</td>\n",
              "      <td>S</td>\n",
              "      <td>2</td>\n",
              "      <td>NaN</td>\n",
              "      <td>St Louis, MO</td>\n",
              "    </tr>\n",
              "    <tr>\n",
              "      <th>1</th>\n",
              "      <td>1</td>\n",
              "      <td>1</td>\n",
              "      <td>Allison, Master. Hudson Trevor</td>\n",
              "      <td>male</td>\n",
              "      <td>0.9167</td>\n",
              "      <td>1</td>\n",
              "      <td>2</td>\n",
              "      <td>113781</td>\n",
              "      <td>151.5500</td>\n",
              "      <td>C22 C26</td>\n",
              "      <td>S</td>\n",
              "      <td>11</td>\n",
              "      <td>NaN</td>\n",
              "      <td>Montreal, PQ / Chesterville, ON</td>\n",
              "    </tr>\n",
              "    <tr>\n",
              "      <th>2</th>\n",
              "      <td>1</td>\n",
              "      <td>0</td>\n",
              "      <td>Allison, Miss. Helen Loraine</td>\n",
              "      <td>female</td>\n",
              "      <td>2.0000</td>\n",
              "      <td>1</td>\n",
              "      <td>2</td>\n",
              "      <td>113781</td>\n",
              "      <td>151.5500</td>\n",
              "      <td>C22 C26</td>\n",
              "      <td>S</td>\n",
              "      <td>NaN</td>\n",
              "      <td>NaN</td>\n",
              "      <td>Montreal, PQ / Chesterville, ON</td>\n",
              "    </tr>\n",
              "    <tr>\n",
              "      <th>3</th>\n",
              "      <td>1</td>\n",
              "      <td>0</td>\n",
              "      <td>Allison, Mr. Hudson Joshua Creighton</td>\n",
              "      <td>male</td>\n",
              "      <td>30.0000</td>\n",
              "      <td>1</td>\n",
              "      <td>2</td>\n",
              "      <td>113781</td>\n",
              "      <td>151.5500</td>\n",
              "      <td>C22 C26</td>\n",
              "      <td>S</td>\n",
              "      <td>NaN</td>\n",
              "      <td>135.0</td>\n",
              "      <td>Montreal, PQ / Chesterville, ON</td>\n",
              "    </tr>\n",
              "    <tr>\n",
              "      <th>4</th>\n",
              "      <td>1</td>\n",
              "      <td>0</td>\n",
              "      <td>Allison, Mrs. Hudson J C (Bessie Waldo Daniels)</td>\n",
              "      <td>female</td>\n",
              "      <td>25.0000</td>\n",
              "      <td>1</td>\n",
              "      <td>2</td>\n",
              "      <td>113781</td>\n",
              "      <td>151.5500</td>\n",
              "      <td>C22 C26</td>\n",
              "      <td>S</td>\n",
              "      <td>NaN</td>\n",
              "      <td>NaN</td>\n",
              "      <td>Montreal, PQ / Chesterville, ON</td>\n",
              "    </tr>\n",
              "  </tbody>\n",
              "</table>\n",
              "</div>"
            ],
            "text/plain": [
              "   pclass  survived  ...   body                        home.dest\n",
              "0       1         1  ...    NaN                     St Louis, MO\n",
              "1       1         1  ...    NaN  Montreal, PQ / Chesterville, ON\n",
              "2       1         0  ...    NaN  Montreal, PQ / Chesterville, ON\n",
              "3       1         0  ...  135.0  Montreal, PQ / Chesterville, ON\n",
              "4       1         0  ...    NaN  Montreal, PQ / Chesterville, ON\n",
              "\n",
              "[5 rows x 14 columns]"
            ]
          },
          "metadata": {
            "tags": []
          },
          "execution_count": 7
        }
      ]
    },
    {
      "cell_type": "markdown",
      "metadata": {
        "id": "bt8TDtqZ1GGT",
        "colab_type": "text"
      },
      "source": [
        "# Ejemplos de los parámetros de la función read_csv\n",
        "read.csv(filepath=\"Users/piero.abarca/AnacondaProjects/python-ml-course/datasets/titanic/titanic3.csv\", sep = \",\", dtype = None, header = None, names=None, skiprows=12,index_col=None,skip_blank_lines=False, na_filter=True)"
      ]
    },
    {
      "cell_type": "code",
      "metadata": {
        "id": "CBxc8say1GGT",
        "colab_type": "code",
        "colab": {}
      },
      "source": [
        "#data2 = pd.read_csv(mainpath + \"/\" + \"customer-churn-model/Customer Churn Model.txt\")\n",
        "data2 = pd.read_csv(\"https://raw.githubusercontent.com/jpieroabarcam/machine-learning-python/master/datasets/customer-churn-model/Customer%20Churn%20Model.txt\")"
      ],
      "execution_count": 27,
      "outputs": []
    },
    {
      "cell_type": "code",
      "metadata": {
        "id": "jp9U7T2_1GGX",
        "colab_type": "code",
        "colab": {},
        "outputId": "c652c8fb-3793-4be4-ec0d-72247546894c"
      },
      "source": [
        "data2.head()"
      ],
      "execution_count": null,
      "outputs": [
        {
          "output_type": "execute_result",
          "data": {
            "text/html": [
              "<div>\n",
              "<style scoped>\n",
              "    .dataframe tbody tr th:only-of-type {\n",
              "        vertical-align: middle;\n",
              "    }\n",
              "\n",
              "    .dataframe tbody tr th {\n",
              "        vertical-align: top;\n",
              "    }\n",
              "\n",
              "    .dataframe thead th {\n",
              "        text-align: right;\n",
              "    }\n",
              "</style>\n",
              "<table border=\"1\" class=\"dataframe\">\n",
              "  <thead>\n",
              "    <tr style=\"text-align: right;\">\n",
              "      <th></th>\n",
              "      <th>State</th>\n",
              "      <th>Account Length</th>\n",
              "      <th>Area Code</th>\n",
              "      <th>Phone</th>\n",
              "      <th>Int'l Plan</th>\n",
              "      <th>VMail Plan</th>\n",
              "      <th>VMail Message</th>\n",
              "      <th>Day Mins</th>\n",
              "      <th>Day Calls</th>\n",
              "      <th>Day Charge</th>\n",
              "      <th>...</th>\n",
              "      <th>Eve Calls</th>\n",
              "      <th>Eve Charge</th>\n",
              "      <th>Night Mins</th>\n",
              "      <th>Night Calls</th>\n",
              "      <th>Night Charge</th>\n",
              "      <th>Intl Mins</th>\n",
              "      <th>Intl Calls</th>\n",
              "      <th>Intl Charge</th>\n",
              "      <th>CustServ Calls</th>\n",
              "      <th>Churn?</th>\n",
              "    </tr>\n",
              "  </thead>\n",
              "  <tbody>\n",
              "    <tr>\n",
              "      <th>0</th>\n",
              "      <td>KS</td>\n",
              "      <td>128</td>\n",
              "      <td>415</td>\n",
              "      <td>382-4657</td>\n",
              "      <td>no</td>\n",
              "      <td>yes</td>\n",
              "      <td>25</td>\n",
              "      <td>265.1</td>\n",
              "      <td>110</td>\n",
              "      <td>45.07</td>\n",
              "      <td>...</td>\n",
              "      <td>99</td>\n",
              "      <td>16.78</td>\n",
              "      <td>244.7</td>\n",
              "      <td>91</td>\n",
              "      <td>11.01</td>\n",
              "      <td>10.0</td>\n",
              "      <td>3</td>\n",
              "      <td>2.70</td>\n",
              "      <td>1</td>\n",
              "      <td>False.</td>\n",
              "    </tr>\n",
              "    <tr>\n",
              "      <th>1</th>\n",
              "      <td>OH</td>\n",
              "      <td>107</td>\n",
              "      <td>415</td>\n",
              "      <td>371-7191</td>\n",
              "      <td>no</td>\n",
              "      <td>yes</td>\n",
              "      <td>26</td>\n",
              "      <td>161.6</td>\n",
              "      <td>123</td>\n",
              "      <td>27.47</td>\n",
              "      <td>...</td>\n",
              "      <td>103</td>\n",
              "      <td>16.62</td>\n",
              "      <td>254.4</td>\n",
              "      <td>103</td>\n",
              "      <td>11.45</td>\n",
              "      <td>13.7</td>\n",
              "      <td>3</td>\n",
              "      <td>3.70</td>\n",
              "      <td>1</td>\n",
              "      <td>False.</td>\n",
              "    </tr>\n",
              "    <tr>\n",
              "      <th>2</th>\n",
              "      <td>NJ</td>\n",
              "      <td>137</td>\n",
              "      <td>415</td>\n",
              "      <td>358-1921</td>\n",
              "      <td>no</td>\n",
              "      <td>no</td>\n",
              "      <td>0</td>\n",
              "      <td>243.4</td>\n",
              "      <td>114</td>\n",
              "      <td>41.38</td>\n",
              "      <td>...</td>\n",
              "      <td>110</td>\n",
              "      <td>10.30</td>\n",
              "      <td>162.6</td>\n",
              "      <td>104</td>\n",
              "      <td>7.32</td>\n",
              "      <td>12.2</td>\n",
              "      <td>5</td>\n",
              "      <td>3.29</td>\n",
              "      <td>0</td>\n",
              "      <td>False.</td>\n",
              "    </tr>\n",
              "    <tr>\n",
              "      <th>3</th>\n",
              "      <td>OH</td>\n",
              "      <td>84</td>\n",
              "      <td>408</td>\n",
              "      <td>375-9999</td>\n",
              "      <td>yes</td>\n",
              "      <td>no</td>\n",
              "      <td>0</td>\n",
              "      <td>299.4</td>\n",
              "      <td>71</td>\n",
              "      <td>50.90</td>\n",
              "      <td>...</td>\n",
              "      <td>88</td>\n",
              "      <td>5.26</td>\n",
              "      <td>196.9</td>\n",
              "      <td>89</td>\n",
              "      <td>8.86</td>\n",
              "      <td>6.6</td>\n",
              "      <td>7</td>\n",
              "      <td>1.78</td>\n",
              "      <td>2</td>\n",
              "      <td>False.</td>\n",
              "    </tr>\n",
              "    <tr>\n",
              "      <th>4</th>\n",
              "      <td>OK</td>\n",
              "      <td>75</td>\n",
              "      <td>415</td>\n",
              "      <td>330-6626</td>\n",
              "      <td>yes</td>\n",
              "      <td>no</td>\n",
              "      <td>0</td>\n",
              "      <td>166.7</td>\n",
              "      <td>113</td>\n",
              "      <td>28.34</td>\n",
              "      <td>...</td>\n",
              "      <td>122</td>\n",
              "      <td>12.61</td>\n",
              "      <td>186.9</td>\n",
              "      <td>121</td>\n",
              "      <td>8.41</td>\n",
              "      <td>10.1</td>\n",
              "      <td>3</td>\n",
              "      <td>2.73</td>\n",
              "      <td>3</td>\n",
              "      <td>False.</td>\n",
              "    </tr>\n",
              "  </tbody>\n",
              "</table>\n",
              "<p>5 rows × 21 columns</p>\n",
              "</div>"
            ],
            "text/plain": [
              "  State  Account Length  Area Code     Phone Int'l Plan VMail Plan  \\\n",
              "0    KS             128        415  382-4657         no        yes   \n",
              "1    OH             107        415  371-7191         no        yes   \n",
              "2    NJ             137        415  358-1921         no         no   \n",
              "3    OH              84        408  375-9999        yes         no   \n",
              "4    OK              75        415  330-6626        yes         no   \n",
              "\n",
              "   VMail Message  Day Mins  Day Calls  Day Charge   ...    Eve Calls  \\\n",
              "0             25     265.1        110       45.07   ...           99   \n",
              "1             26     161.6        123       27.47   ...          103   \n",
              "2              0     243.4        114       41.38   ...          110   \n",
              "3              0     299.4         71       50.90   ...           88   \n",
              "4              0     166.7        113       28.34   ...          122   \n",
              "\n",
              "   Eve Charge  Night Mins  Night Calls  Night Charge  Intl Mins  Intl Calls  \\\n",
              "0       16.78       244.7           91         11.01       10.0           3   \n",
              "1       16.62       254.4          103         11.45       13.7           3   \n",
              "2       10.30       162.6          104          7.32       12.2           5   \n",
              "3        5.26       196.9           89          8.86        6.6           7   \n",
              "4       12.61       186.9          121          8.41       10.1           3   \n",
              "\n",
              "   Intl Charge  CustServ Calls  Churn?  \n",
              "0         2.70               1  False.  \n",
              "1         3.70               1  False.  \n",
              "2         3.29               0  False.  \n",
              "3         1.78               2  False.  \n",
              "4         2.73               3  False.  \n",
              "\n",
              "[5 rows x 21 columns]"
            ]
          },
          "metadata": {
            "tags": []
          },
          "execution_count": 24
        }
      ]
    },
    {
      "cell_type": "code",
      "metadata": {
        "id": "yklBbDHJ1GGa",
        "colab_type": "code",
        "colab": {
          "base_uri": "https://localhost:8080/",
          "height": 102
        },
        "outputId": "7e4456be-b7d4-4123-9618-051f4d3207ca"
      },
      "source": [
        "data2.columns.values"
      ],
      "execution_count": 10,
      "outputs": [
        {
          "output_type": "execute_result",
          "data": {
            "text/plain": [
              "array(['State', 'Account Length', 'Area Code', 'Phone', \"Int'l Plan\",\n",
              "       'VMail Plan', 'VMail Message', 'Day Mins', 'Day Calls',\n",
              "       'Day Charge', 'Eve Mins', 'Eve Calls', 'Eve Charge', 'Night Mins',\n",
              "       'Night Calls', 'Night Charge', 'Intl Mins', 'Intl Calls',\n",
              "       'Intl Charge', 'CustServ Calls', 'Churn?'], dtype=object)"
            ]
          },
          "metadata": {
            "tags": []
          },
          "execution_count": 10
        }
      ]
    },
    {
      "cell_type": "code",
      "metadata": {
        "id": "8qtnFCde1GGe",
        "colab_type": "code",
        "colab": {}
      },
      "source": [
        "#data_cols = pd.read_csv(mainpath+\"/\"+\"customer-churn-model/Customer Churn Columns.csv\")\n",
        "\n",
        "data_cols = pd.read_csv(\"https://raw.githubusercontent.com/jpieroabarcam/machine-learning-python/master/datasets/customer-churn-model/Customer%20Churn%20Columns.csv\")"
      ],
      "execution_count": 12,
      "outputs": []
    },
    {
      "cell_type": "code",
      "metadata": {
        "id": "IM27ntk11GGh",
        "colab_type": "code",
        "colab": {
          "base_uri": "https://localhost:8080/",
          "height": 51
        },
        "outputId": "9041c1f5-dc8e-4e71-c52a-bc1f7d62cb28"
      },
      "source": [
        "data_col_list = data_cols[\"Column_Names\"].tolist()\n",
        "#data2 = pd.read_csv(mainpath + \"/\" + \"customer-churn-model/Customer Churn Model.txt\",header = None, names =data_col_list)\n",
        "\n",
        "data2 = pd.read_csv(\"https://raw.githubusercontent.com/jpieroabarcam/machine-learning-python/master/datasets/customer-churn-model/Customer%20Churn%20Model.txt\",\n",
        "          header = None, names = data_col_list)\n",
        "\n",
        "data2.columns.values"
      ],
      "execution_count": 21,
      "outputs": [
        {
          "output_type": "execute_result",
          "data": {
            "text/plain": [
              "array(['A', 'B', 'C', 'D', 'E', 'F', 'G', 'H', 'I', 'J', 'K', 'L', 'M',\n",
              "       'N', 'O', 'P', 'Q', 'R', 'S', 'T', 'U'], dtype=object)"
            ]
          },
          "metadata": {
            "tags": []
          },
          "execution_count": 21
        }
      ]
    },
    {
      "cell_type": "markdown",
      "metadata": {
        "id": "k0ruQbL41GGj",
        "colab_type": "text"
      },
      "source": [
        "# Carga de datos a través de la función open"
      ]
    },
    {
      "cell_type": "code",
      "metadata": {
        "id": "Roib5-AR1GGk",
        "colab_type": "code",
        "colab": {
          "base_uri": "https://localhost:8080/",
          "height": 34
        },
        "outputId": "672a19a5-45db-48da-9540-a4ffed08b338"
      },
      "source": [
        "# ya cargado desde google Drive\n",
        "data3 = open(\"customer-churn-model/Customer Churn Model.txt\", \"r\")\n",
        "\n",
        "#data3 = open(\"https://raw.githubusercontent.com/jpieroabarcam/machine-learning-python/master/datasets/customer-churn-model/Customer%20Churn%20Model.txt\", \"r\")\n"
      ],
      "execution_count": 32,
      "outputs": [
        {
          "output_type": "stream",
          "text": [
            "athletes  customer-churn-model\ttitanic\n"
          ],
          "name": "stdout"
        }
      ]
    },
    {
      "cell_type": "code",
      "metadata": {
        "id": "tkxe0DZr1GGm",
        "colab_type": "code",
        "colab": {}
      },
      "source": [
        "cols = data3.readline().strip().split(\",\")\n",
        "n_cols = len(cols)\n"
      ],
      "execution_count": 33,
      "outputs": []
    },
    {
      "cell_type": "code",
      "metadata": {
        "id": "GK1_3Pgc1GGp",
        "colab_type": "code",
        "colab": {}
      },
      "source": [
        "counter = 0 \n",
        "main_dict = {}\n",
        "for col in cols:\n",
        "    main_dict[col] = []"
      ],
      "execution_count": 34,
      "outputs": []
    },
    {
      "cell_type": "code",
      "metadata": {
        "id": "SRMtSxpF1GGs",
        "colab_type": "code",
        "colab": {
          "base_uri": "https://localhost:8080/",
          "height": 34
        },
        "outputId": "b62fa747-32f5-4e39-a669-f7892e93ca37"
      },
      "source": [
        "for line in data3:\n",
        "    values = line.strip().split(\",\")\n",
        "    for i in range(len(cols)):\n",
        "        main_dict[cols[i]].append(values[i])\n",
        "    counter += 1\n",
        "    \n",
        "print(\"El dataset tiene %d filas y %d columnas\" %(counter,n_cols))"
      ],
      "execution_count": 35,
      "outputs": [
        {
          "output_type": "stream",
          "text": [
            "El dataset tiene 3333 filas y 21 columnas\n"
          ],
          "name": "stdout"
        }
      ]
    },
    {
      "cell_type": "code",
      "metadata": {
        "id": "Y2guz63B1GGv",
        "colab_type": "code",
        "colab": {
          "base_uri": "https://localhost:8080/",
          "height": 306
        },
        "outputId": "94c75383-95eb-468b-8904-45b4de8febef"
      },
      "source": [
        "df3= pd.DataFrame(main_dict)\n",
        "df3.head()"
      ],
      "execution_count": 37,
      "outputs": [
        {
          "output_type": "execute_result",
          "data": {
            "text/html": [
              "<div>\n",
              "<style scoped>\n",
              "    .dataframe tbody tr th:only-of-type {\n",
              "        vertical-align: middle;\n",
              "    }\n",
              "\n",
              "    .dataframe tbody tr th {\n",
              "        vertical-align: top;\n",
              "    }\n",
              "\n",
              "    .dataframe thead th {\n",
              "        text-align: right;\n",
              "    }\n",
              "</style>\n",
              "<table border=\"1\" class=\"dataframe\">\n",
              "  <thead>\n",
              "    <tr style=\"text-align: right;\">\n",
              "      <th></th>\n",
              "      <th>State</th>\n",
              "      <th>Account Length</th>\n",
              "      <th>Area Code</th>\n",
              "      <th>Phone</th>\n",
              "      <th>Int'l Plan</th>\n",
              "      <th>VMail Plan</th>\n",
              "      <th>VMail Message</th>\n",
              "      <th>Day Mins</th>\n",
              "      <th>Day Calls</th>\n",
              "      <th>Day Charge</th>\n",
              "      <th>Eve Mins</th>\n",
              "      <th>Eve Calls</th>\n",
              "      <th>Eve Charge</th>\n",
              "      <th>Night Mins</th>\n",
              "      <th>Night Calls</th>\n",
              "      <th>Night Charge</th>\n",
              "      <th>Intl Mins</th>\n",
              "      <th>Intl Calls</th>\n",
              "      <th>Intl Charge</th>\n",
              "      <th>CustServ Calls</th>\n",
              "      <th>Churn?</th>\n",
              "    </tr>\n",
              "  </thead>\n",
              "  <tbody>\n",
              "    <tr>\n",
              "      <th>0</th>\n",
              "      <td>KS</td>\n",
              "      <td>128</td>\n",
              "      <td>415</td>\n",
              "      <td>382-4657</td>\n",
              "      <td>no</td>\n",
              "      <td>yes</td>\n",
              "      <td>25</td>\n",
              "      <td>265.100000</td>\n",
              "      <td>110</td>\n",
              "      <td>45.070000</td>\n",
              "      <td>197.400000</td>\n",
              "      <td>99</td>\n",
              "      <td>16.780000</td>\n",
              "      <td>244.700000</td>\n",
              "      <td>91</td>\n",
              "      <td>11.010000</td>\n",
              "      <td>10.000000</td>\n",
              "      <td>3</td>\n",
              "      <td>2.700000</td>\n",
              "      <td>1</td>\n",
              "      <td>False.</td>\n",
              "    </tr>\n",
              "    <tr>\n",
              "      <th>1</th>\n",
              "      <td>OH</td>\n",
              "      <td>107</td>\n",
              "      <td>415</td>\n",
              "      <td>371-7191</td>\n",
              "      <td>no</td>\n",
              "      <td>yes</td>\n",
              "      <td>26</td>\n",
              "      <td>161.600000</td>\n",
              "      <td>123</td>\n",
              "      <td>27.470000</td>\n",
              "      <td>195.500000</td>\n",
              "      <td>103</td>\n",
              "      <td>16.620000</td>\n",
              "      <td>254.400000</td>\n",
              "      <td>103</td>\n",
              "      <td>11.450000</td>\n",
              "      <td>13.700000</td>\n",
              "      <td>3</td>\n",
              "      <td>3.700000</td>\n",
              "      <td>1</td>\n",
              "      <td>False.</td>\n",
              "    </tr>\n",
              "    <tr>\n",
              "      <th>2</th>\n",
              "      <td>NJ</td>\n",
              "      <td>137</td>\n",
              "      <td>415</td>\n",
              "      <td>358-1921</td>\n",
              "      <td>no</td>\n",
              "      <td>no</td>\n",
              "      <td>0</td>\n",
              "      <td>243.400000</td>\n",
              "      <td>114</td>\n",
              "      <td>41.380000</td>\n",
              "      <td>121.200000</td>\n",
              "      <td>110</td>\n",
              "      <td>10.300000</td>\n",
              "      <td>162.600000</td>\n",
              "      <td>104</td>\n",
              "      <td>7.320000</td>\n",
              "      <td>12.200000</td>\n",
              "      <td>5</td>\n",
              "      <td>3.290000</td>\n",
              "      <td>0</td>\n",
              "      <td>False.</td>\n",
              "    </tr>\n",
              "    <tr>\n",
              "      <th>3</th>\n",
              "      <td>OH</td>\n",
              "      <td>84</td>\n",
              "      <td>408</td>\n",
              "      <td>375-9999</td>\n",
              "      <td>yes</td>\n",
              "      <td>no</td>\n",
              "      <td>0</td>\n",
              "      <td>299.400000</td>\n",
              "      <td>71</td>\n",
              "      <td>50.900000</td>\n",
              "      <td>61.900000</td>\n",
              "      <td>88</td>\n",
              "      <td>5.260000</td>\n",
              "      <td>196.900000</td>\n",
              "      <td>89</td>\n",
              "      <td>8.860000</td>\n",
              "      <td>6.600000</td>\n",
              "      <td>7</td>\n",
              "      <td>1.780000</td>\n",
              "      <td>2</td>\n",
              "      <td>False.</td>\n",
              "    </tr>\n",
              "    <tr>\n",
              "      <th>4</th>\n",
              "      <td>OK</td>\n",
              "      <td>75</td>\n",
              "      <td>415</td>\n",
              "      <td>330-6626</td>\n",
              "      <td>yes</td>\n",
              "      <td>no</td>\n",
              "      <td>0</td>\n",
              "      <td>166.700000</td>\n",
              "      <td>113</td>\n",
              "      <td>28.340000</td>\n",
              "      <td>148.300000</td>\n",
              "      <td>122</td>\n",
              "      <td>12.610000</td>\n",
              "      <td>186.900000</td>\n",
              "      <td>121</td>\n",
              "      <td>8.410000</td>\n",
              "      <td>10.100000</td>\n",
              "      <td>3</td>\n",
              "      <td>2.730000</td>\n",
              "      <td>3</td>\n",
              "      <td>False.</td>\n",
              "    </tr>\n",
              "  </tbody>\n",
              "</table>\n",
              "</div>"
            ],
            "text/plain": [
              "  State Account Length Area Code  ... Intl Charge CustServ Calls  Churn?\n",
              "0    KS            128       415  ...    2.700000              1  False.\n",
              "1    OH            107       415  ...    3.700000              1  False.\n",
              "2    NJ            137       415  ...    3.290000              0  False.\n",
              "3    OH             84       408  ...    1.780000              2  False.\n",
              "4    OK             75       415  ...    2.730000              3  False.\n",
              "\n",
              "[5 rows x 21 columns]"
            ]
          },
          "metadata": {
            "tags": []
          },
          "execution_count": 37
        }
      ]
    },
    {
      "cell_type": "markdown",
      "metadata": {
        "id": "KN5LuETs1GGy",
        "colab_type": "text"
      },
      "source": [
        "## Lectura y escritura de ficheros"
      ]
    },
    {
      "cell_type": "code",
      "metadata": {
        "id": "XdJIwOz11GGy",
        "colab_type": "code",
        "colab": {}
      },
      "source": [
        "infile = \"customer-churn-model/Customer Churn Model.txt\"\n",
        "outfile = \"customer-churn-model/Tab Customer Churn Model.txt\""
      ],
      "execution_count": 38,
      "outputs": []
    },
    {
      "cell_type": "code",
      "metadata": {
        "id": "mbdoQC3Y1GG1",
        "colab_type": "code",
        "colab": {}
      },
      "source": [
        "with open(infile,'r') as infile1:\n",
        "    with open(outfile,'w') as outfile1:\n",
        "        for line in infile1:\n",
        "            fields = line.strip().split(',')\n",
        "            outfile1.write('\\t'.join(fields))\n",
        "            outfile1.write('\\n')"
      ],
      "execution_count": 39,
      "outputs": []
    },
    {
      "cell_type": "code",
      "metadata": {
        "id": "bCapHWU41GG3",
        "colab_type": "code",
        "colab": {
          "base_uri": "https://localhost:8080/",
          "height": 606
        },
        "outputId": "230e3b0e-b696-4190-d4e7-c895c4bd3e13"
      },
      "source": [
        "df4 = pd.read_csv(outfile, sep = '\\t')\n",
        "df4"
      ],
      "execution_count": 40,
      "outputs": [
        {
          "output_type": "execute_result",
          "data": {
            "text/html": [
              "<div>\n",
              "<style scoped>\n",
              "    .dataframe tbody tr th:only-of-type {\n",
              "        vertical-align: middle;\n",
              "    }\n",
              "\n",
              "    .dataframe tbody tr th {\n",
              "        vertical-align: top;\n",
              "    }\n",
              "\n",
              "    .dataframe thead th {\n",
              "        text-align: right;\n",
              "    }\n",
              "</style>\n",
              "<table border=\"1\" class=\"dataframe\">\n",
              "  <thead>\n",
              "    <tr style=\"text-align: right;\">\n",
              "      <th></th>\n",
              "      <th>State</th>\n",
              "      <th>Account Length</th>\n",
              "      <th>Area Code</th>\n",
              "      <th>Phone</th>\n",
              "      <th>Int'l Plan</th>\n",
              "      <th>VMail Plan</th>\n",
              "      <th>VMail Message</th>\n",
              "      <th>Day Mins</th>\n",
              "      <th>Day Calls</th>\n",
              "      <th>Day Charge</th>\n",
              "      <th>Eve Mins</th>\n",
              "      <th>Eve Calls</th>\n",
              "      <th>Eve Charge</th>\n",
              "      <th>Night Mins</th>\n",
              "      <th>Night Calls</th>\n",
              "      <th>Night Charge</th>\n",
              "      <th>Intl Mins</th>\n",
              "      <th>Intl Calls</th>\n",
              "      <th>Intl Charge</th>\n",
              "      <th>CustServ Calls</th>\n",
              "      <th>Churn?</th>\n",
              "    </tr>\n",
              "  </thead>\n",
              "  <tbody>\n",
              "    <tr>\n",
              "      <th>0</th>\n",
              "      <td>KS</td>\n",
              "      <td>128</td>\n",
              "      <td>415</td>\n",
              "      <td>382-4657</td>\n",
              "      <td>no</td>\n",
              "      <td>yes</td>\n",
              "      <td>25</td>\n",
              "      <td>265.1</td>\n",
              "      <td>110</td>\n",
              "      <td>45.07</td>\n",
              "      <td>197.4</td>\n",
              "      <td>99</td>\n",
              "      <td>16.78</td>\n",
              "      <td>244.7</td>\n",
              "      <td>91</td>\n",
              "      <td>11.01</td>\n",
              "      <td>10.0</td>\n",
              "      <td>3</td>\n",
              "      <td>2.70</td>\n",
              "      <td>1</td>\n",
              "      <td>False.</td>\n",
              "    </tr>\n",
              "    <tr>\n",
              "      <th>1</th>\n",
              "      <td>OH</td>\n",
              "      <td>107</td>\n",
              "      <td>415</td>\n",
              "      <td>371-7191</td>\n",
              "      <td>no</td>\n",
              "      <td>yes</td>\n",
              "      <td>26</td>\n",
              "      <td>161.6</td>\n",
              "      <td>123</td>\n",
              "      <td>27.47</td>\n",
              "      <td>195.5</td>\n",
              "      <td>103</td>\n",
              "      <td>16.62</td>\n",
              "      <td>254.4</td>\n",
              "      <td>103</td>\n",
              "      <td>11.45</td>\n",
              "      <td>13.7</td>\n",
              "      <td>3</td>\n",
              "      <td>3.70</td>\n",
              "      <td>1</td>\n",
              "      <td>False.</td>\n",
              "    </tr>\n",
              "    <tr>\n",
              "      <th>2</th>\n",
              "      <td>NJ</td>\n",
              "      <td>137</td>\n",
              "      <td>415</td>\n",
              "      <td>358-1921</td>\n",
              "      <td>no</td>\n",
              "      <td>no</td>\n",
              "      <td>0</td>\n",
              "      <td>243.4</td>\n",
              "      <td>114</td>\n",
              "      <td>41.38</td>\n",
              "      <td>121.2</td>\n",
              "      <td>110</td>\n",
              "      <td>10.30</td>\n",
              "      <td>162.6</td>\n",
              "      <td>104</td>\n",
              "      <td>7.32</td>\n",
              "      <td>12.2</td>\n",
              "      <td>5</td>\n",
              "      <td>3.29</td>\n",
              "      <td>0</td>\n",
              "      <td>False.</td>\n",
              "    </tr>\n",
              "    <tr>\n",
              "      <th>3</th>\n",
              "      <td>OH</td>\n",
              "      <td>84</td>\n",
              "      <td>408</td>\n",
              "      <td>375-9999</td>\n",
              "      <td>yes</td>\n",
              "      <td>no</td>\n",
              "      <td>0</td>\n",
              "      <td>299.4</td>\n",
              "      <td>71</td>\n",
              "      <td>50.90</td>\n",
              "      <td>61.9</td>\n",
              "      <td>88</td>\n",
              "      <td>5.26</td>\n",
              "      <td>196.9</td>\n",
              "      <td>89</td>\n",
              "      <td>8.86</td>\n",
              "      <td>6.6</td>\n",
              "      <td>7</td>\n",
              "      <td>1.78</td>\n",
              "      <td>2</td>\n",
              "      <td>False.</td>\n",
              "    </tr>\n",
              "    <tr>\n",
              "      <th>4</th>\n",
              "      <td>OK</td>\n",
              "      <td>75</td>\n",
              "      <td>415</td>\n",
              "      <td>330-6626</td>\n",
              "      <td>yes</td>\n",
              "      <td>no</td>\n",
              "      <td>0</td>\n",
              "      <td>166.7</td>\n",
              "      <td>113</td>\n",
              "      <td>28.34</td>\n",
              "      <td>148.3</td>\n",
              "      <td>122</td>\n",
              "      <td>12.61</td>\n",
              "      <td>186.9</td>\n",
              "      <td>121</td>\n",
              "      <td>8.41</td>\n",
              "      <td>10.1</td>\n",
              "      <td>3</td>\n",
              "      <td>2.73</td>\n",
              "      <td>3</td>\n",
              "      <td>False.</td>\n",
              "    </tr>\n",
              "    <tr>\n",
              "      <th>...</th>\n",
              "      <td>...</td>\n",
              "      <td>...</td>\n",
              "      <td>...</td>\n",
              "      <td>...</td>\n",
              "      <td>...</td>\n",
              "      <td>...</td>\n",
              "      <td>...</td>\n",
              "      <td>...</td>\n",
              "      <td>...</td>\n",
              "      <td>...</td>\n",
              "      <td>...</td>\n",
              "      <td>...</td>\n",
              "      <td>...</td>\n",
              "      <td>...</td>\n",
              "      <td>...</td>\n",
              "      <td>...</td>\n",
              "      <td>...</td>\n",
              "      <td>...</td>\n",
              "      <td>...</td>\n",
              "      <td>...</td>\n",
              "      <td>...</td>\n",
              "    </tr>\n",
              "    <tr>\n",
              "      <th>3328</th>\n",
              "      <td>AZ</td>\n",
              "      <td>192</td>\n",
              "      <td>415</td>\n",
              "      <td>414-4276</td>\n",
              "      <td>no</td>\n",
              "      <td>yes</td>\n",
              "      <td>36</td>\n",
              "      <td>156.2</td>\n",
              "      <td>77</td>\n",
              "      <td>26.55</td>\n",
              "      <td>215.5</td>\n",
              "      <td>126</td>\n",
              "      <td>18.32</td>\n",
              "      <td>279.1</td>\n",
              "      <td>83</td>\n",
              "      <td>12.56</td>\n",
              "      <td>9.9</td>\n",
              "      <td>6</td>\n",
              "      <td>2.67</td>\n",
              "      <td>2</td>\n",
              "      <td>False.</td>\n",
              "    </tr>\n",
              "    <tr>\n",
              "      <th>3329</th>\n",
              "      <td>WV</td>\n",
              "      <td>68</td>\n",
              "      <td>415</td>\n",
              "      <td>370-3271</td>\n",
              "      <td>no</td>\n",
              "      <td>no</td>\n",
              "      <td>0</td>\n",
              "      <td>231.1</td>\n",
              "      <td>57</td>\n",
              "      <td>39.29</td>\n",
              "      <td>153.4</td>\n",
              "      <td>55</td>\n",
              "      <td>13.04</td>\n",
              "      <td>191.3</td>\n",
              "      <td>123</td>\n",
              "      <td>8.61</td>\n",
              "      <td>9.6</td>\n",
              "      <td>4</td>\n",
              "      <td>2.59</td>\n",
              "      <td>3</td>\n",
              "      <td>False.</td>\n",
              "    </tr>\n",
              "    <tr>\n",
              "      <th>3330</th>\n",
              "      <td>RI</td>\n",
              "      <td>28</td>\n",
              "      <td>510</td>\n",
              "      <td>328-8230</td>\n",
              "      <td>no</td>\n",
              "      <td>no</td>\n",
              "      <td>0</td>\n",
              "      <td>180.8</td>\n",
              "      <td>109</td>\n",
              "      <td>30.74</td>\n",
              "      <td>288.8</td>\n",
              "      <td>58</td>\n",
              "      <td>24.55</td>\n",
              "      <td>191.9</td>\n",
              "      <td>91</td>\n",
              "      <td>8.64</td>\n",
              "      <td>14.1</td>\n",
              "      <td>6</td>\n",
              "      <td>3.81</td>\n",
              "      <td>2</td>\n",
              "      <td>False.</td>\n",
              "    </tr>\n",
              "    <tr>\n",
              "      <th>3331</th>\n",
              "      <td>CT</td>\n",
              "      <td>184</td>\n",
              "      <td>510</td>\n",
              "      <td>364-6381</td>\n",
              "      <td>yes</td>\n",
              "      <td>no</td>\n",
              "      <td>0</td>\n",
              "      <td>213.8</td>\n",
              "      <td>105</td>\n",
              "      <td>36.35</td>\n",
              "      <td>159.6</td>\n",
              "      <td>84</td>\n",
              "      <td>13.57</td>\n",
              "      <td>139.2</td>\n",
              "      <td>137</td>\n",
              "      <td>6.26</td>\n",
              "      <td>5.0</td>\n",
              "      <td>10</td>\n",
              "      <td>1.35</td>\n",
              "      <td>2</td>\n",
              "      <td>False.</td>\n",
              "    </tr>\n",
              "    <tr>\n",
              "      <th>3332</th>\n",
              "      <td>TN</td>\n",
              "      <td>74</td>\n",
              "      <td>415</td>\n",
              "      <td>400-4344</td>\n",
              "      <td>no</td>\n",
              "      <td>yes</td>\n",
              "      <td>25</td>\n",
              "      <td>234.4</td>\n",
              "      <td>113</td>\n",
              "      <td>39.85</td>\n",
              "      <td>265.9</td>\n",
              "      <td>82</td>\n",
              "      <td>22.60</td>\n",
              "      <td>241.4</td>\n",
              "      <td>77</td>\n",
              "      <td>10.86</td>\n",
              "      <td>13.7</td>\n",
              "      <td>4</td>\n",
              "      <td>3.70</td>\n",
              "      <td>0</td>\n",
              "      <td>False.</td>\n",
              "    </tr>\n",
              "  </tbody>\n",
              "</table>\n",
              "<p>3333 rows × 21 columns</p>\n",
              "</div>"
            ],
            "text/plain": [
              "     State  Account Length  Area Code  ... Intl Charge CustServ Calls  Churn?\n",
              "0       KS             128        415  ...        2.70              1  False.\n",
              "1       OH             107        415  ...        3.70              1  False.\n",
              "2       NJ             137        415  ...        3.29              0  False.\n",
              "3       OH              84        408  ...        1.78              2  False.\n",
              "4       OK              75        415  ...        2.73              3  False.\n",
              "...    ...             ...        ...  ...         ...            ...     ...\n",
              "3328    AZ             192        415  ...        2.67              2  False.\n",
              "3329    WV              68        415  ...        2.59              3  False.\n",
              "3330    RI              28        510  ...        3.81              2  False.\n",
              "3331    CT             184        510  ...        1.35              2  False.\n",
              "3332    TN              74        415  ...        3.70              0  False.\n",
              "\n",
              "[3333 rows x 21 columns]"
            ]
          },
          "metadata": {
            "tags": []
          },
          "execution_count": 40
        }
      ]
    },
    {
      "cell_type": "markdown",
      "metadata": {
        "id": "yxDJ_P_91GG6",
        "colab_type": "text"
      },
      "source": [
        "# Leer datos desde una url"
      ]
    },
    {
      "cell_type": "code",
      "metadata": {
        "id": "FTUw5MdB1GG6",
        "colab_type": "code",
        "colab": {}
      },
      "source": [
        "medals_url = 'http://winterolympicsmedals.com/medals.csv'"
      ],
      "execution_count": 41,
      "outputs": []
    },
    {
      "cell_type": "code",
      "metadata": {
        "id": "mr6A5Lnw1GG9",
        "colab_type": "code",
        "colab": {}
      },
      "source": [
        "medals_data = pd.read_csv(medals_url)"
      ],
      "execution_count": 42,
      "outputs": []
    },
    {
      "cell_type": "code",
      "metadata": {
        "id": "wRNeiD491GHA",
        "colab_type": "code",
        "colab": {
          "base_uri": "https://localhost:8080/",
          "height": 204
        },
        "outputId": "03be0539-282f-4575-ee7d-a794dd5f7eaa"
      },
      "source": [
        "medals_data.head()"
      ],
      "execution_count": 43,
      "outputs": [
        {
          "output_type": "execute_result",
          "data": {
            "text/html": [
              "<div>\n",
              "<style scoped>\n",
              "    .dataframe tbody tr th:only-of-type {\n",
              "        vertical-align: middle;\n",
              "    }\n",
              "\n",
              "    .dataframe tbody tr th {\n",
              "        vertical-align: top;\n",
              "    }\n",
              "\n",
              "    .dataframe thead th {\n",
              "        text-align: right;\n",
              "    }\n",
              "</style>\n",
              "<table border=\"1\" class=\"dataframe\">\n",
              "  <thead>\n",
              "    <tr style=\"text-align: right;\">\n",
              "      <th></th>\n",
              "      <th>Year</th>\n",
              "      <th>City</th>\n",
              "      <th>Sport</th>\n",
              "      <th>Discipline</th>\n",
              "      <th>NOC</th>\n",
              "      <th>Event</th>\n",
              "      <th>Event gender</th>\n",
              "      <th>Medal</th>\n",
              "    </tr>\n",
              "  </thead>\n",
              "  <tbody>\n",
              "    <tr>\n",
              "      <th>0</th>\n",
              "      <td>1924</td>\n",
              "      <td>Chamonix</td>\n",
              "      <td>Skating</td>\n",
              "      <td>Figure skating</td>\n",
              "      <td>AUT</td>\n",
              "      <td>individual</td>\n",
              "      <td>M</td>\n",
              "      <td>Silver</td>\n",
              "    </tr>\n",
              "    <tr>\n",
              "      <th>1</th>\n",
              "      <td>1924</td>\n",
              "      <td>Chamonix</td>\n",
              "      <td>Skating</td>\n",
              "      <td>Figure skating</td>\n",
              "      <td>AUT</td>\n",
              "      <td>individual</td>\n",
              "      <td>W</td>\n",
              "      <td>Gold</td>\n",
              "    </tr>\n",
              "    <tr>\n",
              "      <th>2</th>\n",
              "      <td>1924</td>\n",
              "      <td>Chamonix</td>\n",
              "      <td>Skating</td>\n",
              "      <td>Figure skating</td>\n",
              "      <td>AUT</td>\n",
              "      <td>pairs</td>\n",
              "      <td>X</td>\n",
              "      <td>Gold</td>\n",
              "    </tr>\n",
              "    <tr>\n",
              "      <th>3</th>\n",
              "      <td>1924</td>\n",
              "      <td>Chamonix</td>\n",
              "      <td>Bobsleigh</td>\n",
              "      <td>Bobsleigh</td>\n",
              "      <td>BEL</td>\n",
              "      <td>four-man</td>\n",
              "      <td>M</td>\n",
              "      <td>Bronze</td>\n",
              "    </tr>\n",
              "    <tr>\n",
              "      <th>4</th>\n",
              "      <td>1924</td>\n",
              "      <td>Chamonix</td>\n",
              "      <td>Ice Hockey</td>\n",
              "      <td>Ice Hockey</td>\n",
              "      <td>CAN</td>\n",
              "      <td>ice hockey</td>\n",
              "      <td>M</td>\n",
              "      <td>Gold</td>\n",
              "    </tr>\n",
              "  </tbody>\n",
              "</table>\n",
              "</div>"
            ],
            "text/plain": [
              "   Year      City       Sport  ...       Event Event gender   Medal\n",
              "0  1924  Chamonix     Skating  ...  individual            M  Silver\n",
              "1  1924  Chamonix     Skating  ...  individual            W    Gold\n",
              "2  1924  Chamonix     Skating  ...       pairs            X    Gold\n",
              "3  1924  Chamonix   Bobsleigh  ...    four-man            M  Bronze\n",
              "4  1924  Chamonix  Ice Hockey  ...  ice hockey            M    Gold\n",
              "\n",
              "[5 rows x 8 columns]"
            ]
          },
          "metadata": {
            "tags": []
          },
          "execution_count": 43
        }
      ]
    },
    {
      "cell_type": "code",
      "metadata": {
        "id": "3TE0IOwg1GHC",
        "colab_type": "code",
        "colab": {}
      },
      "source": [
        "import urllib3\n",
        "http= urllib3.PoolManager()\n",
        "r = http.request('GET', medals_url)\n",
        "r.status\n",
        "response = \"\".join(map(chr,r.data))"
      ],
      "execution_count": 44,
      "outputs": []
    },
    {
      "cell_type": "code",
      "metadata": {
        "id": "crQ0mtcy1GHF",
        "colab_type": "code",
        "colab": {}
      },
      "source": [
        "import csv\n",
        "import numpy as np\n",
        "cr = csv.reader(response)\n"
      ],
      "execution_count": 45,
      "outputs": []
    },
    {
      "cell_type": "code",
      "metadata": {
        "id": "BGzO35Xr1GHI",
        "colab_type": "code",
        "colab": {
          "base_uri": "https://localhost:8080/",
          "height": 120
        },
        "outputId": "583e1c2b-502f-41f5-b50a-41c654cd98d5"
      },
      "source": [
        "cad = \"\";\n",
        "for row in cr:\n",
        "    cad = cad +'\\n'.join(row)\n",
        "cad ## tratando de concatenar todas los elementos que llegan\n"
      ],
      "execution_count": 46,
      "outputs": [
        {
          "output_type": "execute_result",
          "data": {
            "application/vnd.google.colaboratory.intrinsic": {
              "type": "string"
            },
            "text/plain": [
              "\"Year\\nCity\\nSport\\nDiscipline\\nNOC\\nEvent\\nEvent gender\\nMedal1924\\nChamonix\\nSkating\\nFigure skating\\nAUT\\nindividual\\nM\\nSilver1924\\nChamonix\\nSkating\\nFigure skating\\nAUT\\nindividual\\nW\\nGold1924\\nChamonix\\nSkating\\nFigure skating\\nAUT\\npairs\\nX\\nGold1924\\nChamonix\\nBobsleigh\\nBobsleigh\\nBEL\\nfour-man\\nM\\nBronze1924\\nChamonix\\nIce Hockey\\nIce Hockey\\nCAN\\nice hockey\\nM\\nGold1924\\nChamonix\\nBiathlon\\nBiathlon\\nFIN\\nmilitary patrol\\nM\\nSilver1924\\nChamonix\\nSkating\\nFigure skating\\nFIN\\npairs\\nX\\nSilver1924\\nChamonix\\nSkating\\nSpeed skating\\nFIN\\n10000m\\nM\\nGold1924\\nChamonix\\nSkating\\nSpeed skating\\nFIN\\n10000m\\nM\\nSilver1924\\nChamonix\\nSkating\\nSpeed skating\\nFIN\\n1500m\\nM\\nGold1924\\nChamonix\\nSkating\\nSpeed skating\\nFIN\\n5000m\\nM\\nGold1924\\nChamonix\\nSkating\\nSpeed skating\\nFIN\\n5000m\\nM\\nSilver1924\\nChamonix\\nSkating\\nSpeed skating\\nFIN\\n500m\\nM\\nBronze1924\\nChamonix\\nSkating\\nSpeed skating\\nFIN\\ncombined (4 events)\\nM\\nBronze1924\\nChamonix\\nSkating\\nSpeed skating\\nFIN\\ncombined (4 events)\\nM\\nGold1924\\nChamonix\\nSkiing\\nCross Country S\\nFIN\\n18km\\nM\\nBronze1924\\nChamonix\\nBiathlon\\nBiathlon\\nFRA\\nmilitary patrol\\nM\\nBronze1924\\nChamonix\\nCurling\\nCurling\\nFRA\\ncurling\\nM\\nBronze1924\\nChamonix\\nSkating\\nFigure skating\\nFRA\\npairs\\nX\\nBronze1924\\nChamonix\\nBobsleigh\\nBobsleigh\\nGBR\\nfour-man\\nM\\nSilver1924\\nChamonix\\nCurling\\nCurling\\nGBR\\ncurling\\nM\\nGold1924\\nChamonix\\nIce Hockey\\nIce Hockey\\nGBR\\nice hockey\\nM\\nBronze1924\\nChamonix\\nSkating\\nFigure skating\\nGBR\\nindividual\\nW\\nBronze1924\\nChamonix\\nSkating\\nSpeed skating\\nNOR\\n10000m\\nM\\nBronze1924\\nChamonix\\nSkating\\nSpeed skating\\nNOR\\n1500m\\nM\\nBronze1924\\nChamonix\\nSkating\\nSpeed skating\\nNOR\\n1500m\\nM\\nSilver1924\\nChamonix\\nSkating\\nSpeed skating\\nNOR\\n5000m\\nM\\nBronze1924\\nChamonix\\nSkating\\nSpeed skating\\nNOR\\n500m\\nM\\nBronze1924\\nChamonix\\nSkating\\nSpeed skating\\nNOR\\n500m\\nM\\nSilver1924\\nChamonix\\nSkating\\nSpeed skating\\nNOR\\ncombined (4 events)\\nM\\nSilver1924\\nChamonix\\nSkiing\\nCross Country S\\nNOR\\n18km\\nM\\nGold1924\\nChamonix\\nSkiing\\nCross Country S\\nNOR\\n18km\\nM\\nSilver1924\\nChamonix\\nSkiing\\nCross Country S\\nNOR\\n50km\\nM\\nBronze1924\\nChamonix\\nSkiing\\nCross Country S\\nNOR\\n50km\\nM\\nGold1924\\nChamonix\\nSkiing\\nCross Country S\\nNOR\\n50km\\nM\\nSilver1924\\nChamonix\\nSkiing\\nNordic Combined\\nNOR\\nindividual\\nM\\nBronze1924\\nChamonix\\nSkiing\\nNordic Combined\\nNOR\\nindividual\\nM\\nGold1924\\nChamonix\\nSkiing\\nNordic Combined\\nNOR\\nindividual\\nM\\nSilver1924\\nChamonix\\nSkiing\\nSki Jumping\\nNOR\\nK90 individual (70m)\\nM\\nGold1924\\nChamonix\\nSkiing\\nSki Jumping\\nNOR\\nK90 individual (70m)\\nM\\nSilver1924\\nChamonix\\nBiathlon\\nBiathlon\\nSUI\\nmilitary patrol\\nM\\nGold1924\\nChamonix\\nBobsleigh\\nBobsleigh\\nSUI\\nfour-man\\nM\\nGold1924\\nChamonix\\nSkating\\nFigure skating\\nSUI\\nindividual\\nM\\nBronze1924\\nChamonix\\nCurling\\nCurling\\nSWE\\ncurling\\nM\\nSilver1924\\nChamonix\\nSkating\\nFigure skating\\nSWE\\nindividual\\nM\\nGold1924\\nChamonix\\nIce Hockey\\nIce Hockey\\nUSA\\nice hockey\\nM\\nSilver1924\\nChamonix\\nSkating\\nFigure skating\\nUSA\\nindividual\\nW\\nSilver1924\\nChamonix\\nSkating\\nSpeed skating\\nUSA\\n500m\\nM\\nGold1924\\nChamonix\\nSkiing\\nSki Jumping\\nUSA\\nK90 individual (70m)\\nM\\nBronze1928\\nSt. Moritz\\nSkating\\nFigure skating\\nAUT\\nindividual\\nM\\nSilver1928\\nSt. Moritz\\nSkating\\nFigure skating\\nAUT\\nindividual\\nW\\nSilver1928\\nSt. Moritz\\nSkating\\nFigure skating\\nAUT\\npairs\\nX\\nBronze1928\\nSt. Moritz\\nSkating\\nFigure skating\\nAUT\\npairs\\nX\\nSilver1928\\nSt. Moritz\\nSkating\\nFigure skating\\nBEL\\nindividual\\nM\\nBronze1928\\nSt. Moritz\\nIce Hockey\\nIce Hockey\\nCAN\\nice hockey\\nM\\nGold1928\\nSt. Moritz\\nSkating\\nSpeed skating\\nFIN\\n1500m\\nM\\nGold1928\\nSt. Moritz\\nSkating\\nSpeed skating\\nFIN\\n5000m\\nM\\nSilver1928\\nSt. Moritz\\nSkating\\nSpeed skating\\nFIN\\n500m\\nM\\nBronze1928\\nSt. Moritz\\nSkating\\nSpeed skating\\nFIN\\n500m\\nM\\nGold1928\\nSt. Moritz\\nSkating\\nFigure skating\\nFRA\\npairs\\nX\\nGold1928\\nSt. Moritz\\nBobsleigh\\nSkeleton\\nGBR\\nindividual\\nM\\nBronze1928\\nSt. Moritz\\nBobsleigh\\nBobsleigh\\nGER\\nfive-man\\nM\\nBronze1928\\nSt. Moritz\\nSkating\\nFigure skating\\nNOR\\nindividual\\nW\\nGold1928\\nSt. Moritz\\nSkating\\nSpeed skating\\nNOR\\n1500m\\nM\\nBronze1928\\nSt. Moritz\\nSkating\\nSpeed skating\\nNOR\\n1500m\\nM\\nSilver1928\\nSt. Moritz\\nSkating\\nSpeed skating\\nNOR\\n5000m\\nM\\nBronze1928\\nSt. Moritz\\nSkating\\nSpeed skating\\nNOR\\n5000m\\nM\\nGold1928\\nSt. Moritz\\nSkating\\nSpeed skating\\nNOR\\n500m\\nM\\nBronze1928\\nSt. Moritz\\nSkating\\nSpeed skating\\nNOR\\n500m\\nM\\nGold1928\\nSt. Moritz\\nSkiing\\nCross Country S\\nNOR\\n18km\\nM\\nBronze1928\\nSt. Moritz\\nSkiing\\nCross Country S\\nNOR\\n18km\\nM\\nGold1928\\nSt. Moritz\\nSkiing\\nCross Country S\\nNOR\\n18km\\nM\\nSilver1928\\nSt. Moritz\\nSkiing\\nNordic Combined\\nNOR\\nindividual\\nM\\nBronze1928\\nSt. Moritz\\nSkiing\\nNordic Combined\\nNOR\\nindividual\\nM\\nGold1928\\nSt. Moritz\\nSkiing\\nNordic Combined\\nNOR\\nindividual\\nM\\nSilver1928\\nSt. Moritz\\nSkiing\\nSki Jumping\\nNOR\\nK90 individual (70m)\\nM\\nGold1928\\nSt. Moritz\\nSkiing\\nSki Jumping\\nNOR\\nK90 individual (70m)\\nM\\nSilver1928\\nSt. Moritz\\nIce Hockey\\nIce Hockey\\nSUI\\nice hockey\\nM\\nBronze1928\\nSt. Moritz\\nIce Hockey\\nIce Hockey\\nSWE\\nice hockey\\nM\\nSilver1928\\nSt. Moritz\\nSkating\\nFigure skating\\nSWE\\nindividual\\nM\\nGold1928\\nSt. Moritz\\nSkiing\\nCross Country S\\nSWE\\n50km\\nM\\nBronze1928\\nSt. Moritz\\nSkiing\\nCross Country S\\nSWE\\n50km\\nM\\nGold1928\\nSt. Moritz\\nSkiing\\nCross Country S\\nSWE\\n50km\\nM\\nSilver1928\\nSt. Moritz\\nSkiing\\nSki Jumping\\nTCH\\nK90 individual (70m)\\nM\\nBronze1928\\nSt. Moritz\\nBobsleigh\\nBobsleigh\\nUSA\\nfive-man\\nM\\nGold1928\\nSt. Moritz\\nBobsleigh\\nBobsleigh\\nUSA\\nfive-man\\nM\\nSilver1928\\nSt. Moritz\\nBobsleigh\\nSkeleton\\nUSA\\nindividual\\nM\\nGold1928\\nSt. Moritz\\nBobsleigh\\nSkeleton\\nUSA\\nindividual\\nM\\nSilver1928\\nSt. Moritz\\nSkating\\nFigure skating\\nUSA\\nindividual\\nW\\nBronze1928\\nSt. Moritz\\nSkating\\nSpeed skating\\nUSA\\n500m\\nM\\nBronze1932\\nLake Placid\\nSkating\\nFigure skating\\nAUT\\nindividual\\nM\\nGold1932\\nLake Placid\\nSkating\\nFigure skating\\nAUT\\nindividual\\nW\\nSilver1932\\nLake Placid\\nIce Hockey\\nIce Hockey\\nCAN\\nice hockey\\nM\\nGold1932\\nLake Placid\\nSkating\\nFigure skating\\nCAN\\nindividual\\nM\\nBronze1932\\nLake Placid\\nSkating\\nSpeed skating\\nCAN\\n10000m\\nM\\nBronze1932\\nLake Placid\\nSkating\\nSpeed skating\\nCAN\\n1500m\\nM\\nBronze1932\\nLake Placid\\nSkating\\nSpeed skating\\nCAN\\n1500m\\nM\\nSilver1932\\nLake Placid\\nSkating\\nSpeed skating\\nCAN\\n5000m\\nM\\nBronze1932\\nLake Placid\\nSkating\\nSpeed skating\\nCAN\\n500m\\nM\\nBronze1932\\nLake Placid\\nSkiing\\nCross Country S\\nFIN\\n18km\\nM\\nBronze1932\\nLake Placid\\nSkiing\\nCross Country S\\nFIN\\n50km\\nM\\nGold1932\\nLake Placid\\nSkiing\\nCross Country S\\nFIN\\n50km\\nM\\nSilver1932\\nLake Placid\\nSkating\\nFigure skating\\nFRA\\npairs\\nX\\nGold1932\\nLake Placid\\nBobsleigh\\nBobsleigh\\nGER\\nfour-man\\nM\\nBronze1932\\nLake Placid\\nIce Hockey\\nIce Hockey\\nGER\\nice hockey\\nM\\nBronze1932\\nLake Placid\\nSkating\\nFigure skating\\nHUN\\npairs\\nX\\nBronze1932\\nLake Placid\\nSkating\\nFigure skating\\nNOR\\nindividual\\nW\\nGold1932\\nLake Placid\\nSkating\\nSpeed skating\\nNOR\\n10000m\\nM\\nSilver1932\\nLake Placid\\nSkating\\nSpeed skating\\nNOR\\n500m\\nM\\nSilver1932\\nLake Placid\\nSkiing\\nCross Country S\\nNOR\\n50km\\nM\\nBronze1932\\nLake Placid\\nSkiing\\nNordic Combined\\nNOR\\nindividual\\nM\\nBronze1932\\nLake Placid\\nSkiing\\nNordic Combined\\nNOR\\nindividual\\nM\\nGold1932\\nLake Placid\\nSkiing\\nNordic Combined\\nNOR\\nindividual\\nM\\nSilver1932\\nLake Placid\\nSkiing\\nSki Jumping\\nNOR\\nK90 individual (70m)\\nM\\nBronze1932\\nLake Placid\\nSkiing\\nSki Jumping\\nNOR\\nK90 individual (70m)\\nM\\nGold1932\\nLake Placid\\nSkiing\\nSki Jumping\\nNOR\\nK90 individual (70m)\\nM\\nSilver1932\\nLake Placid\\nBobsleigh\\nBobsleigh\\nSUI\\ntwo-man\\nM\\nSilver1932\\nLake Placid\\nSkating\\nFigure skating\\nSWE\\nindividual\\nM\\nSilver1932\\nLake Placid\\nSkiing\\nCross Country S\\nSWE\\n18km\\nM\\nGold1932\\nLake Placid\\nSkiing\\nCross Country S\\nSWE\\n18km\\nM\\nSilver1932\\nLake Placid\\nBobsleigh\\nBobsleigh\\nUSA\\nfour-man\\nM\\nGold1932\\nLake Placid\\nBobsleigh\\nBobsleigh\\nUSA\\nfour-man\\nM\\nSilver1932\\nLake Placid\\nBobsleigh\\nBobsleigh\\nUSA\\ntwo-man\\nM\\nBronze1932\\nLake Placid\\nBobsleigh\\nBobsleigh\\nUSA\\ntwo-man\\nM\\nGold1932\\nLake Placid\\nIce Hockey\\nIce Hockey\\nUSA\\nice hockey\\nM\\nSilver1932\\nLake Placid\\nSkating\\nFigure skating\\nUSA\\nindividual\\nW\\nBronze1932\\nLake Placid\\nSkating\\nFigure skating\\nUSA\\npairs\\nX\\nSilver1932\\nLake Placid\\nSkating\\nSpeed skating\\nUSA\\n10000m\\nM\\nGold1932\\nLake Placid\\nSkating\\nSpeed skating\\nUSA\\n1500m\\nM\\nGold1932\\nLake Placid\\nSkating\\nSpeed skating\\nUSA\\n5000m\\nM\\nGold1932\\nLake Placid\\nSkating\\nSpeed skating\\nUSA\\n5000m\\nM\\nSilver1932\\nLake Placid\\nSkating\\nSpeed skating\\nUSA\\n500m\\nM\\nGold1936\\nGarmisch-Partenkirchen\\nSkating\\nFigure skating\\nAUT\\nindividual\\nM\\nBronze1936\\nGarmisch-Partenkirchen\\nSkating\\nFigure skating\\nAUT\\nindividual\\nM\\nGold1936\\nGarmisch-Partenkirchen\\nSkating\\nFigure skating\\nAUT\\npairs\\nX\\nSilver1936\\nGarmisch-Partenkirchen\\nSkating\\nSpeed skating\\nAUT\\n10000m\\nM\\nBronze1936\\nGarmisch-Partenkirchen\\nIce Hockey\\nIce Hockey\\nCAN\\nice hockey\\nM\\nSilver1936\\nGarmisch-Partenkirchen\\nSkating\\nSpeed skating\\nFIN\\n10000m\\nM\\nSilver1936\\nGarmisch-Partenkirchen\\nSkating\\nSpeed skating\\nFIN\\n1500m\\nM\\nBronze1936\\nGarmisch-Partenkirchen\\nSkating\\nSpeed skating\\nFIN\\n5000m\\nM\\nBronze1936\\nGarmisch-Partenkirchen\\nSkating\\nSpeed skating\\nFIN\\n5000m\\nM\\nSilver1936\\nGarmisch-Partenkirchen\\nSkiing\\nCross Country S\\nFIN\\n18km\\nM\\nBronze1936\\nGarmisch-Partenkirchen\\nSkiing\\nCross Country S\\nFIN\\n4x10km relay\\nM\\nGold1936\\nGarmisch-Partenkirchen\\nSkiing\\nAlpine Skiing\\nFRA\\nalpine combined\\nM\\nBronze1936\\nGarmisch-Partenkirchen\\nBobsleigh\\nBobsleigh\\nGBR\\nfour-man\\nM\\nBronze1936\\nGarmisch-Partenkirchen\\nIce Hockey\\nIce Hockey\\nGBR\\nice hockey\\nM\\nGold1936\\nGarmisch-Partenkirchen\\nSkating\\nFigure skating\\nGBR\\nindividual\\nW\\nSilver1936\\nGarmisch-Partenkirchen\\nSkating\\nFigure skating\\nGER\\nindividual\\nM\\nSilver1936\\nGarmisch-Partenkirchen\\nSkating\\nFigure skating\\nGER\\npairs\\nX\\nGold1936\\nGarmisch-Partenkirchen\\nSkiing\\nAlpine Skiing\\nGER\\nalpine combined\\nM\\nGold1936\\nGarmisch-Partenkirchen\\nSkiing\\nAlpine Skiing\\nGER\\nalpine combined\\nM\\nSilver1936\\nGarmisch-Partenkirchen\\nSkiing\\nAlpine Skiing\\nGER\\nalpine combined\\nW\\nGold1936\\nGarmisch-Partenkirchen\\nSkiing\\nAlpine Skiing\\nGER\\nalpine combined\\nW\\nSilver1936\\nGarmisch-Partenkirchen\\nSkating\\nFigure skating\\nHUN\\npairs\\nX\\nBronze1936\\nGarmisch-Partenkirchen\\nSkating\\nFigure skating\\nNOR\\nindividual\\nW\\nGold1936\\nGarmisch-Partenkirchen\\nSkating\\nSpeed skating\\nNOR\\n10000m\\nM\\nGold1936\\nGarmisch-Partenkirchen\\nSkating\\nSpeed skating\\nNOR\\n1500m\\nM\\nGold1936\\nGarmisch-Partenkirchen\\nSkating\\nSpeed skating\\nNOR\\n1500m\\nM\\nSilver1936\\nGarmisch-Partenkirchen\\nSkating\\nSpeed skating\\nNOR\\n5000m\\nM\\nGold1936\\nGarmisch-Partenkirchen\\nSkating\\nSpeed skating\\nNOR\\n500m\\nM\\nGold1936\\nGarmisch-Partenkirchen\\nSkating\\nSpeed skating\\nNOR\\n500m\\nM\\nSilver1936\\nGarmisch-Partenkirchen\\nSkiing\\nAlpine Skiing\\nNOR\\nalpine combined\\nW\\nBronze1936\\nGarmisch-Partenkirchen\\nSkiing\\nCross Country S\\nNOR\\n18km\\nM\\nSilver1936\\nGarmisch-Partenkirchen\\nSkiing\\nCross Country S\\nNOR\\n4x10km relay\\nM\\nSilver1936\\nGarmisch-Partenkirchen\\nSkiing\\nNordic Combined\\nNOR\\nindividual\\nM\\nBronze1936\\nGarmisch-Partenkirchen\\nSkiing\\nNordic Combined\\nNOR\\nindividual\\nM\\nGold1936\\nGarmisch-Partenkirchen\\nSkiing\\nNordic Combined\\nNOR\\nindividual\\nM\\nSilver1936\\nGarmisch-Partenkirchen\\nSkiing\\nSki Jumping\\nNOR\\nK90 individual (70m)\\nM\\nBronze1936\\nGarmisch-Partenkirchen\\nSkiing\\nSki Jumping\\nNOR\\nK90 individual (70m)\\nM\\nGold1936\\nGarmisch-Partenkirchen\\nBobsleigh\\nBobsleigh\\nSUI\\nfour-man\\nM\\nGold1936\\nGarmisch-Partenkirchen\\nBobsleigh\\nBobsleigh\\nSUI\\nfour-man\\nM\\nSilver1936\\nGarmisch-Partenkirchen\\nBobsleigh\\nBobsleigh\\nSUI\\ntwo-man\\nM\\nSilver1936\\nGarmisch-Partenkirchen\\nSkating\\nFigure skating\\nSWE\\nindividual\\nW\\nBronze1936\\nGarmisch-Partenkirchen\\nSkiing\\nCross Country S\\nSWE\\n18km\\nM\\nGold1936\\nGarmisch-Partenkirchen\\nSkiing\\nCross Country S\\nSWE\\n4x10km relay\\nM\\nBronze1936\\nGarmisch-Partenkirchen\\nSkiing\\nCross Country S\\nSWE\\n50km\\nM\\nBronze1936\\nGarmisch-Partenkirchen\\nSkiing\\nCross Country S\\nSWE\\n50km\\nM\\nGold1936\\nGarmisch-Partenkirchen\\nSkiing\\nCross Country S\\nSWE\\n50km\\nM\\nSilver1936\\nGarmisch-Partenkirchen\\nSkiing\\nSki Jumping\\nSWE\\nK90 individual (70m)\\nM\\nSilver1936\\nGarmisch-Partenkirchen\\nBobsleigh\\nBobsleigh\\nUSA\\ntwo-man\\nM\\nBronze1936\\nGarmisch-Partenkirchen\\nBobsleigh\\nBobsleigh\\nUSA\\ntwo-man\\nM\\nGold1936\\nGarmisch-Partenkirchen\\nIce Hockey\\nIce Hockey\\nUSA\\nice hockey\\nM\\nBronze1936\\nGarmisch-Partenkirchen\\nSkating\\nSpeed skating\\nUSA\\n500m\\nM\\nBronze1948\\nSt. Moritz\\nSkating\\nFigure skating\\nAUT\\nindividual\\nM\\nBronze1948\\nSt. Moritz\\nSkating\\nFigure skating\\nAUT\\nindividual\\nW\\nSilver1948\\nSt. Moritz\\nSkiing\\nAlpine Skiing\\nAUT\\nalpine combined\\nW\\nBronze1948\\nSt. Moritz\\nSkiing\\nAlpine Skiing\\nAUT\\nalpine combined\\nW\\nGold1948\\nSt. Moritz\\nSkiing\\nAlpine Skiing\\nAUT\\ndownhill\\nM\\nSilver1948\\nSt. Moritz\\nSkiing\\nAlpine Skiing\\nAUT\\ndownhill\\nW\\nBronze1948\\nSt. Moritz\\nSkiing\\nAlpine Skiing\\nAUT\\ndownhill\\nW\\nSilver1948\\nSt. Moritz\\nSkiing\\nAlpine Skiing\\nAUT\\nslalom\\nW\\nBronze1948\\nSt. Moritz\\nBobsleigh\\nBobsleigh\\nBEL\\nfour-man\\nM\\nSilver1948\\nSt. Moritz\\nSkating\\nFigure skating\\nBEL\\npairs\\nX\\nGold1948\\nSt. Moritz\\nIce Hockey\\nIce Hockey\\nCAN\\nice hockey\\nM\\nGold1948\\nSt. Moritz\\nSkating\\nFigure skating\\nCAN\\nindividual\\nW\\nGold1948\\nSt. Moritz\\nSkating\\nFigure skating\\nCAN\\npairs\\nX\\nBronze1948\\nSt. Moritz\\nSkating\\nSpeed skating\\nFIN\\n10000m\\nM\\nBronze1948\\nSt. Moritz\\nSkating\\nSpeed skating\\nFIN\\n10000m\\nM\\nSilver1948\\nSt. Moritz\\nSkiing\\nCross Country S\\nFIN\\n4x10km relay\\nM\\nSilver1948\\nSt. Moritz\\nSkiing\\nCross Country S\\nFIN\\n50km\\nM\\nBronze1948\\nSt. Moritz\\nSkiing\\nNordic Combined\\nFIN\\nindividual\\nM\\nGold1948\\nSt. Moritz\\nSkiing\\nNordic Combined\\nFIN\\nindividual\\nM\\nSilver1948\\nSt. Moritz\\nSkiing\\nAlpine Skiing\\nFRA\\nalpine combined\\nM\\nBronze1948\\nSt. Moritz\\nSkiing\\nAlpine Skiing\\nFRA\\nalpine combined\\nM\\nGold1948\\nSt. Moritz\\nSkiing\\nAlpine Skiing\\nFRA\\ndownhill\\nM\\nGold1948\\nSt. Moritz\\nSkiing\\nAlpine Skiing\\nFRA\\nslalom\\nM\\nBronze1948\\nSt. Moritz\\nSkiing\\nAlpine Skiing\\nFRA\\nslalom\\nM\\nSilver1948\\nSt. Moritz\\nBobsleigh\\nSkeleton\\nGBR\\nindividual\\nM\\nBronze1948\\nSt. Moritz\\nSkating\\nFigure skating\\nGBR\\nindividual\\nW\\nBronze1948\\nSt. Moritz\\nSkating\\nFigure skating\\nHUN\\npairs\\nX\\nSilver1948\\nSt. Moritz\\nBobsleigh\\nSkeleton\\nITA\\nindividual\\nM\\nGold1948\\nSt. Moritz\\nSkating\\nSpeed skating\\nNOR\\n1500m\\nM\\nBronze1948\\nSt. Moritz\\nSkating\\nSpeed skating\\nNOR\\n1500m\\nM\\nGold1948\\nSt. Moritz\\nSkating\\nSpeed skating\\nNOR\\n5000m\\nM\\nGold1948\\nSt. Moritz\\nSkating\\nSpeed skating\\nNOR\\n5000m\\nM\\nSilver1948\\nSt. Moritz\\nSkating\\nSpeed skating\\nNOR\\n500m\\nM\\nGold1948\\nSt. Moritz\\nSkating\\nSpeed skating\\nNOR\\n500m\\nM\\nSilver1948\\nSt. Moritz\\nSkiing\\nCross Country S\\nNOR\\n4x10km relay\\nM\\nBronze1948\\nSt. Moritz\\nSkiing\\nSki Jumping\\nNOR\\nK90 individual (70m)\\nM\\nBronze1948\\nSt. Moritz\\nSkiing\\nSki Jumping\\nNOR\\nK90 individual (70m)\\nM\\nGold1948\\nSt. Moritz\\nSkiing\\nSki Jumping\\nNOR\\nK90 individual (70m)\\nM\\nSilver1948\\nSt. Moritz\\nBobsleigh\\nBobsleigh\\nSUI\\ntwo-man\\nM\\nGold1948\\nSt. Moritz\\nBobsleigh\\nBobsleigh\\nSUI\\ntwo-man\\nM\\nSilver1948\\nSt. Moritz\\nIce Hockey\\nIce Hockey\\nSUI\\nice hockey\\nM\\nBronze1948\\nSt. Moritz\\nSkating\\nFigure skating\\nSUI\\nindividual\\nM\\nSilver1948\\nSt. Moritz\\nSkiing\\nAlpine Skiing\\nSUI\\nalpine combined\\nM\\nSilver1948\\nSt. Moritz\\nSkiing\\nAlpine Skiing\\nSUI\\ndownhill\\nM\\nBronze1948\\nSt. Moritz\\nSkiing\\nAlpine Skiing\\nSUI\\ndownhill\\nM\\nBronze1948\\nSt. Moritz\\nSkiing\\nAlpine Skiing\\nSUI\\ndownhill\\nW\\nGold1948\\nSt. Moritz\\nSkiing\\nAlpine Skiing\\nSUI\\nslalom\\nM\\nGold1948\\nSt. Moritz\\nSkiing\\nAlpine Skiing\\nSUI\\nslalom\\nW\\nSilver1948\\nSt. Moritz\\nSkating\\nSpeed skating\\nSWE\\n10000m\\nM\\nGold1948\\nSt. Moritz\\nSkating\\nSpeed skating\\nSWE\\n1500m\\nM\\nSilver1948\\nSt. Moritz\\nSkating\\nSpeed skating\\nSWE\\n5000m\\nM\\nBronze1948\\nSt. Moritz\\nSkiing\\nCross Country S\\nSWE\\n18km\\nM\\nBronze1948\\nSt. Moritz\\nSkiing\\nCross Country S\\nSWE\\n18km\\nM\\nGold1948\\nSt. Moritz\\nSkiing\\nCross Country S\\nSWE\\n18km\\nM\\nSilver1948\\nSt. Moritz\\nSkiing\\nCross Country S\\nSWE\\n4x10km relay\\nM\\nGold1948\\nSt. Moritz\\nSkiing\\nCross Country S\\nSWE\\n50km\\nM\\nGold1948\\nSt. Moritz\\nSkiing\\nCross Country S\\nSWE\\n50km\\nM\\nSilver1948\\nSt. Moritz\\nSkiing\\nNordic Combined\\nSWE\\nindividual\\nM\\nBronze1948\\nSt. Moritz\\nIce Hockey\\nIce Hockey\\nTCH\\nice hockey\\nM\\nSilver1948\\nSt. Moritz\\nBobsleigh\\nBobsleigh\\nUSA\\nfour-man\\nM\\nBronze1948\\nSt. Moritz\\nBobsleigh\\nBobsleigh\\nUSA\\nfour-man\\nM\\nGold1948\\nSt. Moritz\\nBobsleigh\\nBobsleigh\\nUSA\\ntwo-man\\nM\\nBronze1948\\nSt. Moritz\\nBobsleigh\\nSkeleton\\nUSA\\nindividual\\nM\\nSilver1948\\nSt. Moritz\\nSkating\\nFigure skating\\nUSA\\nindividual\\nM\\nGold1948\\nSt. Moritz\\nSkating\\nSpeed skating\\nUSA\\n500m\\nM\\nSilver1948\\nSt. Moritz\\nSkating\\nSpeed skating\\nUSA\\n500m\\nM\\nSilver1948\\nSt. Moritz\\nSkiing\\nAlpine Skiing\\nUSA\\nalpine combined\\nW\\nSilver1948\\nSt. Moritz\\nSkiing\\nAlpine Skiing\\nUSA\\nslalom\\nW\\nGold1952\\nOslo\\nSkating\\nFigure skating\\nAUT\\nindividual\\nM\\nSilver1952\\nOslo\\nSkiing\\nAlpine Skiing\\nAUT\\ndownhill\\nM\\nBronze1952\\nOslo\\nSkiing\\nAlpine Skiing\\nAUT\\ndownhill\\nM\\nSilver1952\\nOslo\\nSkiing\\nAlpine Skiing\\nAUT\\ndownhill\\nW\\nGold1952\\nOslo\\nSkiing\\nAlpine Skiing\\nAUT\\ngiant slalom\\nM\\nBronze1952\\nOslo\\nSkiing\\nAlpine Skiing\\nAUT\\ngiant slalom\\nM\\nSilver1952\\nOslo\\nSkiing\\nAlpine Skiing\\nAUT\\ngiant slalom\\nW\\nSilver1952\\nOslo\\nSkiing\\nAlpine Skiing\\nAUT\\nslalom\\nM\\nGold1952\\nOslo\\nIce Hockey\\nIce Hockey\\nCAN\\nice hockey\\nM\\nGold1952\\nOslo\\nSkating\\nSpeed skating\\nCAN\\n500m\\nM\\nBronze1952\\nOslo\\nSkiing\\nCross Country S\\nFIN\\n10km\\nW\\nBronze1952\\nOslo\\nSkiing\\nCross Country S\\nFIN\\n10km\\nW\\nGold1952\\nOslo\\nSkiing\\nCross Country S\\nFIN\\n10km\\nW\\nSilver1952\\nOslo\\nSkiing\\nCross Country S\\nFIN\\n18km\\nM\\nBronze1952\\nOslo\\nSkiing\\nCross Country S\\nFIN\\n18km\\nM\\nSilver1952\\nOslo\\nSkiing\\nCross Country S\\nFIN\\n4x10km relay\\nM\\nGold1952\\nOslo\\nSkiing\\nCross Country S\\nFIN\\n50km\\nM\\nGold1952\\nOslo\\nSkiing\\nCross Country S\\nFIN\\n50km\\nM\\nSilver1952\\nOslo\\nSkiing\\nNordic Combined\\nFIN\\nindividual\\nM\\nSilver1952\\nOslo\\nSkating\\nFigure skating\\nFRA\\nindividual\\nW\\nBronze1952\\nOslo\\nBobsleigh\\nBobsleigh\\nFRG\\nfour-man\\nM\\nGold1952\\nOslo\\nBobsleigh\\nBobsleigh\\nFRG\\ntwo-man\\nM\\nGold1952\\nOslo\\nSkating\\nFigure skating\\nGBR\\nindividual\\nW\\nGold1952\\nOslo\\nSkating\\nFigure skating\\nGER\\npairs\\nX\\nGold1952\\nOslo\\nSkiing\\nAlpine Skiing\\nGER\\ndownhill\\nW\\nSilver1952\\nOslo\\nSkiing\\nAlpine Skiing\\nGER\\ngiant slalom\\nW\\nBronze1952\\nOslo\\nSkiing\\nAlpine Skiing\\nGER\\nslalom\\nW\\nBronze1952\\nOslo\\nSkiing\\nAlpine Skiing\\nGER\\nslalom\\nW\\nSilver1952\\nOslo\\nSkating\\nFigure skating\\nHUN\\npairs\\nX\\nBronze1952\\nOslo\\nSkiing\\nAlpine Skiing\\nITA\\ndownhill\\nM\\nGold1952\\nOslo\\nSkiing\\nAlpine Skiing\\nITA\\ndownhill\\nW\\nBronze1952\\nOslo\\nSkating\\nSpeed skating\\nNED\\n10000m\\nM\\nSilver1952\\nOslo\\nSkating\\nSpeed skating\\nNED\\n1500m\\nM\\nSilver1952\\nOslo\\nSkating\\nSpeed skating\\nNED\\n5000m\\nM\\nSilver1952\\nOslo\\nSkating\\nSpeed skating\\nNOR\\n10000m\\nM\\nGold1952\\nOslo\\nSkating\\nSpeed skating\\nNOR\\n1500m\\nM\\nBronze1952\\nOslo\\nSkating\\nSpeed skating\\nNOR\\n1500m\\nM\\nGold1952\\nOslo\\nSkating\\nSpeed skating\\nNOR\\n5000m\\nM\\nBronze1952\\nOslo\\nSkating\\nSpeed skating\\nNOR\\n5000m\\nM\\nGold1952\\nOslo\\nSkating\\nSpeed skating\\nNOR\\n500m\\nM\\nBronze1952\\nOslo\\nSkiing\\nAlpine Skiing\\nNOR\\ngiant slalom\\nM\\nGold1952\\nOslo\\nSkiing\\nAlpine Skiing\\nNOR\\nslalom\\nM\\nBronze1952\\nOslo\\nSkiing\\nAlpine Skiing\\nNOR\\nslalom\\nM\\nSilver1952\\nOslo\\nSkiing\\nCross Country S\\nNOR\\n18km\\nM\\nGold1952\\nOslo\\nSkiing\\nCross Country S\\nNOR\\n4x10km relay\\nM\\nSilver1952\\nOslo\\nSkiing\\nCross Country S\\nNOR\\n50km\\nM\\nBronze1952\\nOslo\\nSkiing\\nNordic Combined\\nNOR\\nindividual\\nM\\nBronze1952\\nOslo\\nSkiing\\nNordic Combined\\nNOR\\nindividual\\nM\\nGold1952\\nOslo\\nSkiing\\nSki Jumping\\nNOR\\nK90 individual (70m)\\nM\\nGold1952\\nOslo\\nSkiing\\nSki Jumping\\nNOR\\nK90 individual (70m)\\nM\\nSilver1952\\nOslo\\nBobsleigh\\nBobsleigh\\nSUI\\nfour-man\\nM\\nBronze1952\\nOslo\\nBobsleigh\\nBobsleigh\\nSUI\\ntwo-man\\nM\\nBronze1952\\nOslo\\nIce Hockey\\nIce Hockey\\nSWE\\nice hockey\\nM\\nBronze1952\\nOslo\\nSkating\\nSpeed skating\\nSWE\\n10000m\\nM\\nBronze1952\\nOslo\\nSkiing\\nCross Country S\\nSWE\\n4x10km relay\\nM\\nBronze1952\\nOslo\\nSkiing\\nSki Jumping\\nSWE\\nK90 individual (70m)\\nM\\nBronze1952\\nOslo\\nBobsleigh\\nBobsleigh\\nUSA\\nfour-man\\nM\\nSilver1952\\nOslo\\nBobsleigh\\nBobsleigh\\nUSA\\ntwo-man\\nM\\nSilver1952\\nOslo\\nIce Hockey\\nIce Hockey\\nUSA\\nice hockey\\nM\\nSilver1952\\nOslo\\nSkating\\nFigure skating\\nUSA\\nindividual\\nM\\nBronze1952\\nOslo\\nSkating\\nFigure skating\\nUSA\\nindividual\\nM\\nGold1952\\nOslo\\nSkating\\nFigure skating\\nUSA\\nindividual\\nW\\nSilver1952\\nOslo\\nSkating\\nFigure skating\\nUSA\\npairs\\nX\\nSilver1952\\nOslo\\nSkating\\nSpeed skating\\nUSA\\n500m\\nM\\nGold1952\\nOslo\\nSkating\\nSpeed skating\\nUSA\\n500m\\nM\\nSilver1952\\nOslo\\nSkiing\\nAlpine Skiing\\nUSA\\ngiant slalom\\nW\\nGold1952\\nOslo\\nSkiing\\nAlpine Skiing\\nUSA\\nslalom\\nW\\nGold1956\\nCortina d'Ampezzo\\nSkating\\nFigure skating\\nAUT\\nindividual\\nW\\nBronze1956\\nCortina d'Ampezzo\\nSkating\\nFigure skating\\nAUT\\npairs\\nX\\nGold1956\\nCortina d'Ampezzo\\nSkiing\\nAlpine Skiing\\nAUT\\ndownhill\\nM\\nBronze1956\\nCortina d'Ampezzo\\nSkiing\\nAlpine Skiing\\nAUT\\ndownhill\\nM\\nGold1956\\nCortina d'Ampezzo\\nSkiing\\nAlpine Skiing\\nAUT\\ngiant slalom\\nM\\nBronze1956\\nCortina d'Ampezzo\\nSkiing\\nAlpine Skiing\\nAUT\\ngiant slalom\\nM\\nGold1956\\nCortina d'Ampezzo\\nSkiing\\nAlpine Skiing\\nAUT\\ngiant slalom\\nM\\nSilver1956\\nCortina d'Ampezzo\\nSkiing\\nAlpine Skiing\\nAUT\\ngiant slalom\\nW\\nBronze1956\\nCortina d'Ampezzo\\nSkiing\\nAlpine Skiing\\nAUT\\ngiant slalom\\nW\\nSilver1956\\nCortina d'Ampezzo\\nSkiing\\nAlpine Skiing\\nAUT\\nslalom\\nM\\nGold1956\\nCortina d'Ampezzo\\nSkiing\\nAlpine Skiing\\nAUT\\nslalom\\nW\\nSilver1956\\nCortina d'Ampezzo\\nIce Hockey\\nIce Hockey\\nCAN\\nice hockey\\nM\\nBronze1956\\nCortina d'Ampezzo\\nSkating\\nFigure skating\\nCAN\\npairs\\nX\\nSilver1956\\nCortina d'Ampezzo\\nSkiing\\nAlpine Skiing\\nCAN\\ndownhill\\nW\\nBronze1956\\nCortina d'Ampezzo\\nSkiing\\nAlpine Skiing\\nEUA\\ngiant slalom\\nW\\nGold1956\\nCortina d'Ampezzo\\nSkiing\\nSki Jumping\\nEUA\\nK90 individual (70m)\\nM\\nBronze1956\\nCortina d'Ampezzo\\nSkating\\nSpeed skating\\nFIN\\n1500m\\nM\\nBronze1956\\nCortina d'Ampezzo\\nSkiing\\nCross Country S\\nFIN\\n30km mass start\\nM\\nGold1956\\nCortina d'Ampezzo\\nSkiing\\nCross Country S\\nFIN\\n3x5km relay\\nW\\nGold1956\\nCortina d'Ampezzo\\nSkiing\\nCross Country S\\nFIN\\n4x10km relay\\nM\\nSilver1956\\nCortina d'Ampezzo\\nSkiing\\nCross Country S\\nFIN\\n50km\\nM\\nSilver1956\\nCortina d'Ampezzo\\nSkiing\\nSki Jumping\\nFIN\\nK90 individual (70m)\\nM\\nGold1956\\nCortina d'Ampezzo\\nSkiing\\nSki Jumping\\nFIN\\nK90 individual (70m)\\nM\\nSilver1956\\nCortina d'Ampezzo\\nSkating\\nFigure skating\\nHUN\\npairs\\nX\\nBronze1956\\nCortina d'Ampezzo\\nBobsleigh\\nBobsleigh\\nITA\\nfour-man\\nM\\nSilver1956\\nCortina d'Ampezzo\\nBobsleigh\\nBobsleigh\\nITA\\ntwo-man\\nM\\nGold1956\\nCortina d'Ampezzo\\nBobsleigh\\nBobsleigh\\nITA\\ntwo-man\\nM\\nSilver1956\\nCortina d'Ampezzo\\nSkiing\\nAlpine Skiing\\nJPN\\nslalom\\nM\\nSilver1956\\nCortina d'Ampezzo\\nSkating\\nSpeed skating\\nNOR\\n10000m\\nM\\nSilver1956\\nCortina d'Ampezzo\\nSkating\\nSpeed skating\\nNOR\\n500m\\nM\\nBronze1956\\nCortina d'Ampezzo\\nSkiing\\nCross Country S\\nNOR\\n15km\\nM\\nGold1956\\nCortina d'Ampezzo\\nSkiing\\nNordic Combined\\nNOR\\nindividual\\nM\\nGold1956\\nCortina d'Ampezzo\\nSkiing\\nNordic Combined\\nPOL\\nindividual\\nM\\nBronze1956\\nCortina d'Ampezzo\\nBobsleigh\\nBobsleigh\\nSUI\\nfour-man\\nM\\nGold1956\\nCortina d'Ampezzo\\nBobsleigh\\nBobsleigh\\nSUI\\ntwo-man\\nM\\nBronze1956\\nCortina d'Ampezzo\\nSkiing\\nAlpine Skiing\\nSUI\\ndownhill\\nM\\nSilver1956\\nCortina d'Ampezzo\\nSkiing\\nAlpine Skiing\\nSUI\\ndownhill\\nW\\nGold1956\\nCortina d'Ampezzo\\nSkiing\\nAlpine Skiing\\nSUI\\ndownhill\\nW\\nSilver1956\\nCortina d'Ampezzo\\nSkiing\\nAlpine Skiing\\nSUI\\nslalom\\nW\\nGold1956\\nCortina d'Ampezzo\\nSkating\\nSpeed skating\\nSWE\\n10000m\\nM\\nGold1956\\nCortina d'Ampezzo\\nSkating\\nSpeed skating\\nSWE\\n5000m\\nM\\nSilver1956\\nCortina d'Ampezzo\\nSkiing\\nAlpine Skiing\\nSWE\\nslalom\\nM\\nBronze1956\\nCortina d'Ampezzo\\nSkiing\\nCross Country S\\nSWE\\n10km\\nW\\nBronze1956\\nCortina d'Ampezzo\\nSkiing\\nCross Country S\\nSWE\\n15km\\nM\\nSilver1956\\nCortina d'Ampezzo\\nSkiing\\nCross Country S\\nSWE\\n30km mass start\\nM\\nSilver1956\\nCortina d'Ampezzo\\nSkiing\\nCross Country S\\nSWE\\n3x5km relay\\nW\\nBronze1956\\nCortina d'Ampezzo\\nSkiing\\nCross Country S\\nSWE\\n4x10km relay\\nM\\nBronze1956\\nCortina d'Ampezzo\\nSkiing\\nCross Country S\\nSWE\\n50km\\nM\\nGold1956\\nCortina d'Ampezzo\\nSkiing\\nNordic Combined\\nSWE\\nindividual\\nM\\nSilver1956\\nCortina d'Ampezzo\\nIce Hockey\\nIce Hockey\\nURS\\nice hockey\\nM\\nGold1956\\nCortina d'Ampezzo\\nSkating\\nSpeed skating\\nURS\\n10000m\\nM\\nBronze1956\\nCortina d'Ampezzo\\nSkating\\nSpeed skating\\nURS\\n1500m\\nM\\nGold1956\\nCortina d'Ampezzo\\nSkating\\nSpeed skating\\nURS\\n1500m\\nM\\nGold1956\\nCortina d'Ampezzo\\nSkating\\nSpeed skating\\nURS\\n5000m\\nM\\nBronze1956\\nCortina d'Ampezzo\\nSkating\\nSpeed skating\\nURS\\n5000m\\nM\\nGold1956\\nCortina d'Ampezzo\\nSkating\\nSpeed skating\\nURS\\n500m\\nM\\nGold1956\\nCortina d'Ampezzo\\nSkating\\nSpeed skating\\nURS\\n500m\\nM\\nSilver1956\\nCortina d'Ampezzo\\nSkiing\\nAlpine Skiing\\nURS\\nslalom\\nW\\nBronze1956\\nCortina d'Ampezzo\\nSkiing\\nCross Country S\\nURS\\n10km\\nW\\nGold1956\\nCortina d'Ampezzo\\nSkiing\\nCross Country S\\nURS\\n10km\\nW\\nSilver1956\\nCortina d'Ampezzo\\nSkiing\\nCross Country S\\nURS\\n15km\\nM\\nBronze1956\\nCortina d'Ampezzo\\nSkiing\\nCross Country S\\nURS\\n30km mass start\\nM\\nBronze1956\\nCortina d'Ampezzo\\nSkiing\\nCross Country S\\nURS\\n3x5km relay\\nW\\nSilver1956\\nCortina d'Ampezzo\\nSkiing\\nCross Country S\\nURS\\n4x10km relay\\nM\\nGold1956\\nCortina d'Ampezzo\\nSkiing\\nCross Country S\\nURS\\n50km\\nM\\nBronze1956\\nCortina d'Ampezzo\\nBobsleigh\\nBobsleigh\\nUSA\\nfour-man\\nM\\nBronze1956\\nCortina d'Ampezzo\\nIce Hockey\\nIce Hockey\\nUSA\\nice hockey\\nM\\nSilver1956\\nCortina d'Ampezzo\\nSkating\\nFigure skating\\nUSA\\nindividual\\nM\\nBronze1956\\nCortina d'Ampezzo\\nSkating\\nFigure skating\\nUSA\\nindividual\\nM\\nGold1956\\nCortina d'Ampezzo\\nSkating\\nFigure skating\\nUSA\\nindividual\\nM\\nSilver1956\\nCortina d'Ampezzo\\nSkating\\nFigure skating\\nUSA\\nindividual\\nW\\nGold1956\\nCortina d'Ampezzo\\nSkating\\nFigure skating\\nUSA\\nindividual\\nW\\nSilver1960\\nSquaw Valley\\nSkiing\\nAlpine Skiing\\nAUT\\ndownhill\\nW\\nBronze1960\\nSquaw Valley\\nSkiing\\nAlpine Skiing\\nAUT\\ngiant slalom\\nM\\nBronze1960\\nSquaw Valley\\nSkiing\\nAlpine Skiing\\nAUT\\ngiant slalom\\nM\\nSilver1960\\nSquaw Valley\\nSkiing\\nAlpine Skiing\\nAUT\\nslalom\\nM\\nGold1960\\nSquaw Valley\\nSkiing\\nAlpine Skiing\\nAUT\\nslalom\\nM\\nSilver1960\\nSquaw Valley\\nSkiing\\nSki Jumping\\nAUT\\nK90 individual (70m)\\nM\\nBronze1960\\nSquaw Valley\\nIce Hockey\\nIce Hockey\\nCAN\\nice hockey\\nM\\nSilver1960\\nSquaw Valley\\nSkating\\nFigure skating\\nCAN\\nindividual\\nM\\nBronze1960\\nSquaw Valley\\nSkating\\nFigure skating\\nCAN\\npairs\\nX\\nGold1960\\nSquaw Valley\\nSkiing\\nAlpine Skiing\\nCAN\\nslalom\\nW\\nGold1960\\nSquaw Valley\\nSkating\\nFigure skating\\nEUA\\npairs\\nX\\nSilver1960\\nSquaw Valley\\nSkating\\nSpeed skating\\nEUA\\n1000m\\nW\\nSilver1960\\nSquaw Valley\\nSkating\\nSpeed skating\\nEUA\\n500m\\nW\\nGold1960\\nSquaw Valley\\nSkiing\\nAlpine Skiing\\nEUA\\ndownhill\\nM\\nSilver1960\\nSquaw Valley\\nSkiing\\nAlpine Skiing\\nEUA\\ndownhill\\nW\\nGold1960\\nSquaw Valley\\nSkiing\\nAlpine Skiing\\nEUA\\nslalom\\nW\\nBronze1960\\nSquaw Valley\\nSkiing\\nNordic Combined\\nEUA\\nindividual\\nM\\nGold1960\\nSquaw Valley\\nSkiing\\nSki Jumping\\nEUA\\nK90 individual (70m)\\nM\\nGold1960\\nSquaw Valley\\nBiathlon\\nBiathlon\\nFIN\\n20km\\nM\\nSilver1960\\nSquaw Valley\\nSkating\\nSpeed skating\\nFIN\\n3000m\\nW\\nBronze1960\\nSquaw Valley\\nSkiing\\nCross Country S\\nFIN\\n15km\\nM\\nBronze1960\\nSquaw Valley\\nSkiing\\nCross Country S\\nFIN\\n3x5km relay\\nW\\nBronze1960\\nSquaw Valley\\nSkiing\\nCross Country S\\nFIN\\n4x10km relay\\nM\\nGold1960\\nSquaw Valley\\nSkiing\\nCross Country S\\nFIN\\n50km\\nM\\nGold1960\\nSquaw Valley\\nSkiing\\nCross Country S\\nFIN\\n50km\\nM\\nSilver1960\\nSquaw Valley\\nSkiing\\nSki Jumping\\nFIN\\nK90 individual (70m)\\nM\\nSilver1960\\nSquaw Valley\\nSkiing\\nAlpine Skiing\\nFRA\\ndownhill\\nM\\nBronze1960\\nSquaw Valley\\nSkiing\\nAlpine Skiing\\nFRA\\ndownhill\\nM\\nGold1960\\nSquaw Valley\\nSkiing\\nAlpine Skiing\\nFRA\\nslalom\\nM\\nBronze1960\\nSquaw Valley\\nSkiing\\nAlpine Skiing\\nITA\\ngiant slalom\\nW\\nBronze1960\\nSquaw Valley\\nSkating\\nFigure skating\\nNED\\nindividual\\nW\\nSilver1960\\nSquaw Valley\\nSkating\\nSpeed skating\\nNED\\n5000m\\nM\\nBronze1960\\nSquaw Valley\\nSkating\\nSpeed skating\\nNOR\\n10000m\\nM\\nGold1960\\nSquaw Valley\\nSkating\\nSpeed skating\\nNOR\\n1500m\\nM\\nGold1960\\nSquaw Valley\\nSkating\\nSpeed skating\\nNOR\\n5000m\\nM\\nSilver1960\\nSquaw Valley\\nSkiing\\nCross Country S\\nNOR\\n15km\\nM\\nGold1960\\nSquaw Valley\\nSkiing\\nCross Country S\\nNOR\\n4x10km relay\\nM\\nSilver1960\\nSquaw Valley\\nSkiing\\nNordic Combined\\nNOR\\nindividual\\nM\\nSilver1960\\nSquaw Valley\\nSkating\\nSpeed skating\\nPOL\\n1500m\\nW\\nBronze1960\\nSquaw Valley\\nSkating\\nSpeed skating\\nPOL\\n1500m\\nW\\nSilver1960\\nSquaw Valley\\nSkiing\\nAlpine Skiing\\nSUI\\ngiant slalom\\nM\\nGold1960\\nSquaw Valley\\nSkiing\\nAlpine Skiing\\nSUI\\ngiant slalom\\nW\\nGold1960\\nSquaw Valley\\nBiathlon\\nBiathlon\\nSWE\\n20km\\nM\\nGold1960\\nSquaw Valley\\nSkating\\nSpeed skating\\nSWE\\n10000m\\nM\\nBronze1960\\nSquaw Valley\\nSkiing\\nCross Country S\\nSWE\\n15km\\nM\\nSilver1960\\nSquaw Valley\\nSkiing\\nCross Country S\\nSWE\\n30km mass start\\nM\\nGold1960\\nSquaw Valley\\nSkiing\\nCross Country S\\nSWE\\n30km mass start\\nM\\nSilver1960\\nSquaw Valley\\nSkiing\\nCross Country S\\nSWE\\n3x5km relay\\nW\\nGold1960\\nSquaw Valley\\nSkiing\\nCross Country S\\nSWE\\n50km\\nM\\nBronze1960\\nSquaw Valley\\nSkating\\nFigure skating\\nTCH\\nindividual\\nM\\nSilver1960\\nSquaw Valley\\nBiathlon\\nBiathlon\\nURS\\n20km\\nM\\nBronze1960\\nSquaw Valley\\nIce Hockey\\nIce Hockey\\nURS\\nice hockey\\nM\\nBronze1960\\nSquaw Valley\\nSkating\\nSpeed skating\\nURS\\n10000m\\nM\\nSilver1960\\nSquaw Valley\\nSkating\\nSpeed skating\\nURS\\n1000m\\nW\\nBronze1960\\nSquaw Valley\\nSkating\\nSpeed skating\\nURS\\n1000m\\nW\\nGold1960\\nSquaw Valley\\nSkating\\nSpeed skating\\nURS\\n1500m\\nM\\nBronze1960\\nSquaw Valley\\nSkating\\nSpeed skating\\nURS\\n1500m\\nM\\nGold1960\\nSquaw Valley\\nSkating\\nSpeed skating\\nURS\\n1500m\\nW\\nGold1960\\nSquaw Valley\\nSkating\\nSpeed skating\\nURS\\n3000m\\nW\\nGold1960\\nSquaw Valley\\nSkating\\nSpeed skating\\nURS\\n3000m\\nW\\nSilver1960\\nSquaw Valley\\nSkating\\nSpeed skating\\nURS\\n5000m\\nM\\nGold1960\\nSquaw Valley\\nSkating\\nSpeed skating\\nURS\\n500m\\nM\\nBronze1960\\nSquaw Valley\\nSkating\\nSpeed skating\\nURS\\n500m\\nM\\nGold1960\\nSquaw Valley\\nSkating\\nSpeed skating\\nURS\\n500m\\nW\\nSilver1960\\nSquaw Valley\\nSkiing\\nCross Country S\\nURS\\n10km\\nW\\nBronze1960\\nSquaw Valley\\nSkiing\\nCross Country S\\nURS\\n10km\\nW\\nGold1960\\nSquaw Valley\\nSkiing\\nCross Country S\\nURS\\n10km\\nW\\nSilver1960\\nSquaw Valley\\nSkiing\\nCross Country S\\nURS\\n30km mass start\\nM\\nBronze1960\\nSquaw Valley\\nSkiing\\nCross Country S\\nURS\\n3x5km relay\\nW\\nSilver1960\\nSquaw Valley\\nSkiing\\nCross Country S\\nURS\\n4x10km relay\\nM\\nBronze1960\\nSquaw Valley\\nSkiing\\nNordic Combined\\nURS\\nindividual\\nM\\nBronze1960\\nSquaw Valley\\nIce Hockey\\nIce Hockey\\nUSA\\nice hockey\\nM\\nGold1960\\nSquaw Valley\\nSkating\\nFigure skating\\nUSA\\nindividual\\nM\\nGold1960\\nSquaw Valley\\nSkating\\nFigure skating\\nUSA\\nindividual\\nW\\nBronze1960\\nSquaw Valley\\nSkating\\nFigure skating\\nUSA\\nindividual\\nW\\nGold1960\\nSquaw Valley\\nSkating\\nFigure skating\\nUSA\\npairs\\nX\\nBronze1960\\nSquaw Valley\\nSkating\\nSpeed skating\\nUSA\\n500m\\nM\\nSilver1960\\nSquaw Valley\\nSkating\\nSpeed skating\\nUSA\\n500m\\nW\\nBronze1960\\nSquaw Valley\\nSkiing\\nAlpine Skiing\\nUSA\\ndownhill\\nW\\nSilver1960\\nSquaw Valley\\nSkiing\\nAlpine Skiing\\nUSA\\ngiant slalom\\nW\\nSilver1960\\nSquaw Valley\\nSkiing\\nAlpine Skiing\\nUSA\\nslalom\\nW\\nSilver1964\\nInnsbruck\\nBobsleigh\\nBobsleigh\\nAUT\\nfour-man\\nM\\nSilver1964\\nInnsbruck\\nLuge\\nLuge\\nAUT\\ndoubles\\nX\\nGold1964\\nInnsbruck\\nLuge\\nLuge\\nAUT\\ndoubles\\nX\\nSilver1964\\nInnsbruck\\nLuge\\nLuge\\nAUT\\nsingles\\nW\\nBronze1964\\nInnsbruck\\nSkating\\nFigure skating\\nAUT\\nindividual\\nW\\nSilver1964\\nInnsbruck\\nSkiing\\nAlpine Skiing\\nAUT\\ndownhill\\nM\\nGold1964\\nInnsbruck\\nSkiing\\nAlpine Skiing\\nAUT\\ndownhill\\nW\\nBronze1964\\nInnsbruck\\nSkiing\\nAlpine Skiing\\nAUT\\ndownhill\\nW\\nGold1964\\nInnsbruck\\nSkiing\\nAlpine Skiing\\nAUT\\ndownhill\\nW\\nSilver1964\\nInnsbruck\\nSkiing\\nAlpine Skiing\\nAUT\\ngiant slalom\\nM\\nBronze1964\\nInnsbruck\\nSkiing\\nAlpine Skiing\\nAUT\\ngiant slalom\\nM\\nSilver1964\\nInnsbruck\\nSkiing\\nAlpine Skiing\\nAUT\\nslalom\\nM\\nGold1964\\nInnsbruck\\nBobsleigh\\nBobsleigh\\nCAN\\nfour-man\\nM\\nGold1964\\nInnsbruck\\nSkating\\nFigure skating\\nCAN\\nindividual\\nW\\nBronze1964\\nInnsbruck\\nSkating\\nFigure skating\\nCAN\\npairs\\nX\\nBronze1964\\nInnsbruck\\nLuge\\nLuge\\nEUA\\nsingles\\nM\\nBronze1964\\nInnsbruck\\nLuge\\nLuge\\nEUA\\nsingles\\nM\\nGold1964\\nInnsbruck\\nLuge\\nLuge\\nEUA\\nsingles\\nM\\nSilver1964\\nInnsbruck\\nLuge\\nLuge\\nEUA\\nsingles\\nW\\nGold1964\\nInnsbruck\\nLuge\\nLuge\\nEUA\\nsingles\\nW\\nSilver1964\\nInnsbruck\\nSkating\\nFigure skating\\nEUA\\nindividual\\nM\\nGold1964\\nInnsbruck\\nSkating\\nFigure skating\\nEUA\\npairs\\nX\\nSilver1964\\nInnsbruck\\nSkiing\\nAlpine Skiing\\nEUA\\ndownhill\\nM\\nBronze1964\\nInnsbruck\\nSkiing\\nNordic Combined\\nEUA\\nindividual\\nM\\nBronze1964\\nInnsbruck\\nSkating\\nSpeed skating\\nFIN\\n1000m\\nW\\nBronze1964\\nInnsbruck\\nSkating\\nSpeed skating\\nFIN\\n1500m\\nW\\nSilver1964\\nInnsbruck\\nSkiing\\nCross Country S\\nFIN\\n15km\\nM\\nGold1964\\nInnsbruck\\nSkiing\\nCross Country S\\nFIN\\n30km mass start\\nM\\nGold1964\\nInnsbruck\\nSkiing\\nCross Country S\\nFIN\\n3x5km relay\\nW\\nBronze1964\\nInnsbruck\\nSkiing\\nCross Country S\\nFIN\\n4x10km relay\\nM\\nSilver1964\\nInnsbruck\\nSkiing\\nCross Country S\\nFIN\\n50km\\nM\\nBronze1964\\nInnsbruck\\nSkiing\\nCross Country S\\nFIN\\n5km\\nW\\nSilver1964\\nInnsbruck\\nSkiing\\nSki Jumping\\nFIN\\nK120 individual (90m)\\nM\\nSilver1964\\nInnsbruck\\nSkiing\\nSki Jumping\\nFIN\\nK90 individual (70m)\\nM\\nGold1964\\nInnsbruck\\nSkating\\nFigure skating\\nFRA\\nindividual\\nM\\nSilver1964\\nInnsbruck\\nSkiing\\nAlpine Skiing\\nFRA\\ndownhill\\nM\\nSilver1964\\nInnsbruck\\nSkiing\\nAlpine Skiing\\nFRA\\ngiant slalom\\nM\\nGold1964\\nInnsbruck\\nSkiing\\nAlpine Skiing\\nFRA\\ngiant slalom\\nW\\nGold1964\\nInnsbruck\\nSkiing\\nAlpine Skiing\\nFRA\\ngiant slalom\\nW\\nSilver1964\\nInnsbruck\\nSkiing\\nAlpine Skiing\\nFRA\\nslalom\\nW\\nGold1964\\nInnsbruck\\nSkiing\\nAlpine Skiing\\nFRA\\nslalom\\nW\\nSilver1964\\nInnsbruck\\nBobsleigh\\nBobsleigh\\nGBR\\ntwo-man\\nM\\nGold1964\\nInnsbruck\\nBobsleigh\\nBobsleigh\\nITA\\nfour-man\\nM\\nBronze1964\\nInnsbruck\\nBobsleigh\\nBobsleigh\\nITA\\ntwo-man\\nM\\nBronze1964\\nInnsbruck\\nBobsleigh\\nBobsleigh\\nITA\\ntwo-man\\nM\\nSilver1964\\nInnsbruck\\nLuge\\nLuge\\nITA\\ndoubles\\nX\\nBronze1964\\nInnsbruck\\nSkating\\nFigure skating\\nNED\\nindividual\\nW\\nGold1964\\nInnsbruck\\nSkating\\nSpeed skating\\nNED\\n1500m\\nM\\nSilver1964\\nInnsbruck\\nBiathlon\\nBiathlon\\nNOR\\n20km\\nM\\nBronze1964\\nInnsbruck\\nSkating\\nSpeed skating\\nNOR\\n10000m\\nM\\nBronze1964\\nInnsbruck\\nSkating\\nSpeed skating\\nNOR\\n10000m\\nM\\nSilver1964\\nInnsbruck\\nSkating\\nSpeed skating\\nNOR\\n1500m\\nM\\nBronze1964\\nInnsbruck\\nSkating\\nSpeed skating\\nNOR\\n5000m\\nM\\nBronze1964\\nInnsbruck\\nSkating\\nSpeed skating\\nNOR\\n5000m\\nM\\nGold1964\\nInnsbruck\\nSkating\\nSpeed skating\\nNOR\\n5000m\\nM\\nSilver1964\\nInnsbruck\\nSkating\\nSpeed skating\\nNOR\\n500m\\nM\\nSilver1964\\nInnsbruck\\nSkiing\\nCross Country S\\nNOR\\n15km\\nM\\nSilver1964\\nInnsbruck\\nSkiing\\nCross Country S\\nNOR\\n30km mass start\\nM\\nSilver1964\\nInnsbruck\\nSkiing\\nNordic Combined\\nNOR\\nindividual\\nM\\nGold1964\\nInnsbruck\\nSkiing\\nSki Jumping\\nNOR\\nK120 individual (90m)\\nM\\nBronze1964\\nInnsbruck\\nSkiing\\nSki Jumping\\nNOR\\nK120 individual (90m)\\nM\\nGold1964\\nInnsbruck\\nSkiing\\nSki Jumping\\nNOR\\nK90 individual (70m)\\nM\\nBronze1964\\nInnsbruck\\nSkiing\\nSki Jumping\\nNOR\\nK90 individual (70m)\\nM\\nSilver1964\\nInnsbruck\\nSkating\\nSpeed skating\\nPRK\\n3000m\\nW\\nSilver1964\\nInnsbruck\\nIce Hockey\\nIce Hockey\\nSWE\\nice hockey\\nM\\nSilver1964\\nInnsbruck\\nSkating\\nSpeed skating\\nSWE\\n10000m\\nM\\nGold1964\\nInnsbruck\\nSkiing\\nCross Country S\\nSWE\\n15km\\nM\\nBronze1964\\nInnsbruck\\nSkiing\\nCross Country S\\nSWE\\n3x5km relay\\nW\\nSilver1964\\nInnsbruck\\nSkiing\\nCross Country S\\nSWE\\n4x10km relay\\nM\\nGold1964\\nInnsbruck\\nSkiing\\nCross Country S\\nSWE\\n50km\\nM\\nGold1964\\nInnsbruck\\nSkiing\\nCross Country S\\nSWE\\n50km\\nM\\nSilver1964\\nInnsbruck\\nIce Hockey\\nIce Hockey\\nTCH\\nice hockey\\nM\\nBronze1964\\nInnsbruck\\nBiathlon\\nBiathlon\\nURS\\n20km\\nM\\nGold1964\\nInnsbruck\\nBiathlon\\nBiathlon\\nURS\\n20km\\nM\\nSilver1964\\nInnsbruck\\nIce Hockey\\nIce Hockey\\nURS\\nice hockey\\nM\\nGold1964\\nInnsbruck\\nSkating\\nFigure skating\\nURS\\npairs\\nX\\nGold1964\\nInnsbruck\\nSkating\\nSpeed skating\\nURS\\n1000m\\nW\\nGold1964\\nInnsbruck\\nSkating\\nSpeed skating\\nURS\\n1000m\\nW\\nSilver1964\\nInnsbruck\\nSkating\\nSpeed skating\\nURS\\n1500m\\nM\\nGold1964\\nInnsbruck\\nSkating\\nSpeed skating\\nURS\\n1500m\\nW\\nBronze1964\\nInnsbruck\\nSkating\\nSpeed skating\\nURS\\n1500m\\nW\\nGold1964\\nInnsbruck\\nSkating\\nSpeed skating\\nURS\\n3000m\\nW\\nGold1964\\nInnsbruck\\nSkating\\nSpeed skating\\nURS\\n3000m\\nW\\nSilver1964\\nInnsbruck\\nSkating\\nSpeed skating\\nURS\\n500m\\nM\\nSilver1964\\nInnsbruck\\nSkating\\nSpeed skating\\nURS\\n500m\\nM\\nSilver1964\\nInnsbruck\\nSkating\\nSpeed skating\\nURS\\n500m\\nW\\nBronze1964\\nInnsbruck\\nSkating\\nSpeed skating\\nURS\\n500m\\nW\\nGold1964\\nInnsbruck\\nSkating\\nSpeed skating\\nURS\\n500m\\nW\\nSilver1964\\nInnsbruck\\nSkiing\\nCross Country S\\nURS\\n10km\\nW\\nBronze1964\\nInnsbruck\\nSkiing\\nCross Country S\\nURS\\n10km\\nW\\nGold1964\\nInnsbruck\\nSkiing\\nCross Country S\\nURS\\n10km\\nW\\nSilver1964\\nInnsbruck\\nSkiing\\nCross Country S\\nURS\\n30km mass start\\nM\\nBronze1964\\nInnsbruck\\nSkiing\\nCross Country S\\nURS\\n3x5km relay\\nW\\nGold1964\\nInnsbruck\\nSkiing\\nCross Country S\\nURS\\n4x10km relay\\nM\\nBronze1964\\nInnsbruck\\nSkiing\\nCross Country S\\nURS\\n5km\\nW\\nBronze1964\\nInnsbruck\\nSkiing\\nCross Country S\\nURS\\n5km\\nW\\nGold1964\\nInnsbruck\\nSkiing\\nNordic Combined\\nURS\\nindividual\\nM\\nSilver1964\\nInnsbruck\\nSkating\\nFigure skating\\nUSA\\nindividual\\nM\\nBronze1964\\nInnsbruck\\nSkating\\nSpeed skating\\nUSA\\n500m\\nM\\nGold1964\\nInnsbruck\\nSkiing\\nAlpine Skiing\\nUSA\\ngiant slalom\\nW\\nSilver1964\\nInnsbruck\\nSkiing\\nAlpine Skiing\\nUSA\\nslalom\\nM\\nBronze1964\\nInnsbruck\\nSkiing\\nAlpine Skiing\\nUSA\\nslalom\\nM\\nSilver1964\\nInnsbruck\\nSkiing\\nAlpine Skiing\\nUSA\\nslalom\\nW\\nBronze1968\\nGrenoble\\nBobsleigh\\nBobsleigh\\nAUT\\nfour-man\\nM\\nSilver1968\\nGrenoble\\nLuge\\nLuge\\nAUT\\ndoubles\\nX\\nSilver1968\\nGrenoble\\nLuge\\nLuge\\nAUT\\nsingles\\nM\\nGold1968\\nGrenoble\\nSkating\\nFigure skating\\nAUT\\nindividual\\nM\\nGold1968\\nGrenoble\\nSkiing\\nAlpine Skiing\\nAUT\\ndownhill\\nW\\nBronze1968\\nGrenoble\\nSkiing\\nAlpine Skiing\\nAUT\\ndownhill\\nW\\nGold1968\\nGrenoble\\nSkiing\\nAlpine Skiing\\nAUT\\ngiant slalom\\nM\\nBronze1968\\nGrenoble\\nSkiing\\nAlpine Skiing\\nAUT\\nslalom\\nM\\nBronze1968\\nGrenoble\\nSkiing\\nAlpine Skiing\\nAUT\\nslalom\\nM\\nSilver1968\\nGrenoble\\nSkiing\\nSki Jumping\\nAUT\\nK90 individual (70m)\\nM\\nBronze1968\\nGrenoble\\nSkiing\\nSki Jumping\\nAUT\\nK90 individual (70m)\\nM\\nSilver1968\\nGrenoble\\nIce Hockey\\nIce Hockey\\nCAN\\nice hockey\\nM\\nBronze1968\\nGrenoble\\nSkiing\\nAlpine Skiing\\nCAN\\ngiant slalom\\nW\\nGold1968\\nGrenoble\\nSkiing\\nAlpine Skiing\\nCAN\\nslalom\\nW\\nSilver1968\\nGrenoble\\nSkating\\nSpeed skating\\nFIN\\n1500m\\nW\\nGold1968\\nGrenoble\\nSkating\\nSpeed skating\\nFIN\\n3000m\\nW\\nSilver1968\\nGrenoble\\nSkiing\\nCross Country S\\nFIN\\n15km\\nM\\nSilver1968\\nGrenoble\\nSkiing\\nCross Country S\\nFIN\\n30km mass start\\nM\\nBronze1968\\nGrenoble\\nSkiing\\nCross Country S\\nFIN\\n4x10km relay\\nM\\nBronze1968\\nGrenoble\\nSkating\\nFigure skating\\nFRA\\nindividual\\nM\\nBronze1968\\nGrenoble\\nSkiing\\nAlpine Skiing\\nFRA\\ndownhill\\nM\\nGold1968\\nGrenoble\\nSkiing\\nAlpine Skiing\\nFRA\\ndownhill\\nM\\nSilver1968\\nGrenoble\\nSkiing\\nAlpine Skiing\\nFRA\\ndownhill\\nW\\nSilver1968\\nGrenoble\\nSkiing\\nAlpine Skiing\\nFRA\\ngiant slalom\\nM\\nGold1968\\nGrenoble\\nSkiing\\nAlpine Skiing\\nFRA\\ngiant slalom\\nW\\nSilver1968\\nGrenoble\\nSkiing\\nAlpine Skiing\\nFRA\\nslalom\\nM\\nGold1968\\nGrenoble\\nSkiing\\nAlpine Skiing\\nFRA\\nslalom\\nW\\nBronze1968\\nGrenoble\\nSkiing\\nAlpine Skiing\\nFRA\\nslalom\\nW\\nGold1968\\nGrenoble\\nBobsleigh\\nBobsleigh\\nFRG\\ntwo-man\\nM\\nSilver1968\\nGrenoble\\nLuge\\nLuge\\nFRG\\ndoubles\\nX\\nBronze1968\\nGrenoble\\nLuge\\nLuge\\nFRG\\nsingles\\nW\\nBronze1968\\nGrenoble\\nLuge\\nLuge\\nFRG\\nsingles\\nW\\nSilver1968\\nGrenoble\\nSkating\\nFigure skating\\nFRG\\npairs\\nX\\nBronze1968\\nGrenoble\\nSkating\\nSpeed skating\\nFRG\\n500m\\nM\\nGold1968\\nGrenoble\\nSkiing\\nNordic Combined\\nFRG\\nindividual\\nM\\nGold1968\\nGrenoble\\nLuge\\nLuge\\nGDR\\ndoubles\\nX\\nGold1968\\nGrenoble\\nLuge\\nLuge\\nGDR\\nsingles\\nM\\nBronze1968\\nGrenoble\\nLuge\\nLuge\\nGDR\\nsingles\\nM\\nSilver1968\\nGrenoble\\nSkating\\nFigure skating\\nGDR\\nindividual\\nW\\nSilver1968\\nGrenoble\\nSkiing\\nNordic Combined\\nGDR\\nindividual\\nM\\nBronze1968\\nGrenoble\\nBobsleigh\\nBobsleigh\\nITA\\nfour-man\\nM\\nGold1968\\nGrenoble\\nBobsleigh\\nBobsleigh\\nITA\\ntwo-man\\nM\\nGold1968\\nGrenoble\\nLuge\\nLuge\\nITA\\nsingles\\nW\\nGold1968\\nGrenoble\\nSkiing\\nCross Country S\\nITA\\n30km mass start\\nM\\nGold1968\\nGrenoble\\nSkating\\nSpeed skating\\nNED\\n1000m\\nW\\nGold1968\\nGrenoble\\nSkating\\nSpeed skating\\nNED\\n1500m\\nM\\nGold1968\\nGrenoble\\nSkating\\nSpeed skating\\nNED\\n1500m\\nM\\nSilver1968\\nGrenoble\\nSkating\\nSpeed skating\\nNED\\n1500m\\nW\\nBronze1968\\nGrenoble\\nSkating\\nSpeed skating\\nNED\\n1500m\\nW\\nSilver1968\\nGrenoble\\nSkating\\nSpeed skating\\nNED\\n3000m\\nW\\nBronze1968\\nGrenoble\\nSkating\\nSpeed skating\\nNED\\n3000m\\nW\\nGold1968\\nGrenoble\\nSkating\\nSpeed skating\\nNED\\n5000m\\nM\\nBronze1968\\nGrenoble\\nSkating\\nSpeed skating\\nNED\\n5000m\\nM\\nSilver1968\\nGrenoble\\nBiathlon\\nBiathlon\\nNOR\\n20km\\nM\\nGold1968\\nGrenoble\\nBiathlon\\nBiathlon\\nNOR\\n4x7.5km relay\\nM\\nSilver1968\\nGrenoble\\nSkating\\nSpeed skating\\nNOR\\n10000m\\nM\\nSilver1968\\nGrenoble\\nSkating\\nSpeed skating\\nNOR\\n1500m\\nM\\nSilver1968\\nGrenoble\\nSkating\\nSpeed skating\\nNOR\\n5000m\\nM\\nGold1968\\nGrenoble\\nSkating\\nSpeed skating\\nNOR\\n500m\\nM\\nSilver1968\\nGrenoble\\nSkiing\\nCross Country S\\nNOR\\n10km\\nW\\nBronze1968\\nGrenoble\\nSkiing\\nCross Country S\\nNOR\\n10km\\nW\\nSilver1968\\nGrenoble\\nSkiing\\nCross Country S\\nNOR\\n15km\\nM\\nGold1968\\nGrenoble\\nSkiing\\nCross Country S\\nNOR\\n30km mass start\\nM\\nSilver1968\\nGrenoble\\nSkiing\\nCross Country S\\nNOR\\n3x5km relay\\nW\\nGold1968\\nGrenoble\\nSkiing\\nCross Country S\\nNOR\\n4x10km relay\\nM\\nGold1968\\nGrenoble\\nSkiing\\nCross Country S\\nNOR\\n50km\\nM\\nGold1968\\nGrenoble\\nSkiing\\nSki Jumping\\nNOR\\nK120 individual (90m)\\nM\\nBronze1968\\nGrenoble\\nBobsleigh\\nBobsleigh\\nROU\\ntwo-man\\nM\\nBronze1968\\nGrenoble\\nBobsleigh\\nBobsleigh\\nSUI\\nfour-man\\nM\\nBronze1968\\nGrenoble\\nSkiing\\nAlpine Skiing\\nSUI\\ndownhill\\nM\\nBronze1968\\nGrenoble\\nSkiing\\nAlpine Skiing\\nSUI\\ngiant slalom\\nM\\nSilver1968\\nGrenoble\\nSkiing\\nAlpine Skiing\\nSUI\\ngiant slalom\\nW\\nBronze1968\\nGrenoble\\nSkiing\\nCross Country S\\nSUI\\n50km\\nM\\nBronze1968\\nGrenoble\\nSkiing\\nNordic Combined\\nSUI\\nindividual\\nM\\nSilver1968\\nGrenoble\\nBiathlon\\nBiathlon\\nSWE\\n4x7.5km relay\\nM\\nBronze1968\\nGrenoble\\nSkating\\nSpeed skating\\nSWE\\n10000m\\nM\\nBronze1968\\nGrenoble\\nSkating\\nSpeed skating\\nSWE\\n10000m\\nM\\nGold1968\\nGrenoble\\nSkiing\\nCross Country S\\nSWE\\n10km\\nW\\nGold1968\\nGrenoble\\nSkiing\\nCross Country S\\nSWE\\n15km\\nM\\nBronze1968\\nGrenoble\\nSkiing\\nCross Country S\\nSWE\\n3x5km relay\\nW\\nSilver1968\\nGrenoble\\nSkiing\\nCross Country S\\nSWE\\n4x10km relay\\nM\\nSilver1968\\nGrenoble\\nSkiing\\nCross Country S\\nSWE\\n5km\\nW\\nGold1968\\nGrenoble\\nIce Hockey\\nIce Hockey\\nTCH\\nice hockey\\nM\\nSilver1968\\nGrenoble\\nSkating\\nFigure skating\\nTCH\\nindividual\\nW\\nBronze1968\\nGrenoble\\nSkiing\\nSki Jumping\\nTCH\\nK120 individual (90m)\\nM\\nSilver1968\\nGrenoble\\nSkiing\\nSki Jumping\\nTCH\\nK90 individual (70m)\\nM\\nGold1968\\nGrenoble\\nBiathlon\\nBiathlon\\nURS\\n20km\\nM\\nBronze1968\\nGrenoble\\nBiathlon\\nBiathlon\\nURS\\n20km\\nM\\nSilver1968\\nGrenoble\\nBiathlon\\nBiathlon\\nURS\\n4x7.5km relay\\nM\\nGold1968\\nGrenoble\\nIce Hockey\\nIce Hockey\\nURS\\nice hockey\\nM\\nGold1968\\nGrenoble\\nSkating\\nFigure skating\\nURS\\npairs\\nX\\nGold1968\\nGrenoble\\nSkating\\nFigure skating\\nURS\\npairs\\nX\\nSilver1968\\nGrenoble\\nSkating\\nSpeed skating\\nURS\\n1000m\\nW\\nSilver1968\\nGrenoble\\nSkating\\nSpeed skating\\nURS\\n500m\\nW\\nGold1968\\nGrenoble\\nSkiing\\nCross Country S\\nURS\\n3x5km relay\\nW\\nBronze1968\\nGrenoble\\nSkiing\\nCross Country S\\nURS\\n50km\\nM\\nSilver1968\\nGrenoble\\nSkiing\\nCross Country S\\nURS\\n5km\\nW\\nBronze1968\\nGrenoble\\nSkiing\\nCross Country S\\nURS\\n5km\\nW\\nSilver1968\\nGrenoble\\nSkiing\\nSki Jumping\\nURS\\nK120 individual (90m)\\nM\\nGold1968\\nGrenoble\\nSkating\\nFigure skating\\nUSA\\nindividual\\nM\\nSilver1968\\nGrenoble\\nSkating\\nFigure skating\\nUSA\\nindividual\\nW\\nGold1968\\nGrenoble\\nSkating\\nSpeed skating\\nUSA\\n1000m\\nW\\nBronze1968\\nGrenoble\\nSkating\\nSpeed skating\\nUSA\\n500m\\nM\\nSilver1968\\nGrenoble\\nSkating\\nSpeed skating\\nUSA\\n500m\\nW\\nSilver1968\\nGrenoble\\nSkating\\nSpeed skating\\nUSA\\n500m\\nW\\nSilver1968\\nGrenoble\\nSkating\\nSpeed skating\\nUSA\\n500m\\nW\\nSilver1972\\nSapporo\\nSkating\\nFigure skating\\nAUT\\nindividual\\nW\\nGold1972\\nSapporo\\nSkiing\\nAlpine Skiing\\nAUT\\ndownhill\\nM\\nBronze1972\\nSapporo\\nSkiing\\nAlpine Skiing\\nAUT\\ndownhill\\nW\\nSilver1972\\nSapporo\\nSkiing\\nAlpine Skiing\\nAUT\\ngiant slalom\\nW\\nBronze1972\\nSapporo\\nSkiing\\nAlpine Skiing\\nAUT\\ngiant slalom\\nW\\nSilver1972\\nSapporo\\nSkating\\nFigure skating\\nCAN\\nindividual\\nW\\nSilver1972\\nSapporo\\nSkiing\\nAlpine Skiing\\nESP\\nslalom\\nM\\nGold1972\\nSapporo\\nBiathlon\\nBiathlon\\nFIN\\n4x7.5km relay\\nM\\nSilver1972\\nSapporo\\nSkiing\\nCross Country S\\nFIN\\n10km\\nW\\nBronze1972\\nSapporo\\nSkiing\\nCross Country S\\nFIN\\n3x5km relay\\nW\\nSilver1972\\nSapporo\\nSkiing\\nCross Country S\\nFIN\\n5km\\nW\\nSilver1972\\nSapporo\\nSkiing\\nNordic Combined\\nFIN\\nindividual\\nM\\nSilver1972\\nSapporo\\nSkating\\nFigure skating\\nFRA\\nindividual\\nM\\nBronze1972\\nSapporo\\nSkiing\\nAlpine Skiing\\nFRA\\nslalom\\nW\\nBronze1972\\nSapporo\\nSkiing\\nAlpine Skiing\\nFRA\\nslalom\\nW\\nSilver1972\\nSapporo\\nBobsleigh\\nBobsleigh\\nFRG\\nfour-man\\nM\\nBronze1972\\nSapporo\\nBobsleigh\\nBobsleigh\\nFRG\\ntwo-man\\nM\\nGold1972\\nSapporo\\nBobsleigh\\nBobsleigh\\nFRG\\ntwo-man\\nM\\nSilver1972\\nSapporo\\nSkating\\nSpeed skating\\nFRG\\n1000m\\nW\\nGold1972\\nSapporo\\nSkating\\nSpeed skating\\nFRG\\n500m\\nM\\nGold1972\\nSapporo\\nBiathlon\\nBiathlon\\nGDR\\n20km\\nM\\nSilver1972\\nSapporo\\nBiathlon\\nBiathlon\\nGDR\\n4x7.5km relay\\nM\\nBronze1972\\nSapporo\\nLuge\\nLuge\\nGDR\\ndoubles\\nX\\nBronze1972\\nSapporo\\nLuge\\nLuge\\nGDR\\ndoubles\\nX\\nGold1972\\nSapporo\\nLuge\\nLuge\\nGDR\\nsingles\\nM\\nBronze1972\\nSapporo\\nLuge\\nLuge\\nGDR\\nsingles\\nM\\nGold1972\\nSapporo\\nLuge\\nLuge\\nGDR\\nsingles\\nM\\nSilver1972\\nSapporo\\nLuge\\nLuge\\nGDR\\nsingles\\nW\\nBronze1972\\nSapporo\\nLuge\\nLuge\\nGDR\\nsingles\\nW\\nGold1972\\nSapporo\\nLuge\\nLuge\\nGDR\\nsingles\\nW\\nSilver1972\\nSapporo\\nSkating\\nFigure skating\\nGDR\\npairs\\nX\\nBronze1972\\nSapporo\\nSkiing\\nNordic Combined\\nGDR\\nindividual\\nM\\nBronze1972\\nSapporo\\nSkiing\\nNordic Combined\\nGDR\\nindividual\\nM\\nGold1972\\nSapporo\\nSkiing\\nSki Jumping\\nGDR\\nK120 individual (90m)\\nM\\nBronze1972\\nSapporo\\nBobsleigh\\nBobsleigh\\nITA\\nfour-man\\nM\\nSilver1972\\nSapporo\\nLuge\\nLuge\\nITA\\ndoubles\\nX\\nGold1972\\nSapporo\\nSkiing\\nAlpine Skiing\\nITA\\ngiant slalom\\nM\\nGold1972\\nSapporo\\nSkiing\\nAlpine Skiing\\nITA\\nslalom\\nM\\nBronze1972\\nSapporo\\nSkiing\\nAlpine Skiing\\nITA\\nslalom\\nM\\nSilver1972\\nSapporo\\nSkiing\\nSki Jumping\\nJPN\\nK90 individual (70m)\\nM\\nBronze1972\\nSapporo\\nSkiing\\nSki Jumping\\nJPN\\nK90 individual (70m)\\nM\\nGold1972\\nSapporo\\nSkiing\\nSki Jumping\\nJPN\\nK90 individual (70m)\\nM\\nSilver1972\\nSapporo\\nSkating\\nSpeed skating\\nNED\\n10000m\\nM\\nGold1972\\nSapporo\\nSkating\\nSpeed skating\\nNED\\n10000m\\nM\\nSilver1972\\nSapporo\\nSkating\\nSpeed skating\\nNED\\n1000m\\nW\\nSilver1972\\nSapporo\\nSkating\\nSpeed skating\\nNED\\n1500m\\nM\\nGold1972\\nSapporo\\nSkating\\nSpeed skating\\nNED\\n1500m\\nW\\nBronze1972\\nSapporo\\nSkating\\nSpeed skating\\nNED\\n1500m\\nW\\nSilver1972\\nSapporo\\nSkating\\nSpeed skating\\nNED\\n3000m\\nW\\nBronze1972\\nSapporo\\nSkating\\nSpeed skating\\nNED\\n3000m\\nW\\nGold1972\\nSapporo\\nSkating\\nSpeed skating\\nNED\\n5000m\\nM\\nGold1972\\nSapporo\\nBiathlon\\nBiathlon\\nNOR\\n20km\\nM\\nGold1972\\nSapporo\\nSkating\\nSpeed skating\\nNOR\\n10000m\\nM\\nBronze1972\\nSapporo\\nSkating\\nSpeed skating\\nNOR\\n1500m\\nM\\nSilver1972\\nSapporo\\nSkating\\nSpeed skating\\nNOR\\n5000m\\nM\\nBronze1972\\nSapporo\\nSkating\\nSpeed skating\\nNOR\\n5000m\\nM\\nSilver1972\\nSapporo\\nSkiing\\nCross Country S\\nNOR\\n15km\\nM\\nBronze1972\\nSapporo\\nSkiing\\nCross Country S\\nNOR\\n30km mass start\\nM\\nBronze1972\\nSapporo\\nSkiing\\nCross Country S\\nNOR\\n30km mass start\\nM\\nSilver1972\\nSapporo\\nSkiing\\nCross Country S\\nNOR\\n3x5km relay\\nW\\nBronze1972\\nSapporo\\nSkiing\\nCross Country S\\nNOR\\n4x10km relay\\nM\\nSilver1972\\nSapporo\\nSkiing\\nCross Country S\\nNOR\\n50km\\nM\\nGold1972\\nSapporo\\nSkiing\\nCross Country S\\nNOR\\n50km\\nM\\nSilver1972\\nSapporo\\nSkiing\\nSki Jumping\\nPOL\\nK120 individual (90m)\\nM\\nGold1972\\nSapporo\\nBobsleigh\\nBobsleigh\\nSUI\\nfour-man\\nM\\nGold1972\\nSapporo\\nBobsleigh\\nBobsleigh\\nSUI\\ntwo-man\\nM\\nBronze1972\\nSapporo\\nSkiing\\nAlpine Skiing\\nSUI\\ndownhill\\nM\\nGold1972\\nSapporo\\nSkiing\\nAlpine Skiing\\nSUI\\ndownhill\\nM\\nSilver1972\\nSapporo\\nSkiing\\nAlpine Skiing\\nSUI\\ndownhill\\nW\\nGold1972\\nSapporo\\nSkiing\\nAlpine Skiing\\nSUI\\ngiant slalom\\nM\\nBronze1972\\nSapporo\\nSkiing\\nAlpine Skiing\\nSUI\\ngiant slalom\\nM\\nSilver1972\\nSapporo\\nSkiing\\nAlpine Skiing\\nSUI\\ngiant slalom\\nW\\nGold1972\\nSapporo\\nSkiing\\nCross Country S\\nSUI\\n4x10km relay\\nM\\nBronze1972\\nSapporo\\nSkiing\\nSki Jumping\\nSUI\\nK120 individual (90m)\\nM\\nSilver1972\\nSapporo\\nBiathlon\\nBiathlon\\nSWE\\n20km\\nM\\nBronze1972\\nSapporo\\nSkating\\nSpeed skating\\nSWE\\n1500m\\nM\\nBronze1972\\nSapporo\\nSkating\\nSpeed skating\\nSWE\\n500m\\nM\\nSilver1972\\nSapporo\\nSkiing\\nCross Country S\\nSWE\\n15km\\nM\\nGold1972\\nSapporo\\nIce Hockey\\nIce Hockey\\nTCH\\nice hockey\\nM\\nBronze1972\\nSapporo\\nSkating\\nFigure skating\\nTCH\\nindividual\\nM\\nGold1972\\nSapporo\\nSkiing\\nCross Country S\\nTCH\\n5km\\nW\\nBronze1972\\nSapporo\\nBiathlon\\nBiathlon\\nURS\\n4x7.5km relay\\nM\\nGold1972\\nSapporo\\nIce Hockey\\nIce Hockey\\nURS\\nice hockey\\nM\\nGold1972\\nSapporo\\nSkating\\nFigure skating\\nURS\\nindividual\\nM\\nSilver1972\\nSapporo\\nSkating\\nFigure skating\\nURS\\npairs\\nX\\nGold1972\\nSapporo\\nSkating\\nFigure skating\\nURS\\npairs\\nX\\nSilver1972\\nSapporo\\nSkating\\nSpeed skating\\nURS\\n500m\\nM\\nBronze1972\\nSapporo\\nSkating\\nSpeed skating\\nURS\\n500m\\nW\\nBronze1972\\nSapporo\\nSkating\\nSpeed skating\\nURS\\n500m\\nW\\nSilver1972\\nSapporo\\nSkiing\\nCross Country S\\nURS\\n10km\\nW\\nGold1972\\nSapporo\\nSkiing\\nCross Country S\\nURS\\n10km\\nW\\nSilver1972\\nSapporo\\nSkiing\\nCross Country S\\nURS\\n15km\\nM\\nSilver1972\\nSapporo\\nSkiing\\nCross Country S\\nURS\\n30km mass start\\nM\\nGold1972\\nSapporo\\nSkiing\\nCross Country S\\nURS\\n3x5km relay\\nW\\nGold1972\\nSapporo\\nSkiing\\nCross Country S\\nURS\\n4x10km relay\\nM\\nGold1972\\nSapporo\\nSkiing\\nCross Country S\\nURS\\n50km\\nM\\nBronze1972\\nSapporo\\nSkiing\\nCross Country S\\nURS\\n5km\\nW\\nGold1972\\nSapporo\\nIce Hockey\\nIce Hockey\\nUSA\\nice hockey\\nM\\nSilver1972\\nSapporo\\nSkating\\nFigure skating\\nUSA\\nindividual\\nW\\nBronze1972\\nSapporo\\nSkating\\nSpeed skating\\nUSA\\n1000m\\nW\\nBronze1972\\nSapporo\\nSkating\\nSpeed skating\\nUSA\\n1500m\\nW\\nGold1972\\nSapporo\\nSkating\\nSpeed skating\\nUSA\\n3000m\\nW\\nSilver1972\\nSapporo\\nSkating\\nSpeed skating\\nUSA\\n500m\\nW\\nGold1972\\nSapporo\\nSkiing\\nAlpine Skiing\\nUSA\\ndownhill\\nW\\nBronze1972\\nSapporo\\nSkiing\\nAlpine Skiing\\nUSA\\nslalom\\nW\\nGold1976\\nInnsbruck\\nLuge\\nLuge\\nAUT\\ndoubles\\nX\\nBronze1976\\nInnsbruck\\nSkiing\\nAlpine Skiing\\nAUT\\ndownhill\\nM\\nGold1976\\nInnsbruck\\nSkiing\\nAlpine Skiing\\nAUT\\ndownhill\\nW\\nSilver1976\\nInnsbruck\\nSkiing\\nSki Jumping\\nAUT\\nK120 individual (90m)\\nM\\nGold1976\\nInnsbruck\\nSkiing\\nSki Jumping\\nAUT\\nK120 individual (90m)\\nM\\nSilver1976\\nInnsbruck\\nSkiing\\nSki Jumping\\nAUT\\nK90 individual (70m)\\nM\\nBronze1976\\nInnsbruck\\nSkating\\nFigure skating\\nCAN\\nindividual\\nM\\nBronze1976\\nInnsbruck\\nSkating\\nSpeed skating\\nCAN\\n500m\\nW\\nSilver1976\\nInnsbruck\\nSkiing\\nAlpine Skiing\\nCAN\\ngiant slalom\\nW\\nGold1976\\nInnsbruck\\nBiathlon\\nBiathlon\\nFIN\\n20km\\nM\\nSilver1976\\nInnsbruck\\nBiathlon\\nBiathlon\\nFIN\\n4x7.5km relay\\nM\\nSilver1976\\nInnsbruck\\nSkiing\\nCross Country S\\nFIN\\n10km\\nW\\nSilver1976\\nInnsbruck\\nSkiing\\nCross Country S\\nFIN\\n15km\\nM\\nBronze1976\\nInnsbruck\\nSkiing\\nCross Country S\\nFIN\\n4x10km relay\\nM\\nGold1976\\nInnsbruck\\nSkiing\\nCross Country S\\nFIN\\n4x5km relay\\nW\\nSilver1976\\nInnsbruck\\nSkiing\\nCross Country S\\nFIN\\n5km\\nW\\nGold1976\\nInnsbruck\\nSkiing\\nAlpine Skiing\\nFRA\\ngiant slalom\\nW\\nBronze1976\\nInnsbruck\\nBobsleigh\\nBobsleigh\\nFRG\\nfour-man\\nM\\nBronze1976\\nInnsbruck\\nBobsleigh\\nBobsleigh\\nFRG\\ntwo-man\\nM\\nSilver1976\\nInnsbruck\\nIce Hockey\\nIce Hockey\\nFRG\\nice hockey\\nM\\nBronze1976\\nInnsbruck\\nLuge\\nLuge\\nFRG\\ndoubles\\nX\\nSilver1976\\nInnsbruck\\nLuge\\nLuge\\nFRG\\nsingles\\nM\\nSilver1976\\nInnsbruck\\nLuge\\nLuge\\nFRG\\nsingles\\nW\\nBronze1976\\nInnsbruck\\nSkiing\\nAlpine Skiing\\nFRG\\ndownhill\\nW\\nGold1976\\nInnsbruck\\nSkiing\\nAlpine Skiing\\nFRG\\ngiant slalom\\nW\\nSilver1976\\nInnsbruck\\nSkiing\\nAlpine Skiing\\nFRG\\nslalom\\nW\\nGold1976\\nInnsbruck\\nSkiing\\nNordic Combined\\nFRG\\nindividual\\nM\\nSilver1976\\nInnsbruck\\nSkating\\nFigure skating\\nGBR\\nindividual\\nM\\nGold1976\\nInnsbruck\\nBiathlon\\nBiathlon\\nGDR\\n4x7.5km relay\\nM\\nBronze1976\\nInnsbruck\\nBobsleigh\\nBobsleigh\\nGDR\\nfour-man\\nM\\nGold1976\\nInnsbruck\\nBobsleigh\\nBobsleigh\\nGDR\\ntwo-man\\nM\\nGold1976\\nInnsbruck\\nLuge\\nLuge\\nGDR\\ndoubles\\nX\\nGold1976\\nInnsbruck\\nLuge\\nLuge\\nGDR\\nsingles\\nM\\nBronze1976\\nInnsbruck\\nLuge\\nLuge\\nGDR\\nsingles\\nM\\nGold1976\\nInnsbruck\\nLuge\\nLuge\\nGDR\\nsingles\\nW\\nGold1976\\nInnsbruck\\nLuge\\nLuge\\nGDR\\nsingles\\nW\\nSilver1976\\nInnsbruck\\nSkating\\nFigure skating\\nGDR\\nindividual\\nW\\nBronze1976\\nInnsbruck\\nSkating\\nFigure skating\\nGDR\\npairs\\nX\\nBronze1976\\nInnsbruck\\nSkating\\nFigure skating\\nGDR\\npairs\\nX\\nSilver1976\\nInnsbruck\\nSkating\\nSpeed skating\\nGDR\\n3000m\\nW\\nSilver1976\\nInnsbruck\\nSkiing\\nCross Country S\\nGDR\\n4x5km relay\\nW\\nBronze1976\\nInnsbruck\\nSkiing\\nCross Country S\\nGDR\\n50km\\nM\\nSilver1976\\nInnsbruck\\nSkiing\\nNordic Combined\\nGDR\\nindividual\\nM\\nBronze1976\\nInnsbruck\\nSkiing\\nNordic Combined\\nGDR\\nindividual\\nM\\nGold1976\\nInnsbruck\\nSkiing\\nSki Jumping\\nGDR\\nK120 individual (90m)\\nM\\nBronze1976\\nInnsbruck\\nSkiing\\nSki Jumping\\nGDR\\nK90 individual (70m)\\nM\\nGold1976\\nInnsbruck\\nSkiing\\nSki Jumping\\nGDR\\nK90 individual (70m)\\nM\\nSilver1976\\nInnsbruck\\nSkiing\\nAlpine Skiing\\nITA\\ndownhill\\nM\\nBronze1976\\nInnsbruck\\nSkiing\\nAlpine Skiing\\nITA\\nslalom\\nM\\nGold1976\\nInnsbruck\\nSkiing\\nAlpine Skiing\\nITA\\nslalom\\nM\\nSilver1976\\nInnsbruck\\nSkiing\\nAlpine Skiing\\nITA\\nslalom\\nW\\nSilver1976\\nInnsbruck\\nSkiing\\nAlpine Skiing\\nLIE\\nslalom\\nM\\nBronze1976\\nInnsbruck\\nSkiing\\nAlpine Skiing\\nLIE\\nslalom\\nW\\nBronze1976\\nInnsbruck\\nSkating\\nFigure skating\\nNED\\nindividual\\nW\\nSilver1976\\nInnsbruck\\nSkating\\nSpeed skating\\nNED\\n10000m\\nM\\nBronze1976\\nInnsbruck\\nSkating\\nSpeed skating\\nNED\\n10000m\\nM\\nGold1976\\nInnsbruck\\nSkating\\nSpeed skating\\nNED\\n1500m\\nM\\nBronze1976\\nInnsbruck\\nSkating\\nSpeed skating\\nNED\\n5000m\\nM\\nBronze1976\\nInnsbruck\\nSkating\\nSpeed skating\\nNED\\n5000m\\nM\\nSilver1976\\nInnsbruck\\nSkating\\nSpeed skating\\nNOR\\n10000m\\nM\\nSilver1976\\nInnsbruck\\nSkating\\nSpeed skating\\nNOR\\n1000m\\nM\\nSilver1976\\nInnsbruck\\nSkating\\nSpeed skating\\nNOR\\n1500m\\nM\\nGold1976\\nInnsbruck\\nSkating\\nSpeed skating\\nNOR\\n3000m\\nW\\nBronze1976\\nInnsbruck\\nSkating\\nSpeed skating\\nNOR\\n5000m\\nM\\nGold1976\\nInnsbruck\\nSkiing\\nCross Country S\\nNOR\\n4x10km relay\\nM\\nSilver1976\\nInnsbruck\\nSkiing\\nCross Country S\\nNOR\\n50km\\nM\\nGold1976\\nInnsbruck\\nBobsleigh\\nBobsleigh\\nSUI\\nfour-man\\nM\\nSilver1976\\nInnsbruck\\nBobsleigh\\nBobsleigh\\nSUI\\ntwo-man\\nM\\nBronze1976\\nInnsbruck\\nSkiing\\nAlpine Skiing\\nSUI\\ndownhill\\nM\\nSilver1976\\nInnsbruck\\nSkiing\\nAlpine Skiing\\nSUI\\ngiant slalom\\nM\\nGold1976\\nInnsbruck\\nSkiing\\nAlpine Skiing\\nSUI\\ngiant slalom\\nM\\nSilver1976\\nInnsbruck\\nSkiing\\nAlpine Skiing\\nSWE\\ngiant slalom\\nM\\nBronze1976\\nInnsbruck\\nSkiing\\nCross Country S\\nSWE\\n50km\\nM\\nBronze1976\\nInnsbruck\\nIce Hockey\\nIce Hockey\\nTCH\\nice hockey\\nM\\nSilver1976\\nInnsbruck\\nBiathlon\\nBiathlon\\nURS\\n20km\\nM\\nBronze1976\\nInnsbruck\\nBiathlon\\nBiathlon\\nURS\\n20km\\nM\\nGold1976\\nInnsbruck\\nBiathlon\\nBiathlon\\nURS\\n4x7.5km relay\\nM\\nGold1976\\nInnsbruck\\nIce Hockey\\nIce Hockey\\nURS\\nice hockey\\nM\\nGold1976\\nInnsbruck\\nSkating\\nFigure skating\\nURS\\nice dancing\\nX\\nGold1976\\nInnsbruck\\nSkating\\nFigure skating\\nURS\\nice dancing\\nX\\nSilver1976\\nInnsbruck\\nSkating\\nFigure skating\\nURS\\nindividual\\nM\\nSilver1976\\nInnsbruck\\nSkating\\nFigure skating\\nURS\\npairs\\nX\\nGold1976\\nInnsbruck\\nSkating\\nSpeed skating\\nURS\\n1000m\\nM\\nBronze1976\\nInnsbruck\\nSkating\\nSpeed skating\\nURS\\n1000m\\nW\\nGold1976\\nInnsbruck\\nSkating\\nSpeed skating\\nURS\\n1500m\\nM\\nSilver1976\\nInnsbruck\\nSkating\\nSpeed skating\\nURS\\n1500m\\nW\\nBronze1976\\nInnsbruck\\nSkating\\nSpeed skating\\nURS\\n1500m\\nW\\nGold1976\\nInnsbruck\\nSkating\\nSpeed skating\\nURS\\n3000m\\nW\\nGold1976\\nInnsbruck\\nSkating\\nSpeed skating\\nURS\\n500m\\nM\\nGold1976\\nInnsbruck\\nSkating\\nSpeed skating\\nURS\\n500m\\nM\\nSilver1976\\nInnsbruck\\nSkating\\nSpeed skating\\nURS\\n500m\\nW\\nBronze1976\\nInnsbruck\\nSkiing\\nCross Country S\\nURS\\n10km\\nW\\nBronze1976\\nInnsbruck\\nSkiing\\nCross Country S\\nURS\\n10km\\nW\\nGold1976\\nInnsbruck\\nSkiing\\nCross Country S\\nURS\\n15km\\nM\\nGold1976\\nInnsbruck\\nSkiing\\nCross Country S\\nURS\\n15km\\nM\\nSilver1976\\nInnsbruck\\nSkiing\\nCross Country S\\nURS\\n30km mass start\\nM\\nBronze1976\\nInnsbruck\\nSkiing\\nCross Country S\\nURS\\n30km mass start\\nM\\nGold1976\\nInnsbruck\\nSkiing\\nCross Country S\\nURS\\n4x10km relay\\nM\\nBronze1976\\nInnsbruck\\nSkiing\\nCross Country S\\nURS\\n4x5km relay\\nW\\nGold1976\\nInnsbruck\\nSkiing\\nCross Country S\\nURS\\n5km\\nW\\nBronze1976\\nInnsbruck\\nSkiing\\nCross Country S\\nURS\\n5km\\nW\\nSilver1976\\nInnsbruck\\nSkating\\nFigure skating\\nUSA\\nice dancing\\nX\\nBronze1976\\nInnsbruck\\nSkating\\nFigure skating\\nUSA\\nindividual\\nW\\nGold1976\\nInnsbruck\\nSkating\\nSpeed skating\\nUSA\\n1000m\\nM\\nGold1976\\nInnsbruck\\nSkating\\nSpeed skating\\nUSA\\n1000m\\nW\\nBronze1976\\nInnsbruck\\nSkating\\nSpeed skating\\nUSA\\n1000m\\nW\\nSilver1976\\nInnsbruck\\nSkating\\nSpeed skating\\nUSA\\n1500m\\nW\\nSilver1976\\nInnsbruck\\nSkating\\nSpeed skating\\nUSA\\n500m\\nM\\nBronze1976\\nInnsbruck\\nSkating\\nSpeed skating\\nUSA\\n500m\\nW\\nGold1976\\nInnsbruck\\nSkiing\\nAlpine Skiing\\nUSA\\ndownhill\\nW\\nBronze1976\\nInnsbruck\\nSkiing\\nCross Country S\\nUSA\\n30km mass start\\nM\\nSilver1980\\nLake Placid\\nLuge\\nLuge\\nAUT\\ndoubles\\nX\\nBronze1980\\nLake Placid\\nSkiing\\nAlpine Skiing\\nAUT\\ndownhill\\nM\\nGold1980\\nLake Placid\\nSkiing\\nAlpine Skiing\\nAUT\\ndownhill\\nM\\nSilver1980\\nLake Placid\\nSkiing\\nAlpine Skiing\\nAUT\\ndownhill\\nW\\nGold1980\\nLake Placid\\nSkiing\\nAlpine Skiing\\nAUT\\ngiant slalom\\nM\\nBronze1980\\nLake Placid\\nSkiing\\nSki Jumping\\nAUT\\nK120 individual (90m)\\nM\\nSilver1980\\nLake Placid\\nSkiing\\nSki Jumping\\nAUT\\nK90 individual (70m)\\nM\\nGold1980\\nLake Placid\\nSkiing\\nCross Country S\\nBUL\\n30km mass start\\nM\\nBronze1980\\nLake Placid\\nSkating\\nSpeed skating\\nCAN\\n1000m\\nM\\nSilver1980\\nLake Placid\\nSkiing\\nAlpine Skiing\\nCAN\\ndownhill\\nM\\nBronze1980\\nLake Placid\\nSkiing\\nCross Country S\\nFIN\\n10km\\nW\\nBronze1980\\nLake Placid\\nSkiing\\nCross Country S\\nFIN\\n10km\\nW\\nSilver1980\\nLake Placid\\nSkiing\\nCross Country S\\nFIN\\n15km\\nM\\nSilver1980\\nLake Placid\\nSkiing\\nCross Country S\\nFIN\\n4x10km relay\\nM\\nBronze1980\\nLake Placid\\nSkiing\\nCross Country S\\nFIN\\n50km\\nM\\nSilver1980\\nLake Placid\\nSkiing\\nCross Country S\\nFIN\\n5km\\nW\\nSilver1980\\nLake Placid\\nSkiing\\nNordic Combined\\nFIN\\nindividual\\nM\\nSilver1980\\nLake Placid\\nSkiing\\nSki Jumping\\nFIN\\nK120 individual (90m)\\nM\\nBronze1980\\nLake Placid\\nSkiing\\nSki Jumping\\nFIN\\nK120 individual (90m)\\nM\\nGold1980\\nLake Placid\\nSkiing\\nAlpine Skiing\\nFRA\\ngiant slalom\\nW\\nBronze1980\\nLake Placid\\nBiathlon\\nBiathlon\\nFRG\\n4x7.5km relay\\nM\\nBronze1980\\nLake Placid\\nLuge\\nLuge\\nFRG\\nsingles\\nM\\nBronze1980\\nLake Placid\\nSkating\\nFigure skating\\nFRG\\nindividual\\nW\\nBronze1980\\nLake Placid\\nSkiing\\nAlpine Skiing\\nFRG\\ngiant slalom\\nW\\nSilver1980\\nLake Placid\\nSkiing\\nAlpine Skiing\\nFRG\\nslalom\\nW\\nSilver1980\\nLake Placid\\nSkating\\nFigure skating\\nGBR\\nindividual\\nM\\nGold1980\\nLake Placid\\nBiathlon\\nBiathlon\\nGDR\\n10km\\nM\\nGold1980\\nLake Placid\\nBiathlon\\nBiathlon\\nGDR\\n20km\\nM\\nBronze1980\\nLake Placid\\nBiathlon\\nBiathlon\\nGDR\\n20km\\nM\\nSilver1980\\nLake Placid\\nBiathlon\\nBiathlon\\nGDR\\n4x7.5km relay\\nM\\nSilver1980\\nLake Placid\\nBobsleigh\\nBobsleigh\\nGDR\\nfour-man\\nM\\nBronze1980\\nLake Placid\\nBobsleigh\\nBobsleigh\\nGDR\\nfour-man\\nM\\nGold1980\\nLake Placid\\nBobsleigh\\nBobsleigh\\nGDR\\ntwo-man\\nM\\nBronze1980\\nLake Placid\\nBobsleigh\\nBobsleigh\\nGDR\\ntwo-man\\nM\\nSilver1980\\nLake Placid\\nLuge\\nLuge\\nGDR\\ndoubles\\nX\\nGold1980\\nLake Placid\\nLuge\\nLuge\\nGDR\\nsingles\\nM\\nGold1980\\nLake Placid\\nLuge\\nLuge\\nGDR\\nsingles\\nW\\nSilver1980\\nLake Placid\\nSkating\\nFigure skating\\nGDR\\nindividual\\nM\\nSilver1980\\nLake Placid\\nSkating\\nFigure skating\\nGDR\\nindividual\\nW\\nGold1980\\nLake Placid\\nSkating\\nFigure skating\\nGDR\\npairs\\nX\\nBronze1980\\nLake Placid\\nSkating\\nSpeed skating\\nGDR\\n1000m\\nW\\nBronze1980\\nLake Placid\\nSkating\\nSpeed skating\\nGDR\\n1500m\\nW\\nBronze1980\\nLake Placid\\nSkating\\nSpeed skating\\nGDR\\n3000m\\nW\\nSilver1980\\nLake Placid\\nSkating\\nSpeed skating\\nGDR\\n500m\\nW\\nGold1980\\nLake Placid\\nSkiing\\nCross Country S\\nGDR\\n10km\\nW\\nGold1980\\nLake Placid\\nSkiing\\nCross Country S\\nGDR\\n4x5km relay\\nW\\nGold1980\\nLake Placid\\nSkiing\\nNordic Combined\\nGDR\\nindividual\\nM\\nBronze1980\\nLake Placid\\nSkiing\\nNordic Combined\\nGDR\\nindividual\\nM\\nGold1980\\nLake Placid\\nSkiing\\nSki Jumping\\nGDR\\nK90 individual (70m)\\nM\\nSilver1980\\nLake Placid\\nSkating\\nFigure skating\\nHUN\\nice dancing\\nX\\nSilver1980\\nLake Placid\\nLuge\\nLuge\\nITA\\ndoubles\\nX\\nSilver1980\\nLake Placid\\nLuge\\nLuge\\nITA\\nsingles\\nM\\nSilver1980\\nLake Placid\\nSkiing\\nSki Jumping\\nJPN\\nK90 individual (70m)\\nM\\nSilver1980\\nLake Placid\\nSkiing\\nAlpine Skiing\\nLIE\\ndownhill\\nW\\nSilver1980\\nLake Placid\\nSkiing\\nAlpine Skiing\\nLIE\\ngiant slalom\\nM\\nSilver1980\\nLake Placid\\nSkiing\\nAlpine Skiing\\nLIE\\ngiant slalom\\nW\\nGold1980\\nLake Placid\\nSkiing\\nAlpine Skiing\\nLIE\\nslalom\\nW\\nGold1980\\nLake Placid\\nSkating\\nSpeed skating\\nNED\\n10000m\\nM\\nSilver1980\\nLake Placid\\nSkating\\nSpeed skating\\nNED\\n1500m\\nW\\nGold1980\\nLake Placid\\nSkating\\nSpeed skating\\nNED\\n1500m\\nW\\nSilver1980\\nLake Placid\\nSkating\\nSpeed skating\\nNED\\n500m\\nM\\nBronze1980\\nLake Placid\\nSkating\\nSpeed skating\\nNOR\\n10000m\\nM\\nBronze1980\\nLake Placid\\nSkating\\nSpeed skating\\nNOR\\n1000m\\nM\\nBronze1980\\nLake Placid\\nSkating\\nSpeed skating\\nNOR\\n1500m\\nM\\nBronze1980\\nLake Placid\\nSkating\\nSpeed skating\\nNOR\\n1500m\\nM\\nSilver1980\\nLake Placid\\nSkating\\nSpeed skating\\nNOR\\n3000m\\nW\\nGold1980\\nLake Placid\\nSkating\\nSpeed skating\\nNOR\\n5000m\\nM\\nBronze1980\\nLake Placid\\nSkating\\nSpeed skating\\nNOR\\n5000m\\nM\\nSilver1980\\nLake Placid\\nSkiing\\nCross Country S\\nNOR\\n15km\\nM\\nBronze1980\\nLake Placid\\nSkiing\\nCross Country S\\nNOR\\n4x10km relay\\nM\\nSilver1980\\nLake Placid\\nSkiing\\nCross Country S\\nNOR\\n4x5km relay\\nW\\nBronze1980\\nLake Placid\\nBobsleigh\\nBobsleigh\\nSUI\\nfour-man\\nM\\nSilver1980\\nLake Placid\\nBobsleigh\\nBobsleigh\\nSUI\\ntwo-man\\nM\\nGold1980\\nLake Placid\\nSkiing\\nAlpine Skiing\\nSUI\\ndownhill\\nW\\nBronze1980\\nLake Placid\\nSkiing\\nAlpine Skiing\\nSUI\\nslalom\\nM\\nBronze1980\\nLake Placid\\nSkiing\\nAlpine Skiing\\nSUI\\nslalom\\nW\\nBronze1980\\nLake Placid\\nIce Hockey\\nIce Hockey\\nSWE\\nice hockey\\nM\\nBronze1980\\nLake Placid\\nSkiing\\nAlpine Skiing\\nSWE\\ngiant slalom\\nM\\nGold1980\\nLake Placid\\nSkiing\\nAlpine Skiing\\nSWE\\nslalom\\nM\\nGold1980\\nLake Placid\\nSkiing\\nCross Country S\\nSWE\\n15km\\nM\\nGold1980\\nLake Placid\\nSkiing\\nCross Country S\\nTCH\\n5km\\nW\\nBronze1980\\nLake Placid\\nBiathlon\\nBiathlon\\nURS\\n10km\\nM\\nBronze1980\\nLake Placid\\nBiathlon\\nBiathlon\\nURS\\n10km\\nM\\nSilver1980\\nLake Placid\\nBiathlon\\nBiathlon\\nURS\\n20km\\nM\\nGold1980\\nLake Placid\\nBiathlon\\nBiathlon\\nURS\\n4x7.5km relay\\nM\\nGold1980\\nLake Placid\\nIce Hockey\\nIce Hockey\\nURS\\nice hockey\\nM\\nSilver1980\\nLake Placid\\nLuge\\nLuge\\nURS\\nsingles\\nW\\nBronze1980\\nLake Placid\\nLuge\\nLuge\\nURS\\nsingles\\nW\\nGold1980\\nLake Placid\\nSkating\\nFigure skating\\nURS\\nice dancing\\nX\\nBronze1980\\nLake Placid\\nSkating\\nFigure skating\\nURS\\nice dancing\\nX\\nGold1980\\nLake Placid\\nSkating\\nFigure skating\\nURS\\npairs\\nX\\nGold1980\\nLake Placid\\nSkating\\nFigure skating\\nURS\\npairs\\nX\\nSilver1980\\nLake Placid\\nSkating\\nSpeed skating\\nURS\\n1000m\\nM\\nBronze1980\\nLake Placid\\nSkating\\nSpeed skating\\nURS\\n1000m\\nW\\nGold1980\\nLake Placid\\nSkating\\nSpeed skating\\nURS\\n500m\\nM\\nSilver1980\\nLake Placid\\nSkating\\nSpeed skating\\nURS\\n500m\\nW\\nBronze1980\\nLake Placid\\nSkiing\\nCross Country S\\nURS\\n30km mass start\\nM\\nGold1980\\nLake Placid\\nSkiing\\nCross Country S\\nURS\\n30km mass start\\nM\\nSilver1980\\nLake Placid\\nSkiing\\nCross Country S\\nURS\\n4x10km relay\\nM\\nGold1980\\nLake Placid\\nSkiing\\nCross Country S\\nURS\\n4x5km relay\\nW\\nSilver1980\\nLake Placid\\nSkiing\\nCross Country S\\nURS\\n50km\\nM\\nBronze1980\\nLake Placid\\nSkiing\\nCross Country S\\nURS\\n50km\\nM\\nGold1980\\nLake Placid\\nSkiing\\nCross Country S\\nURS\\n5km\\nW\\nGold1980\\nLake Placid\\nIce Hockey\\nIce Hockey\\nUSA\\nice hockey\\nM\\nGold1980\\nLake Placid\\nSkating\\nFigure skating\\nUSA\\nindividual\\nM\\nBronze1980\\nLake Placid\\nSkating\\nFigure skating\\nUSA\\nindividual\\nW\\nSilver1980\\nLake Placid\\nSkating\\nSpeed skating\\nUSA\\n10000m\\nM\\nGold1980\\nLake Placid\\nSkating\\nSpeed skating\\nUSA\\n1000m\\nM\\nGold1980\\nLake Placid\\nSkating\\nSpeed skating\\nUSA\\n1000m\\nW\\nSilver1980\\nLake Placid\\nSkating\\nSpeed skating\\nUSA\\n1500m\\nM\\nGold1980\\nLake Placid\\nSkating\\nSpeed skating\\nUSA\\n3000m\\nW\\nBronze1980\\nLake Placid\\nSkating\\nSpeed skating\\nUSA\\n5000m\\nM\\nGold1980\\nLake Placid\\nSkating\\nSpeed skating\\nUSA\\n500m\\nM\\nGold1980\\nLake Placid\\nSkating\\nSpeed skating\\nUSA\\n500m\\nW\\nSilver1980\\nLake Placid\\nSkiing\\nAlpine Skiing\\nUSA\\nslalom\\nM\\nSilver1984\\nSarajevo\\nSkiing\\nAlpine Skiing\\nAUT\\ndownhill\\nM\\nBronze1984\\nSarajevo\\nSkating\\nFigure skating\\nCAN\\nindividual\\nM\\nSilver1984\\nSarajevo\\nSkating\\nSpeed skating\\nCAN\\n1000m\\nM\\nGold1984\\nSarajevo\\nSkating\\nSpeed skating\\nCAN\\n1500m\\nM\\nGold1984\\nSarajevo\\nSkating\\nSpeed skating\\nCAN\\n500m\\nM\\nBronze1984\\nSarajevo\\nSkiing\\nCross Country S\\nFIN\\n10km\\nW\\nGold1984\\nSarajevo\\nSkiing\\nCross Country S\\nFIN\\n15km\\nM\\nBronze1984\\nSarajevo\\nSkiing\\nCross Country S\\nFIN\\n15km\\nM\\nSilver1984\\nSarajevo\\nSkiing\\nCross Country S\\nFIN\\n20km\\nW\\nGold1984\\nSarajevo\\nSkiing\\nCross Country S\\nFIN\\n4x10km relay\\nM\\nBronze1984\\nSarajevo\\nSkiing\\nCross Country S\\nFIN\\n4x5km relay\\nW\\nBronze1984\\nSarajevo\\nSkiing\\nCross Country S\\nFIN\\n50km\\nM\\nBronze1984\\nSarajevo\\nSkiing\\nCross Country S\\nFIN\\n5km\\nW\\nGold1984\\nSarajevo\\nSkiing\\nNordic Combined\\nFIN\\nindividual\\nM\\nBronze1984\\nSarajevo\\nSkiing\\nNordic Combined\\nFIN\\nindividual\\nM\\nSilver1984\\nSarajevo\\nSkiing\\nSki Jumping\\nFIN\\nK120 individual (90m)\\nM\\nGold1984\\nSarajevo\\nSkiing\\nSki Jumping\\nFIN\\nK90 individual (70m)\\nM\\nBronze1984\\nSarajevo\\nSkiing\\nSki Jumping\\nFIN\\nK90 individual (70m)\\nM\\nSilver1984\\nSarajevo\\nSkiing\\nAlpine Skiing\\nFRA\\ngiant slalom\\nW\\nBronze1984\\nSarajevo\\nSkiing\\nAlpine Skiing\\nFRA\\nslalom\\nM\\nBronze1984\\nSarajevo\\nSkiing\\nAlpine Skiing\\nFRA\\nslalom\\nW\\nSilver1984\\nSarajevo\\nBiathlon\\nBiathlon\\nFRG\\n10km\\nM\\nSilver1984\\nSarajevo\\nBiathlon\\nBiathlon\\nFRG\\n20km\\nM\\nGold1984\\nSarajevo\\nBiathlon\\nBiathlon\\nFRG\\n4x7.5km relay\\nM\\nBronze1984\\nSarajevo\\nLuge\\nLuge\\nFRG\\ndoubles\\nX\\nGold1984\\nSarajevo\\nSkating\\nFigure skating\\nGBR\\nice dancing\\nX\\nGold1984\\nSarajevo\\nBiathlon\\nBiathlon\\nGDR\\n10km\\nM\\nBronze1984\\nSarajevo\\nBiathlon\\nBiathlon\\nGDR\\n20km\\nM\\nSilver1984\\nSarajevo\\nBobsleigh\\nBobsleigh\\nGDR\\nfour-man\\nM\\nGold1984\\nSarajevo\\nBobsleigh\\nBobsleigh\\nGDR\\nfour-man\\nM\\nSilver1984\\nSarajevo\\nBobsleigh\\nBobsleigh\\nGDR\\ntwo-man\\nM\\nGold1984\\nSarajevo\\nBobsleigh\\nBobsleigh\\nGDR\\ntwo-man\\nM\\nSilver1984\\nSarajevo\\nLuge\\nLuge\\nGDR\\ndoubles\\nX\\nBronze1984\\nSarajevo\\nLuge\\nLuge\\nGDR\\nsingles\\nW\\nBronze1984\\nSarajevo\\nLuge\\nLuge\\nGDR\\nsingles\\nW\\nGold1984\\nSarajevo\\nLuge\\nLuge\\nGDR\\nsingles\\nW\\nSilver1984\\nSarajevo\\nSkating\\nFigure skating\\nGDR\\nindividual\\nW\\nGold1984\\nSarajevo\\nSkating\\nSpeed skating\\nGDR\\n10000m\\nM\\nBronze1984\\nSarajevo\\nSkating\\nSpeed skating\\nGDR\\n1000m\\nW\\nGold1984\\nSarajevo\\nSkating\\nSpeed skating\\nGDR\\n1000m\\nW\\nSilver1984\\nSarajevo\\nSkating\\nSpeed skating\\nGDR\\n1500m\\nW\\nGold1984\\nSarajevo\\nSkating\\nSpeed skating\\nGDR\\n1500m\\nW\\nSilver1984\\nSarajevo\\nSkating\\nSpeed skating\\nGDR\\n3000m\\nW\\nBronze1984\\nSarajevo\\nSkating\\nSpeed skating\\nGDR\\n3000m\\nW\\nGold1984\\nSarajevo\\nSkating\\nSpeed skating\\nGDR\\n3000m\\nW\\nSilver1984\\nSarajevo\\nSkating\\nSpeed skating\\nGDR\\n5000m\\nM\\nBronze1984\\nSarajevo\\nSkating\\nSpeed skating\\nGDR\\n500m\\nW\\nGold1984\\nSarajevo\\nSkating\\nSpeed skating\\nGDR\\n500m\\nW\\nSilver1984\\nSarajevo\\nSkiing\\nSki Jumping\\nGDR\\nK120 individual (90m)\\nM\\nSilver1984\\nSarajevo\\nSkiing\\nSki Jumping\\nGDR\\nK90 individual (70m)\\nM\\nGold1984\\nSarajevo\\nLuge\\nLuge\\nITA\\nsingles\\nM\\nGold1984\\nSarajevo\\nSkiing\\nAlpine Skiing\\nITA\\nslalom\\nW\\nGold1984\\nSarajevo\\nSkating\\nSpeed skating\\nJPN\\n500m\\nM\\nSilver1984\\nSarajevo\\nSkiing\\nAlpine Skiing\\nLIE\\ngiant slalom\\nM\\nBronze1984\\nSarajevo\\nSkiing\\nAlpine Skiing\\nLIE\\nslalom\\nW\\nBronze1984\\nSarajevo\\nBiathlon\\nBiathlon\\nNOR\\n10km\\nM\\nGold1984\\nSarajevo\\nBiathlon\\nBiathlon\\nNOR\\n20km\\nM\\nBronze1984\\nSarajevo\\nBiathlon\\nBiathlon\\nNOR\\n4x7.5km relay\\nM\\nSilver1984\\nSarajevo\\nSkating\\nSpeed skating\\nNOR\\n1000m\\nM\\nBronze1984\\nSarajevo\\nSkiing\\nCross Country S\\nNOR\\n10km\\nW\\nBronze1984\\nSarajevo\\nSkiing\\nCross Country S\\nNOR\\n20km\\nW\\nBronze1984\\nSarajevo\\nSkiing\\nCross Country S\\nNOR\\n4x5km relay\\nW\\nGold1984\\nSarajevo\\nSkiing\\nCross Country S\\nNOR\\n5km\\nW\\nSilver1984\\nSarajevo\\nSkiing\\nNordic Combined\\nNOR\\nindividual\\nM\\nGold1984\\nSarajevo\\nBobsleigh\\nBobsleigh\\nSUI\\nfour-man\\nM\\nBronze1984\\nSarajevo\\nSkiing\\nAlpine Skiing\\nSUI\\ndownhill\\nM\\nSilver1984\\nSarajevo\\nSkiing\\nAlpine Skiing\\nSUI\\ndownhill\\nW\\nGold1984\\nSarajevo\\nSkiing\\nAlpine Skiing\\nSUI\\ndownhill\\nW\\nSilver1984\\nSarajevo\\nSkiing\\nAlpine Skiing\\nSUI\\ngiant slalom\\nM\\nGold1984\\nSarajevo\\nIce Hockey\\nIce Hockey\\nSWE\\nice hockey\\nM\\nBronze1984\\nSarajevo\\nSkating\\nSpeed skating\\nSWE\\n10000m\\nM\\nSilver1984\\nSarajevo\\nSkating\\nSpeed skating\\nSWE\\n5000m\\nM\\nGold1984\\nSarajevo\\nSkiing\\nCross Country S\\nSWE\\n15km\\nM\\nGold1984\\nSarajevo\\nSkiing\\nCross Country S\\nSWE\\n30km mass start\\nM\\nBronze1984\\nSarajevo\\nSkiing\\nCross Country S\\nSWE\\n4x10km relay\\nM\\nGold1984\\nSarajevo\\nSkiing\\nCross Country S\\nSWE\\n50km\\nM\\nGold1984\\nSarajevo\\nSkiing\\nCross Country S\\nSWE\\n50km\\nM\\nSilver1984\\nSarajevo\\nIce Hockey\\nIce Hockey\\nTCH\\nice hockey\\nM\\nSilver1984\\nSarajevo\\nSkating\\nFigure skating\\nTCH\\nindividual\\nM\\nBronze1984\\nSarajevo\\nSkiing\\nAlpine Skiing\\nTCH\\ndownhill\\nW\\nBronze1984\\nSarajevo\\nSkiing\\nCross Country S\\nTCH\\n4x5km relay\\nW\\nSilver1984\\nSarajevo\\nSkiing\\nCross Country S\\nTCH\\n5km\\nW\\nBronze1984\\nSarajevo\\nSkiing\\nSki Jumping\\nTCH\\nK120 individual (90m)\\nM\\nBronze1984\\nSarajevo\\nBiathlon\\nBiathlon\\nURS\\n4x7.5km relay\\nM\\nGold1984\\nSarajevo\\nBobsleigh\\nBobsleigh\\nURS\\ntwo-man\\nM\\nBronze1984\\nSarajevo\\nIce Hockey\\nIce Hockey\\nURS\\nice hockey\\nM\\nGold1984\\nSarajevo\\nLuge\\nLuge\\nURS\\ndoubles\\nX\\nSilver1984\\nSarajevo\\nLuge\\nLuge\\nURS\\nsingles\\nM\\nBronze1984\\nSarajevo\\nLuge\\nLuge\\nURS\\nsingles\\nM\\nSilver1984\\nSarajevo\\nSkating\\nFigure skating\\nURS\\nice dancing\\nX\\nBronze1984\\nSarajevo\\nSkating\\nFigure skating\\nURS\\nice dancing\\nX\\nSilver1984\\nSarajevo\\nSkating\\nFigure skating\\nURS\\nindividual\\nW\\nBronze1984\\nSarajevo\\nSkating\\nFigure skating\\nURS\\npairs\\nX\\nBronze1984\\nSarajevo\\nSkating\\nFigure skating\\nURS\\npairs\\nX\\nGold1984\\nSarajevo\\nSkating\\nSpeed skating\\nURS\\n10000m\\nM\\nGold1984\\nSarajevo\\nSkating\\nSpeed skating\\nURS\\n1000m\\nM\\nSilver1984\\nSarajevo\\nSkating\\nSpeed skating\\nURS\\n1000m\\nW\\nBronze1984\\nSarajevo\\nSkating\\nSpeed skating\\nURS\\n1500m\\nM\\nBronze1984\\nSarajevo\\nSkating\\nSpeed skating\\nURS\\n1500m\\nM\\nSilver1984\\nSarajevo\\nSkating\\nSpeed skating\\nURS\\n1500m\\nW\\nBronze1984\\nSarajevo\\nSkating\\nSpeed skating\\nURS\\n5000m\\nM\\nSilver1984\\nSarajevo\\nSkating\\nSpeed skating\\nURS\\n500m\\nM\\nGold1984\\nSarajevo\\nSkating\\nSpeed skating\\nURS\\n500m\\nW\\nBronze1984\\nSarajevo\\nSkiing\\nCross Country S\\nURS\\n10km\\nW\\nSilver1984\\nSarajevo\\nSkiing\\nCross Country S\\nURS\\n20km\\nW\\nSilver1984\\nSarajevo\\nSkiing\\nCross Country S\\nURS\\n30km mass start\\nM\\nGold1984\\nSarajevo\\nSkiing\\nCross Country S\\nURS\\n30km mass start\\nM\\nSilver1984\\nSarajevo\\nSkiing\\nCross Country S\\nURS\\n4x10km relay\\nM\\nSilver1984\\nSarajevo\\nSkating\\nFigure skating\\nUSA\\nindividual\\nM\\nGold1984\\nSarajevo\\nSkating\\nFigure skating\\nUSA\\nindividual\\nW\\nSilver1984\\nSarajevo\\nSkating\\nFigure skating\\nUSA\\npairs\\nX\\nSilver1984\\nSarajevo\\nSkiing\\nAlpine Skiing\\nUSA\\ndownhill\\nM\\nGold1984\\nSarajevo\\nSkiing\\nAlpine Skiing\\nUSA\\ngiant slalom\\nW\\nGold1984\\nSarajevo\\nSkiing\\nAlpine Skiing\\nUSA\\ngiant slalom\\nW\\nSilver1984\\nSarajevo\\nSkiing\\nAlpine Skiing\\nUSA\\nslalom\\nM\\nGold1984\\nSarajevo\\nSkiing\\nAlpine Skiing\\nUSA\\nslalom\\nM\\nSilver1984\\nSarajevo\\nSkiing\\nAlpine Skiing\\nYUG\\ngiant slalom\\nM\\nSilver1988\\nCalgary\\nSkating\\nSpeed skating\\nAUT\\n10000m\\nM\\nSilver1988\\nCalgary\\nSkating\\nSpeed skating\\nAUT\\n1500m\\nM\\nBronze1988\\nCalgary\\nSkiing\\nAlpine Skiing\\nAUT\\nalpine combined\\nM\\nGold1988\\nCalgary\\nSkiing\\nAlpine Skiing\\nAUT\\nalpine combined\\nM\\nSilver1988\\nCalgary\\nSkiing\\nAlpine Skiing\\nAUT\\nalpine combined\\nW\\nGold1988\\nCalgary\\nSkiing\\nAlpine Skiing\\nAUT\\ngiant slalom\\nM\\nSilver1988\\nCalgary\\nSkiing\\nAlpine Skiing\\nAUT\\nsuper-G\\nM\\nSilver1988\\nCalgary\\nSkiing\\nAlpine Skiing\\nAUT\\nsuper-G\\nW\\nGold1988\\nCalgary\\nSkiing\\nNordic Combined\\nAUT\\nindividual\\nM\\nSilver1988\\nCalgary\\nSkiing\\nNordic Combined\\nAUT\\nTeam\\nM\\nBronze1988\\nCalgary\\nSkating\\nFigure skating\\nCAN\\nice dancing\\nX\\nBronze1988\\nCalgary\\nSkating\\nFigure skating\\nCAN\\nindividual\\nM\\nSilver1988\\nCalgary\\nSkating\\nFigure skating\\nCAN\\nindividual\\nW\\nSilver1988\\nCalgary\\nSkiing\\nAlpine Skiing\\nCAN\\ndownhill\\nW\\nBronze1988\\nCalgary\\nSkiing\\nAlpine Skiing\\nCAN\\nsuper-G\\nW\\nBronze1988\\nCalgary\\nIce Hockey\\nIce Hockey\\nFIN\\nice hockey\\nM\\nSilver1988\\nCalgary\\nSkiing\\nCross Country S\\nFIN\\n10km\\nW\\nBronze1988\\nCalgary\\nSkiing\\nCross Country S\\nFIN\\n4x5km relay\\nW\\nBronze1988\\nCalgary\\nSkiing\\nCross Country S\\nFIN\\n5km\\nW\\nGold1988\\nCalgary\\nSkiing\\nSki Jumping\\nFIN\\nK120 individual (90m)\\nM\\nGold1988\\nCalgary\\nSkiing\\nSki Jumping\\nFIN\\nK120 team (90m)\\nM\\nGold1988\\nCalgary\\nSkiing\\nSki Jumping\\nFIN\\nK90 individual (70m)\\nM\\nGold1988\\nCalgary\\nSkiing\\nAlpine Skiing\\nFRA\\ndownhill\\nM\\nBronze1988\\nCalgary\\nSkiing\\nAlpine Skiing\\nFRA\\nsuper-G\\nM\\nGold1988\\nCalgary\\nBiathlon\\nBiathlon\\nFRG\\n4x7.5km relay\\nM\\nSilver1988\\nCalgary\\nLuge\\nLuge\\nFRG\\ndoubles\\nX\\nBronze1988\\nCalgary\\nLuge\\nLuge\\nFRG\\nsingles\\nM\\nSilver1988\\nCalgary\\nSkiing\\nAlpine Skiing\\nFRG\\ndownhill\\nW\\nGold1988\\nCalgary\\nSkiing\\nAlpine Skiing\\nFRG\\ngiant slalom\\nW\\nSilver1988\\nCalgary\\nSkiing\\nAlpine Skiing\\nFRG\\nslalom\\nM\\nSilver1988\\nCalgary\\nSkiing\\nAlpine Skiing\\nFRG\\nslalom\\nW\\nBronze1988\\nCalgary\\nSkiing\\nNordic Combined\\nFRG\\nTeam\\nM\\nGold1988\\nCalgary\\nBiathlon\\nBiathlon\\nGDR\\n10km\\nM\\nGold1988\\nCalgary\\nBiathlon\\nBiathlon\\nGDR\\n20km\\nM\\nGold1988\\nCalgary\\nBobsleigh\\nBobsleigh\\nGDR\\nfour-man\\nM\\nSilver1988\\nCalgary\\nBobsleigh\\nBobsleigh\\nGDR\\ntwo-man\\nM\\nBronze1988\\nCalgary\\nBobsleigh\\nBobsleigh\\nGDR\\ntwo-man\\nM\\nSilver1988\\nCalgary\\nLuge\\nLuge\\nGDR\\ndoubles\\nX\\nGold1988\\nCalgary\\nLuge\\nLuge\\nGDR\\ndoubles\\nX\\nSilver1988\\nCalgary\\nLuge\\nLuge\\nGDR\\nsingles\\nM\\nGold1988\\nCalgary\\nLuge\\nLuge\\nGDR\\nsingles\\nW\\nBronze1988\\nCalgary\\nLuge\\nLuge\\nGDR\\nsingles\\nW\\nGold1988\\nCalgary\\nLuge\\nLuge\\nGDR\\nsingles\\nW\\nSilver1988\\nCalgary\\nSkating\\nFigure skating\\nGDR\\nindividual\\nW\\nGold1988\\nCalgary\\nSkating\\nSpeed skating\\nGDR\\n1000m\\nM\\nSilver1988\\nCalgary\\nSkating\\nSpeed skating\\nGDR\\n1000m\\nW\\nGold1988\\nCalgary\\nSkating\\nSpeed skating\\nGDR\\n1000m\\nW\\nSilver1988\\nCalgary\\nSkating\\nSpeed skating\\nGDR\\n1500m\\nM\\nGold1988\\nCalgary\\nSkating\\nSpeed skating\\nGDR\\n1500m\\nW\\nBronze1988\\nCalgary\\nSkating\\nSpeed skating\\nGDR\\n1500m\\nW\\nSilver1988\\nCalgary\\nSkating\\nSpeed skating\\nGDR\\n3000m\\nW\\nBronze1988\\nCalgary\\nSkating\\nSpeed skating\\nGDR\\n3000m\\nW\\nSilver1988\\nCalgary\\nSkating\\nSpeed skating\\nGDR\\n5000m\\nW\\nBronze1988\\nCalgary\\nSkating\\nSpeed skating\\nGDR\\n5000m\\nW\\nSilver1988\\nCalgary\\nSkating\\nSpeed skating\\nGDR\\n500m\\nM\\nGold1988\\nCalgary\\nSkating\\nSpeed skating\\nGDR\\n500m\\nW\\nBronze1988\\nCalgary\\nSkating\\nSpeed skating\\nGDR\\n500m\\nW\\nSilver1988\\nCalgary\\nBiathlon\\nBiathlon\\nITA\\n20km\\nM\\nBronze1988\\nCalgary\\nBiathlon\\nBiathlon\\nITA\\n4x7.5km relay\\nM\\nBronze1988\\nCalgary\\nSkiing\\nAlpine Skiing\\nITA\\ngiant slalom\\nM\\nGold1988\\nCalgary\\nSkiing\\nAlpine Skiing\\nITA\\nslalom\\nM\\nGold1988\\nCalgary\\nSkiing\\nCross Country S\\nITA\\n50km\\nM\\nSilver1988\\nCalgary\\nSkating\\nSpeed skating\\nJPN\\n500m\\nM\\nBronze1988\\nCalgary\\nSkiing\\nAlpine Skiing\\nLIE\\nslalom\\nM\\nBronze1988\\nCalgary\\nSkating\\nSpeed skating\\nNED\\n10000m\\nM\\nBronze1988\\nCalgary\\nSkating\\nSpeed skating\\nNED\\n1500m\\nW\\nGold1988\\nCalgary\\nSkating\\nSpeed skating\\nNED\\n3000m\\nW\\nGold1988\\nCalgary\\nSkating\\nSpeed skating\\nNED\\n5000m\\nM\\nBronze1988\\nCalgary\\nSkating\\nSpeed skating\\nNED\\n5000m\\nM\\nSilver1988\\nCalgary\\nSkating\\nSpeed skating\\nNED\\n5000m\\nW\\nGold1988\\nCalgary\\nSkating\\nSpeed skating\\nNED\\n500m\\nM\\nSilver1988\\nCalgary\\nSkiing\\nCross Country S\\nNOR\\n15km\\nM\\nSilver1988\\nCalgary\\nSkiing\\nCross Country S\\nNOR\\n30km mass start\\nM\\nBronze1988\\nCalgary\\nSkiing\\nCross Country S\\nNOR\\n4x5km relay\\nW\\nSilver1988\\nCalgary\\nSkiing\\nSki Jumping\\nNOR\\nK120 individual (90m)\\nM\\nSilver1988\\nCalgary\\nSkiing\\nSki Jumping\\nNOR\\nK120 team (90m)\\nM\\nBronze1988\\nCalgary\\nBobsleigh\\nBobsleigh\\nSUI\\nfour-man\\nM\\nGold1988\\nCalgary\\nSkiing\\nAlpine Skiing\\nSUI\\nalpine combined\\nM\\nBronze1988\\nCalgary\\nSkiing\\nAlpine Skiing\\nSUI\\nalpine combined\\nW\\nBronze1988\\nCalgary\\nSkiing\\nAlpine Skiing\\nSUI\\nalpine combined\\nW\\nSilver1988\\nCalgary\\nSkiing\\nAlpine Skiing\\nSUI\\ndownhill\\nM\\nGold1988\\nCalgary\\nSkiing\\nAlpine Skiing\\nSUI\\ndownhill\\nM\\nSilver1988\\nCalgary\\nSkiing\\nAlpine Skiing\\nSUI\\ndownhill\\nW\\nSilver1988\\nCalgary\\nSkiing\\nAlpine Skiing\\nSUI\\ngiant slalom\\nM\\nBronze1988\\nCalgary\\nSkiing\\nAlpine Skiing\\nSUI\\ngiant slalom\\nW\\nBronze1988\\nCalgary\\nSkiing\\nAlpine Skiing\\nSUI\\ngiant slalom\\nW\\nGold1988\\nCalgary\\nSkiing\\nAlpine Skiing\\nSUI\\nslalom\\nW\\nGold1988\\nCalgary\\nSkiing\\nAlpine Skiing\\nSUI\\nsuper-G\\nW\\nSilver1988\\nCalgary\\nSkiing\\nCross Country S\\nSUI\\n50km\\nM\\nBronze1988\\nCalgary\\nSkiing\\nNordic Combined\\nSUI\\nindividual\\nM\\nGold1988\\nCalgary\\nSkiing\\nNordic Combined\\nSUI\\nTeam\\nM\\nSilver1988\\nCalgary\\nIce Hockey\\nIce Hockey\\nSWE\\nice hockey\\nM\\nBronze1988\\nCalgary\\nSkating\\nSpeed skating\\nSWE\\n10000m\\nM\\nGold1988\\nCalgary\\nSkating\\nSpeed skating\\nSWE\\n5000m\\nM\\nGold1988\\nCalgary\\nSkiing\\nAlpine Skiing\\nSWE\\nsuper-G\\nM\\nBronze1988\\nCalgary\\nSkiing\\nCross Country S\\nSWE\\n4x10km relay\\nM\\nGold1988\\nCalgary\\nSkiing\\nCross Country S\\nSWE\\n50km\\nM\\nGold1988\\nCalgary\\nSkiing\\nCross Country S\\nTCH\\n4x10km relay\\nM\\nBronze1988\\nCalgary\\nSkiing\\nSki Jumping\\nTCH\\nK90 individual (70m)\\nM\\nBronze1988\\nCalgary\\nSkiing\\nSki Jumping\\nTCH\\nK90 individual (70m)\\nM\\nSilver1988\\nCalgary\\nBiathlon\\nBiathlon\\nURS\\n10km\\nM\\nBronze1988\\nCalgary\\nBiathlon\\nBiathlon\\nURS\\n10km\\nM\\nSilver1988\\nCalgary\\nBiathlon\\nBiathlon\\nURS\\n20km\\nM\\nSilver1988\\nCalgary\\nBiathlon\\nBiathlon\\nURS\\n4x7.5km relay\\nM\\nGold1988\\nCalgary\\nBobsleigh\\nBobsleigh\\nURS\\nfour-man\\nM\\nBronze1988\\nCalgary\\nBobsleigh\\nBobsleigh\\nURS\\ntwo-man\\nM\\nGold1988\\nCalgary\\nIce Hockey\\nIce Hockey\\nURS\\nice hockey\\nM\\nGold1988\\nCalgary\\nLuge\\nLuge\\nURS\\nsingles\\nM\\nBronze1988\\nCalgary\\nSkating\\nFigure skating\\nURS\\nice dancing\\nX\\nGold1988\\nCalgary\\nSkating\\nFigure skating\\nURS\\nice dancing\\nX\\nSilver1988\\nCalgary\\nSkating\\nFigure skating\\nURS\\nindividual\\nM\\nBronze1988\\nCalgary\\nSkating\\nFigure skating\\nURS\\npairs\\nX\\nGold1988\\nCalgary\\nSkating\\nFigure skating\\nURS\\npairs\\nX\\nSilver1988\\nCalgary\\nSkating\\nSpeed skating\\nURS\\n1000m\\nM\\nBronze1988\\nCalgary\\nSkating\\nSpeed skating\\nURS\\n1000m\\nM\\nGold1988\\nCalgary\\nSkiing\\nCross Country S\\nURS\\n10km\\nW\\nGold1988\\nCalgary\\nSkiing\\nCross Country S\\nURS\\n10km\\nW\\nSilver1988\\nCalgary\\nSkiing\\nCross Country S\\nURS\\n15km\\nM\\nBronze1988\\nCalgary\\nSkiing\\nCross Country S\\nURS\\n15km\\nM\\nGold1988\\nCalgary\\nSkiing\\nCross Country S\\nURS\\n20km\\nW\\nBronze1988\\nCalgary\\nSkiing\\nCross Country S\\nURS\\n20km\\nW\\nGold1988\\nCalgary\\nSkiing\\nCross Country S\\nURS\\n20km\\nW\\nSilver1988\\nCalgary\\nSkiing\\nCross Country S\\nURS\\n30km mass start\\nM\\nGold1988\\nCalgary\\nSkiing\\nCross Country S\\nURS\\n30km mass start\\nM\\nSilver1988\\nCalgary\\nSkiing\\nCross Country S\\nURS\\n4x10km relay\\nM\\nSilver1988\\nCalgary\\nSkiing\\nCross Country S\\nURS\\n4x5km relay\\nW\\nGold1988\\nCalgary\\nSkiing\\nCross Country S\\nURS\\n5km\\nW\\nBronze1988\\nCalgary\\nSkiing\\nCross Country S\\nURS\\n5km\\nW\\nSilver1988\\nCalgary\\nSkiing\\nNordic Combined\\nURS\\nindividual\\nM\\nBronze1988\\nCalgary\\nSkating\\nFigure skating\\nUSA\\nindividual\\nM\\nGold1988\\nCalgary\\nSkating\\nFigure skating\\nUSA\\nindividual\\nW\\nBronze1988\\nCalgary\\nSkating\\nFigure skating\\nUSA\\npairs\\nX\\nBronze1988\\nCalgary\\nSkating\\nSpeed skating\\nUSA\\n1000m\\nW\\nBronze1988\\nCalgary\\nSkating\\nSpeed skating\\nUSA\\n1500m\\nM\\nSilver1988\\nCalgary\\nSkating\\nSpeed skating\\nUSA\\n500m\\nW\\nGold1988\\nCalgary\\nSkiing\\nAlpine Skiing\\nYUG\\nslalom\\nW\\nSilver1988\\nCalgary\\nSkiing\\nSki Jumping\\nYUG\\nK120 individual (90m)\\nM\\nBronze1988\\nCalgary\\nSkiing\\nSki Jumping\\nYUG\\nK120 team (90m)\\nM\\nSilver1992\\nAlbertville\\nBobsleigh\\nBobsleigh\\nAUT\\nfour-man\\nM\\nGold1992\\nAlbertville\\nLuge\\nLuge\\nAUT\\nsingles\\nM\\nBronze1992\\nAlbertville\\nLuge\\nLuge\\nAUT\\nsingles\\nM\\nSilver1992\\nAlbertville\\nLuge\\nLuge\\nAUT\\nsingles\\nW\\nGold1992\\nAlbertville\\nLuge\\nLuge\\nAUT\\nsingles\\nW\\nSilver1992\\nAlbertville\\nSkating\\nSpeed skating\\nAUT\\n3000m\\nW\\nBronze1992\\nAlbertville\\nSkiing\\nAlpine Skiing\\nAUT\\nalpine combined\\nW\\nGold1992\\nAlbertville\\nSkiing\\nAlpine Skiing\\nAUT\\nalpine combined\\nW\\nSilver1992\\nAlbertville\\nSkiing\\nAlpine Skiing\\nAUT\\ndownhill\\nM\\nBronze1992\\nAlbertville\\nSkiing\\nAlpine Skiing\\nAUT\\ndownhill\\nM\\nGold1992\\nAlbertville\\nSkiing\\nAlpine Skiing\\nAUT\\ndownhill\\nW\\nBronze1992\\nAlbertville\\nSkiing\\nAlpine Skiing\\nAUT\\ngiant slalom\\nW\\nSilver1992\\nAlbertville\\nSkiing\\nAlpine Skiing\\nAUT\\nslalom\\nM\\nBronze1992\\nAlbertville\\nSkiing\\nAlpine Skiing\\nAUT\\nslalom\\nW\\nGold1992\\nAlbertville\\nSkiing\\nNordic Combined\\nAUT\\nindividual\\nM\\nBronze1992\\nAlbertville\\nSkiing\\nNordic Combined\\nAUT\\nTeam\\nM\\nBronze1992\\nAlbertville\\nSkiing\\nSki Jumping\\nAUT\\nK120 individual (90m)\\nM\\nBronze1992\\nAlbertville\\nSkiing\\nSki Jumping\\nAUT\\nK120 individual (90m)\\nM\\nSilver1992\\nAlbertville\\nSkiing\\nSki Jumping\\nAUT\\nK120 team (90m)\\nM\\nSilver1992\\nAlbertville\\nSkiing\\nSki Jumping\\nAUT\\nK90 individual (70m)\\nM\\nGold1992\\nAlbertville\\nSkiing\\nSki Jumping\\nAUT\\nK90 individual (70m)\\nM\\nSilver1992\\nAlbertville\\nBiathlon\\nBiathlon\\nCAN\\n15km\\nW\\nBronze1992\\nAlbertville\\nIce Hockey\\nIce Hockey\\nCAN\\nice hockey\\nM\\nSilver1992\\nAlbertville\\nSkating\\nFigure skating\\nCAN\\npairs\\nX\\nBronze1992\\nAlbertville\\nSkating\\nShort Track S.\\nCAN\\n1000m\\nM\\nSilver1992\\nAlbertville\\nSkating\\nShort Track S.\\nCAN\\n3000m relay\\nW\\nGold1992\\nAlbertville\\nSkating\\nShort Track S.\\nCAN\\n5000m relay\\nM\\nSilver1992\\nAlbertville\\nSkiing\\nAlpine Skiing\\nCAN\\ndownhill\\nW\\nGold1992\\nAlbertville\\nSkating\\nShort Track S.\\nCHN\\n500m\\nW\\nSilver1992\\nAlbertville\\nSkating\\nSpeed skating\\nCHN\\n1000m\\nW\\nSilver1992\\nAlbertville\\nSkating\\nSpeed skating\\nCHN\\n500m\\nW\\nSilver1992\\nAlbertville\\nSkiing\\nAlpine Skiing\\nESP\\nslalom\\nW\\nBronze1992\\nAlbertville\\nBiathlon\\nBiathlon\\nEUN\\n15km\\nW\\nSilver1992\\nAlbertville\\nBiathlon\\nBiathlon\\nEUN\\n20km\\nM\\nGold1992\\nAlbertville\\nBiathlon\\nBiathlon\\nEUN\\n3x7.5km relay\\nW\\nBronze1992\\nAlbertville\\nBiathlon\\nBiathlon\\nEUN\\n4x7.5km relay\\nM\\nSilver1992\\nAlbertville\\nBiathlon\\nBiathlon\\nEUN\\n7.5km\\nW\\nBronze1992\\nAlbertville\\nBiathlon\\nBiathlon\\nEUN\\n7.5km\\nW\\nGold1992\\nAlbertville\\nIce Hockey\\nIce Hockey\\nEUN\\nice hockey\\nM\\nGold1992\\nAlbertville\\nSkating\\nFigure skating\\nEUN\\nice dancing\\nX\\nBronze1992\\nAlbertville\\nSkating\\nFigure skating\\nEUN\\nice dancing\\nX\\nGold1992\\nAlbertville\\nSkating\\nFigure skating\\nEUN\\nindividual\\nM\\nGold1992\\nAlbertville\\nSkating\\nFigure skating\\nEUN\\npairs\\nX\\nGold1992\\nAlbertville\\nSkating\\nFigure skating\\nEUN\\npairs\\nX\\nSilver1992\\nAlbertville\\nSkating\\nShort Track S.\\nEUN\\n3000m relay\\nW\\nBronze1992\\nAlbertville\\nSkiing\\nCross Country S\\nEUN\\n15km mass start\\nW\\nBronze1992\\nAlbertville\\nSkiing\\nCross Country S\\nEUN\\n15km mass start\\nW\\nGold1992\\nAlbertville\\nSkiing\\nCross Country S\\nEUN\\n30km\\nW\\nBronze1992\\nAlbertville\\nSkiing\\nCross Country S\\nEUN\\n30km\\nW\\nSilver1992\\nAlbertville\\nSkiing\\nCross Country S\\nEUN\\n4x5km relay\\nW\\nGold1992\\nAlbertville\\nSkiing\\nCross Country S\\nEUN\\n5km\\nW\\nBronze1992\\nAlbertville\\nSkiing\\nCross Country S\\nEUN\\n5km\\nW\\nSilver1992\\nAlbertville\\nSkiing\\nCross Country S\\nEUN\\nCombined 5km + 10km pursuit\\nW\\nBronze1992\\nAlbertville\\nSkiing\\nCross Country S\\nEUN\\nCombined 5km + 10km pursuit\\nW\\nGold1992\\nAlbertville\\nSkiing\\nFreestyle Ski.\\nEUN\\nmoguls\\nW\\nSilver1992\\nAlbertville\\nBiathlon\\nBiathlon\\nFIN\\n10km\\nM\\nBronze1992\\nAlbertville\\nSkiing\\nCross Country S\\nFIN\\n15km mass start\\nW\\nSilver1992\\nAlbertville\\nSkiing\\nCross Country S\\nFIN\\n4x10km relay\\nM\\nBronze1992\\nAlbertville\\nSkiing\\nCross Country S\\nFIN\\n5km\\nW\\nGold1992\\nAlbertville\\nSkiing\\nSki Jumping\\nFIN\\nK120 individual (90m)\\nM\\nGold1992\\nAlbertville\\nSkiing\\nSki Jumping\\nFIN\\nK120 team (90m)\\nM\\nGold1992\\nAlbertville\\nSkiing\\nSki Jumping\\nFIN\\nK90 individual (70m)\\nM\\nBronze1992\\nAlbertville\\nBiathlon\\nBiathlon\\nFRA\\n3x7.5km relay\\nW\\nGold1992\\nAlbertville\\nSkating\\nFigure skating\\nFRA\\nice dancing\\nX\\nSilver1992\\nAlbertville\\nSkiing\\nAlpine Skiing\\nFRA\\nalpine combined\\nW\\nBronze1992\\nAlbertville\\nSkiing\\nAlpine Skiing\\nFRA\\ndownhill\\nM\\nSilver1992\\nAlbertville\\nSkiing\\nAlpine Skiing\\nFRA\\nsuper-G\\nW\\nSilver1992\\nAlbertville\\nSkiing\\nFreestyle Ski.\\nFRA\\nmoguls\\nM\\nGold1992\\nAlbertville\\nSkiing\\nFreestyle Ski.\\nFRA\\nmoguls\\nM\\nSilver1992\\nAlbertville\\nSkiing\\nNordic Combined\\nFRA\\nindividual\\nM\\nGold1992\\nAlbertville\\nSkiing\\nNordic Combined\\nFRA\\nindividual\\nM\\nSilver1992\\nAlbertville\\nBiathlon\\nBiathlon\\nGER\\n10km\\nM\\nGold1992\\nAlbertville\\nBiathlon\\nBiathlon\\nGER\\n10km\\nM\\nSilver1992\\nAlbertville\\nBiathlon\\nBiathlon\\nGER\\n15km\\nW\\nGold1992\\nAlbertville\\nBiathlon\\nBiathlon\\nGER\\n20km\\nM\\nSilver1992\\nAlbertville\\nBiathlon\\nBiathlon\\nGER\\n3x7.5km relay\\nW\\nSilver1992\\nAlbertville\\nBiathlon\\nBiathlon\\nGER\\n4x7.5km relay\\nM\\nGold1992\\nAlbertville\\nBiathlon\\nBiathlon\\nGER\\n7.5km\\nW\\nSilver1992\\nAlbertville\\nBobsleigh\\nBobsleigh\\nGER\\nfour-man\\nM\\nSilver1992\\nAlbertville\\nBobsleigh\\nBobsleigh\\nGER\\ntwo-man\\nM\\nBronze1992\\nAlbertville\\nBobsleigh\\nBobsleigh\\nGER\\ntwo-man\\nM\\nSilver1992\\nAlbertville\\nLuge\\nLuge\\nGER\\ndoubles\\nX\\nGold1992\\nAlbertville\\nLuge\\nLuge\\nGER\\ndoubles\\nX\\nSilver1992\\nAlbertville\\nLuge\\nLuge\\nGER\\nsingles\\nM\\nGold1992\\nAlbertville\\nLuge\\nLuge\\nGER\\nsingles\\nW\\nBronze1992\\nAlbertville\\nSkating\\nSpeed skating\\nGER\\n1000m\\nM\\nGold1992\\nAlbertville\\nSkating\\nSpeed skating\\nGER\\n1000m\\nW\\nBronze1992\\nAlbertville\\nSkating\\nSpeed skating\\nGER\\n1500m\\nW\\nGold1992\\nAlbertville\\nSkating\\nSpeed skating\\nGER\\n1500m\\nW\\nSilver1992\\nAlbertville\\nSkating\\nSpeed skating\\nGER\\n3000m\\nW\\nGold1992\\nAlbertville\\nSkating\\nSpeed skating\\nGER\\n3000m\\nW\\nSilver1992\\nAlbertville\\nSkating\\nSpeed skating\\nGER\\n5000m\\nW\\nBronze1992\\nAlbertville\\nSkating\\nSpeed skating\\nGER\\n5000m\\nW\\nGold1992\\nAlbertville\\nSkating\\nSpeed skating\\nGER\\n5000m\\nW\\nSilver1992\\nAlbertville\\nSkating\\nSpeed skating\\nGER\\n500m\\nM\\nGold1992\\nAlbertville\\nSkating\\nSpeed skating\\nGER\\n500m\\nW\\nBronze1992\\nAlbertville\\nSkiing\\nAlpine Skiing\\nGER\\nsuper-G\\nW\\nBronze1992\\nAlbertville\\nLuge\\nLuge\\nITA\\ndoubles\\nX\\nBronze1992\\nAlbertville\\nSkiing\\nAlpine Skiing\\nITA\\nalpine combined\\nM\\nGold1992\\nAlbertville\\nSkiing\\nAlpine Skiing\\nITA\\nalpine combined\\nM\\nSilver1992\\nAlbertville\\nSkiing\\nAlpine Skiing\\nITA\\ngiant slalom\\nM\\nGold1992\\nAlbertville\\nSkiing\\nAlpine Skiing\\nITA\\nslalom\\nM\\nSilver1992\\nAlbertville\\nSkiing\\nAlpine Skiing\\nITA\\nsuper-G\\nW\\nGold1992\\nAlbertville\\nSkiing\\nCross Country S\\nITA\\n10km pursuit\\nM\\nSilver1992\\nAlbertville\\nSkiing\\nCross Country S\\nITA\\n30km\\nW\\nGold1992\\nAlbertville\\nSkiing\\nCross Country S\\nITA\\n4x10km relay\\nM\\nSilver1992\\nAlbertville\\nSkiing\\nCross Country S\\nITA\\n4x5km relay\\nW\\nBronze1992\\nAlbertville\\nSkiing\\nCross Country S\\nITA\\n50km\\nM\\nBronze1992\\nAlbertville\\nSkiing\\nCross Country S\\nITA\\n50km\\nM\\nSilver1992\\nAlbertville\\nSkiing\\nCross Country S\\nITA\\nCombined 10km + 15km pursuit\\nM\\nBronze1992\\nAlbertville\\nSkiing\\nCross Country S\\nITA\\nCombined 5km + 10km pursuit\\nW\\nSilver1992\\nAlbertville\\nSkating\\nFigure skating\\nJPN\\nindividual\\nW\\nSilver1992\\nAlbertville\\nSkating\\nShort Track S.\\nJPN\\n5000m relay\\nM\\nBronze1992\\nAlbertville\\nSkating\\nSpeed skating\\nJPN\\n1000m\\nM\\nBronze1992\\nAlbertville\\nSkating\\nSpeed skating\\nJPN\\n1500m\\nW\\nBronze1992\\nAlbertville\\nSkating\\nSpeed skating\\nJPN\\n500m\\nM\\nBronze1992\\nAlbertville\\nSkating\\nSpeed skating\\nJPN\\n500m\\nM\\nSilver1992\\nAlbertville\\nSkiing\\nNordic Combined\\nJPN\\nTeam\\nM\\nGold1992\\nAlbertville\\nSkating\\nShort Track S.\\nKOR\\n1000m\\nM\\nBronze1992\\nAlbertville\\nSkating\\nShort Track S.\\nKOR\\n1000m\\nM\\nGold1992\\nAlbertville\\nSkating\\nShort Track S.\\nKOR\\n5000m relay\\nM\\nGold1992\\nAlbertville\\nSkating\\nSpeed skating\\nKOR\\n1000m\\nM\\nSilver1992\\nAlbertville\\nSkiing\\nAlpine Skiing\\nLUX\\ngiant slalom\\nM\\nSilver1992\\nAlbertville\\nSkiing\\nAlpine Skiing\\nLUX\\nsuper-G\\nM\\nSilver1992\\nAlbertville\\nSkating\\nSpeed skating\\nNED\\n10000m\\nM\\nGold1992\\nAlbertville\\nSkating\\nSpeed skating\\nNED\\n1500m\\nM\\nBronze1992\\nAlbertville\\nSkating\\nSpeed skating\\nNED\\n5000m\\nM\\nBronze1992\\nAlbertville\\nSkating\\nSpeed skating\\nNED\\n5000m\\nM\\nSilver1992\\nAlbertville\\nSkating\\nSpeed skating\\nNOR\\n10000m\\nM\\nBronze1992\\nAlbertville\\nSkating\\nSpeed skating\\nNOR\\n10000m\\nM\\nSilver1992\\nAlbertville\\nSkating\\nSpeed skating\\nNOR\\n1500m\\nM\\nGold1992\\nAlbertville\\nSkating\\nSpeed skating\\nNOR\\n1500m\\nM\\nSilver1992\\nAlbertville\\nSkating\\nSpeed skating\\nNOR\\n5000m\\nM\\nGold1992\\nAlbertville\\nSkiing\\nAlpine Skiing\\nNOR\\ngiant slalom\\nM\\nBronze1992\\nAlbertville\\nSkiing\\nAlpine Skiing\\nNOR\\nslalom\\nM\\nGold1992\\nAlbertville\\nSkiing\\nAlpine Skiing\\nNOR\\nsuper-G\\nM\\nBronze1992\\nAlbertville\\nSkiing\\nAlpine Skiing\\nNOR\\nsuper-G\\nM\\nGold1992\\nAlbertville\\nSkiing\\nCross Country S\\nNOR\\n10km pursuit\\nM\\nGold1992\\nAlbertville\\nSkiing\\nCross Country S\\nNOR\\n30km mass start\\nM\\nBronze1992\\nAlbertville\\nSkiing\\nCross Country S\\nNOR\\n30km mass start\\nM\\nGold1992\\nAlbertville\\nSkiing\\nCross Country S\\nNOR\\n30km mass start\\nM\\nSilver1992\\nAlbertville\\nSkiing\\nCross Country S\\nNOR\\n4x10km relay\\nM\\nGold1992\\nAlbertville\\nSkiing\\nCross Country S\\nNOR\\n4x5km relay\\nW\\nSilver1992\\nAlbertville\\nSkiing\\nCross Country S\\nNOR\\n50km\\nM\\nGold1992\\nAlbertville\\nSkiing\\nCross Country S\\nNOR\\nCombined 10km + 15km pursuit\\nM\\nGold1992\\nAlbertville\\nSkiing\\nCross Country S\\nNOR\\nCombined 10km + 15km pursuit\\nM\\nSilver1992\\nAlbertville\\nSkiing\\nFreestyle Ski.\\nNOR\\nmoguls\\nW\\nBronze1992\\nAlbertville\\nSkiing\\nNordic Combined\\nNOR\\nTeam\\nM\\nSilver1992\\nAlbertville\\nSkiing\\nAlpine Skiing\\nNZL\\nslalom\\nW\\nSilver1992\\nAlbertville\\nSkating\\nShort Track S.\\nPRK\\n500m\\nW\\nBronze1992\\nAlbertville\\nBobsleigh\\nBobsleigh\\nSUI\\nfour-man\\nM\\nBronze1992\\nAlbertville\\nBobsleigh\\nBobsleigh\\nSUI\\ntwo-man\\nM\\nGold1992\\nAlbertville\\nSkiing\\nAlpine Skiing\\nSUI\\nalpine combined\\nM\\nBronze1992\\nAlbertville\\nBiathlon\\nBiathlon\\nSWE\\n20km\\nM\\nBronze1992\\nAlbertville\\nBiathlon\\nBiathlon\\nSWE\\n4x7.5km relay\\nM\\nBronze1992\\nAlbertville\\nSkiing\\nAlpine Skiing\\nSWE\\ngiant slalom\\nW\\nGold1992\\nAlbertville\\nSkiing\\nCross Country S\\nSWE\\n10km pursuit\\nM\\nBronze1992\\nAlbertville\\nIce Hockey\\nIce Hockey\\nTCH\\nice hockey\\nM\\nBronze1992\\nAlbertville\\nSkating\\nFigure skating\\nTCH\\nindividual\\nM\\nBronze1992\\nAlbertville\\nSkiing\\nSki Jumping\\nTCH\\nK120 team (90m)\\nM\\nBronze1992\\nAlbertville\\nSkating\\nFigure skating\\nUSA\\nindividual\\nM\\nSilver1992\\nAlbertville\\nSkating\\nFigure skating\\nUSA\\nindividual\\nW\\nBronze1992\\nAlbertville\\nSkating\\nFigure skating\\nUSA\\nindividual\\nW\\nGold1992\\nAlbertville\\nSkating\\nShort Track S.\\nUSA\\n3000m relay\\nW\\nSilver1992\\nAlbertville\\nSkating\\nShort Track S.\\nUSA\\n500m\\nW\\nGold1992\\nAlbertville\\nSkating\\nSpeed skating\\nUSA\\n1000m\\nW\\nGold1992\\nAlbertville\\nSkating\\nSpeed skating\\nUSA\\n500m\\nW\\nGold1992\\nAlbertville\\nSkiing\\nAlpine Skiing\\nUSA\\ndownhill\\nW\\nSilver1992\\nAlbertville\\nSkiing\\nAlpine Skiing\\nUSA\\ngiant slalom\\nW\\nSilver1992\\nAlbertville\\nSkiing\\nFreestyle Ski.\\nUSA\\nmoguls\\nM\\nBronze1992\\nAlbertville\\nSkiing\\nFreestyle Ski.\\nUSA\\nmoguls\\nW\\nGold1994\\nLillehammer\\nSkating\\nShort Track S.\\nAUS\\n5000m relay\\nM\\nBronze1994\\nLillehammer\\nLuge\\nLuge\\nAUT\\nsingles\\nM\\nSilver1994\\nLillehammer\\nLuge\\nLuge\\nAUT\\nsingles\\nW\\nBronze1994\\nLillehammer\\nSkating\\nSpeed skating\\nAUT\\n1500m\\nW\\nGold1994\\nLillehammer\\nSkating\\nSpeed skating\\nAUT\\n3000m\\nW\\nSilver1994\\nLillehammer\\nSkiing\\nAlpine Skiing\\nAUT\\ngiant slalom\\nM\\nBronze1994\\nLillehammer\\nSkiing\\nAlpine Skiing\\nAUT\\nslalom\\nM\\nGold1994\\nLillehammer\\nSkiing\\nAlpine Skiing\\nAUT\\nslalom\\nW\\nSilver1994\\nLillehammer\\nSkiing\\nSki Jumping\\nAUT\\nK120 individual (90m)\\nM\\nBronze1994\\nLillehammer\\nSkiing\\nSki Jumping\\nAUT\\nK120 team (90m)\\nM\\nBronze1994\\nLillehammer\\nBiathlon\\nBiathlon\\nBLR\\n7.5km\\nW\\nSilver1994\\nLillehammer\\nSkating\\nSpeed skating\\nBLR\\n1000m\\nM\\nSilver1994\\nLillehammer\\nBiathlon\\nBiathlon\\nCAN\\n15km\\nW\\nGold1994\\nLillehammer\\nBiathlon\\nBiathlon\\nCAN\\n7.5km\\nW\\nGold1994\\nLillehammer\\nIce Hockey\\nIce Hockey\\nCAN\\nice hockey\\nM\\nSilver1994\\nLillehammer\\nSkating\\nFigure skating\\nCAN\\nindividual\\nM\\nSilver1994\\nLillehammer\\nSkating\\nFigure skating\\nCAN\\npairs\\nX\\nBronze1994\\nLillehammer\\nSkating\\nShort Track S.\\nCAN\\n1000m\\nM\\nBronze1994\\nLillehammer\\nSkating\\nShort Track S.\\nCAN\\n1000m\\nW\\nSilver1994\\nLillehammer\\nSkating\\nShort Track S.\\nCAN\\n3000m relay\\nW\\nSilver1994\\nLillehammer\\nSkating\\nSpeed skating\\nCAN\\n500m\\nW\\nSilver1994\\nLillehammer\\nSkiing\\nAlpine Skiing\\nCAN\\ndownhill\\nM\\nBronze1994\\nLillehammer\\nSkiing\\nFreestyle Ski.\\nCAN\\naerials\\nM\\nBronze1994\\nLillehammer\\nSkiing\\nFreestyle Ski.\\nCAN\\naerials\\nM\\nSilver1994\\nLillehammer\\nSkiing\\nFreestyle Ski.\\nCAN\\nmoguls\\nM\\nGold1994\\nLillehammer\\nSkating\\nFigure skating\\nCHN\\nindividual\\nW\\nBronze1994\\nLillehammer\\nSkating\\nShort Track S.\\nCHN\\n500m\\nW\\nSilver1994\\nLillehammer\\nSkating\\nSpeed skating\\nCHN\\n1000m\\nW\\nBronze1994\\nLillehammer\\nIce Hockey\\nIce Hockey\\nFIN\\nice hockey\\nM\\nBronze1994\\nLillehammer\\nSkiing\\nCross Country S\\nFIN\\n30km\\nW\\nBronze1994\\nLillehammer\\nSkiing\\nCross Country S\\nFIN\\n30km mass start\\nM\\nBronze1994\\nLillehammer\\nSkiing\\nCross Country S\\nFIN\\n4x10km relay\\nM\\nBronze1994\\nLillehammer\\nSkiing\\nCross Country S\\nFIN\\n50km\\nM\\nSilver1994\\nLillehammer\\nSkiing\\nCross Country S\\nFIN\\n5km\\nW\\nBronze1994\\nLillehammer\\nBiathlon\\nBiathlon\\nFRA\\n15km\\nW\\nSilver1994\\nLillehammer\\nBiathlon\\nBiathlon\\nFRA\\n4x7.5km relay\\nM\\nBronze1994\\nLillehammer\\nBiathlon\\nBiathlon\\nFRA\\n4x7.5km relay\\nW\\nBronze1994\\nLillehammer\\nSkating\\nFigure skating\\nFRA\\nindividual\\nM\\nBronze1994\\nLillehammer\\nSkiing\\nFreestyle Ski.\\nFRA\\nmoguls\\nM\\nBronze1994\\nLillehammer\\nSkating\\nFigure skating\\nGBR\\nice dancing\\nX\\nBronze1994\\nLillehammer\\nSkating\\nShort Track S.\\nGBR\\n500m\\nM\\nBronze1994\\nLillehammer\\nBiathlon\\nBiathlon\\nGER\\n10km\\nM\\nSilver1994\\nLillehammer\\nBiathlon\\nBiathlon\\nGER\\n15km\\nW\\nBronze1994\\nLillehammer\\nBiathlon\\nBiathlon\\nGER\\n20km\\nM\\nBronze1994\\nLillehammer\\nBiathlon\\nBiathlon\\nGER\\n20km\\nM\\nSilver1994\\nLillehammer\\nBiathlon\\nBiathlon\\nGER\\n4x7.5km relay\\nM\\nGold1994\\nLillehammer\\nBiathlon\\nBiathlon\\nGER\\n4x7.5km relay\\nW\\nSilver1994\\nLillehammer\\nBobsleigh\\nBobsleigh\\nGER\\nfour-man\\nM\\nBronze1994\\nLillehammer\\nBobsleigh\\nBobsleigh\\nGER\\nfour-man\\nM\\nGold1994\\nLillehammer\\nLuge\\nLuge\\nGER\\ndoubles\\nX\\nBronze1994\\nLillehammer\\nLuge\\nLuge\\nGER\\nsingles\\nM\\nGold1994\\nLillehammer\\nLuge\\nLuge\\nGER\\nsingles\\nW\\nSilver1994\\nLillehammer\\nSkating\\nSpeed skating\\nGER\\n1000m\\nW\\nSilver1994\\nLillehammer\\nSkating\\nSpeed skating\\nGER\\n1500m\\nW\\nBronze1994\\nLillehammer\\nSkating\\nSpeed skating\\nGER\\n3000m\\nW\\nBronze1994\\nLillehammer\\nSkating\\nSpeed skating\\nGER\\n5000m\\nW\\nGold1994\\nLillehammer\\nSkating\\nSpeed skating\\nGER\\n5000m\\nW\\nSilver1994\\nLillehammer\\nSkating\\nSpeed skating\\nGER\\n500m\\nW\\nBronze1994\\nLillehammer\\nSkiing\\nAlpine Skiing\\nGER\\ndownhill\\nW\\nGold1994\\nLillehammer\\nSkiing\\nAlpine Skiing\\nGER\\ngiant slalom\\nM\\nGold1994\\nLillehammer\\nSkiing\\nAlpine Skiing\\nGER\\ngiant slalom\\nW\\nSilver1994\\nLillehammer\\nSkiing\\nAlpine Skiing\\nGER\\nsuper-G\\nM\\nGold1994\\nLillehammer\\nSkiing\\nSki Jumping\\nGER\\nK120 individual (90m)\\nM\\nGold1994\\nLillehammer\\nSkiing\\nSki Jumping\\nGER\\nK120 team (90m)\\nM\\nGold1994\\nLillehammer\\nSkiing\\nSki Jumping\\nGER\\nK90 individual (70m)\\nM\\nBronze1994\\nLillehammer\\nBobsleigh\\nBobsleigh\\nITA\\ntwo-man\\nM\\nBronze1994\\nLillehammer\\nLuge\\nLuge\\nITA\\ndoubles\\nX\\nGold1994\\nLillehammer\\nLuge\\nLuge\\nITA\\ndoubles\\nX\\nSilver1994\\nLillehammer\\nLuge\\nLuge\\nITA\\nsingles\\nM\\nBronze1994\\nLillehammer\\nLuge\\nLuge\\nITA\\nsingles\\nW\\nGold1994\\nLillehammer\\nSkating\\nShort Track S.\\nITA\\n5000m relay\\nM\\nGold1994\\nLillehammer\\nSkating\\nShort Track S.\\nITA\\n500m\\nM\\nSilver1994\\nLillehammer\\nSkiing\\nAlpine Skiing\\nITA\\ndownhill\\nW\\nBronze1994\\nLillehammer\\nSkiing\\nAlpine Skiing\\nITA\\ngiant slalom\\nW\\nGold1994\\nLillehammer\\nSkiing\\nAlpine Skiing\\nITA\\nslalom\\nM\\nSilver1994\\nLillehammer\\nSkiing\\nAlpine Skiing\\nITA\\nsuper-G\\nW\\nBronze1994\\nLillehammer\\nSkiing\\nCross Country S\\nITA\\n10km pursuit\\nM\\nBronze1994\\nLillehammer\\nSkiing\\nCross Country S\\nITA\\n15km mass start\\nW\\nGold1994\\nLillehammer\\nSkiing\\nCross Country S\\nITA\\n30km\\nW\\nGold1994\\nLillehammer\\nSkiing\\nCross Country S\\nITA\\n4x10km relay\\nM\\nGold1994\\nLillehammer\\nSkiing\\nCross Country S\\nITA\\n4x5km relay\\nW\\nBronze1994\\nLillehammer\\nSkiing\\nCross Country S\\nITA\\n5km\\nW\\nSilver1994\\nLillehammer\\nSkiing\\nCross Country S\\nITA\\nCombined 10km + 15km pursuit\\nM\\nBronze1994\\nLillehammer\\nSkiing\\nCross Country S\\nITA\\nCombined 5km + 10km pursuit\\nW\\nBronze1994\\nLillehammer\\nSkiing\\nCross Country S\\nITA\\nCombined 5km + 10km pursuit\\nW\\nSilver1994\\nLillehammer\\nSkating\\nSpeed skating\\nJPN\\n5000m\\nW\\nBronze1994\\nLillehammer\\nSkating\\nSpeed skating\\nJPN\\n500m\\nM\\nBronze1994\\nLillehammer\\nSkiing\\nNordic Combined\\nJPN\\nindividual\\nM\\nSilver1994\\nLillehammer\\nSkiing\\nNordic Combined\\nJPN\\nTeam\\nM\\nGold1994\\nLillehammer\\nSkiing\\nSki Jumping\\nJPN\\nK120 team (90m)\\nM\\nSilver1994\\nLillehammer\\nSkiing\\nCross Country S\\nKAZ\\n10km pursuit\\nM\\nSilver1994\\nLillehammer\\nSkiing\\nCross Country S\\nKAZ\\n50km\\nM\\nGold1994\\nLillehammer\\nSkiing\\nCross Country S\\nKAZ\\nCombined 10km + 15km pursuit\\nM\\nSilver1994\\nLillehammer\\nSkating\\nShort Track S.\\nKOR\\n1000m\\nM\\nGold1994\\nLillehammer\\nSkating\\nShort Track S.\\nKOR\\n1000m\\nM\\nSilver1994\\nLillehammer\\nSkating\\nShort Track S.\\nKOR\\n1000m\\nW\\nBronze1994\\nLillehammer\\nSkating\\nShort Track S.\\nKOR\\n1000m\\nW\\nGold1994\\nLillehammer\\nSkating\\nShort Track S.\\nKOR\\n3000m relay\\nW\\nGold1994\\nLillehammer\\nSkating\\nShort Track S.\\nKOR\\n500m\\nM\\nGold1994\\nLillehammer\\nSkating\\nSpeed skating\\nNED\\n10000m\\nM\\nBronze1994\\nLillehammer\\nSkating\\nSpeed skating\\nNED\\n1500m\\nM\\nBronze1994\\nLillehammer\\nSkating\\nSpeed skating\\nNED\\n1500m\\nM\\nSilver1994\\nLillehammer\\nSkating\\nSpeed skating\\nNED\\n5000m\\nM\\nBronze1994\\nLillehammer\\nSkating\\nSpeed skating\\nNOR\\n10000m\\nM\\nGold1994\\nLillehammer\\nSkating\\nSpeed skating\\nNOR\\n10000m\\nM\\nSilver1994\\nLillehammer\\nSkating\\nSpeed skating\\nNOR\\n1500m\\nM\\nGold1994\\nLillehammer\\nSkating\\nSpeed skating\\nNOR\\n5000m\\nM\\nGold1994\\nLillehammer\\nSkating\\nSpeed skating\\nNOR\\n5000m\\nM\\nSilver1994\\nLillehammer\\nSkiing\\nAlpine Skiing\\nNOR\\nalpine combined\\nM\\nBronze1994\\nLillehammer\\nSkiing\\nAlpine Skiing\\nNOR\\nalpine combined\\nM\\nGold1994\\nLillehammer\\nSkiing\\nAlpine Skiing\\nNOR\\nalpine combined\\nM\\nSilver1994\\nLillehammer\\nSkiing\\nAlpine Skiing\\nNOR\\ndownhill\\nM\\nSilver1994\\nLillehammer\\nSkiing\\nAlpine Skiing\\nNOR\\nsuper-G\\nM\\nBronze1994\\nLillehammer\\nSkiing\\nCross Country S\\nNOR\\n10km pursuit\\nM\\nGold1994\\nLillehammer\\nSkiing\\nCross Country S\\nNOR\\n30km\\nW\\nSilver1994\\nLillehammer\\nSkiing\\nCross Country S\\nNOR\\n30km mass start\\nM\\nGold1994\\nLillehammer\\nSkiing\\nCross Country S\\nNOR\\n30km mass start\\nM\\nSilver1994\\nLillehammer\\nSkiing\\nCross Country S\\nNOR\\n4x10km relay\\nM\\nSilver1994\\nLillehammer\\nSkiing\\nCross Country S\\nNOR\\n4x5km relay\\nW\\nSilver1994\\nLillehammer\\nSkiing\\nCross Country S\\nNOR\\n50km\\nM\\nBronze1994\\nLillehammer\\nSkiing\\nCross Country S\\nNOR\\nCombined 10km + 15km pursuit\\nM\\nGold1994\\nLillehammer\\nSkiing\\nFreestyle Ski.\\nNOR\\naerials\\nW\\nBronze1994\\nLillehammer\\nSkiing\\nFreestyle Ski.\\nNOR\\nmoguls\\nW\\nGold1994\\nLillehammer\\nSkiing\\nNordic Combined\\nNOR\\nindividual\\nM\\nBronze1994\\nLillehammer\\nSkiing\\nNordic Combined\\nNOR\\nindividual\\nM\\nGold1994\\nLillehammer\\nSkiing\\nNordic Combined\\nNOR\\nTeam\\nM\\nSilver1994\\nLillehammer\\nSkiing\\nSki Jumping\\nNOR\\nK120 individual (90m)\\nM\\nSilver1994\\nLillehammer\\nSkiing\\nSki Jumping\\nNOR\\nK90 individual (70m)\\nM\\nGold1994\\nLillehammer\\nSkiing\\nSki Jumping\\nNOR\\nK90 individual (70m)\\nM\\nSilver1994\\nLillehammer\\nBiathlon\\nBiathlon\\nRUS\\n10km\\nM\\nBronze1994\\nLillehammer\\nBiathlon\\nBiathlon\\nRUS\\n10km\\nM\\nGold1994\\nLillehammer\\nBiathlon\\nBiathlon\\nRUS\\n20km\\nM\\nGold1994\\nLillehammer\\nBiathlon\\nBiathlon\\nRUS\\n4x7.5km relay\\nM\\nSilver1994\\nLillehammer\\nBiathlon\\nBiathlon\\nRUS\\n4x7.5km relay\\nW\\nGold1994\\nLillehammer\\nSkating\\nFigure skating\\nRUS\\nice dancing\\nX\\nGold1994\\nLillehammer\\nSkating\\nFigure skating\\nRUS\\nice dancing\\nX\\nSilver1994\\nLillehammer\\nSkating\\nFigure skating\\nRUS\\nindividual\\nM\\nGold1994\\nLillehammer\\nSkating\\nFigure skating\\nRUS\\npairs\\nX\\nGold1994\\nLillehammer\\nSkating\\nFigure skating\\nRUS\\npairs\\nX\\nSilver1994\\nLillehammer\\nSkating\\nSpeed skating\\nRUS\\n1000m\\nM\\nBronze1994\\nLillehammer\\nSkating\\nSpeed skating\\nRUS\\n1500m\\nW\\nSilver1994\\nLillehammer\\nSkating\\nSpeed skating\\nRUS\\n3000m\\nW\\nGold1994\\nLillehammer\\nSkating\\nSpeed skating\\nRUS\\n500m\\nM\\nGold1994\\nLillehammer\\nSkating\\nSpeed skating\\nRUS\\n500m\\nM\\nSilver1994\\nLillehammer\\nSkiing\\nAlpine Skiing\\nRUS\\nsuper-G\\nW\\nSilver1994\\nLillehammer\\nSkiing\\nCross Country S\\nRUS\\n15km mass start\\nW\\nBronze1994\\nLillehammer\\nSkiing\\nCross Country S\\nRUS\\n15km mass start\\nW\\nSilver1994\\nLillehammer\\nSkiing\\nCross Country S\\nRUS\\n4x5km relay\\nW\\nGold1994\\nLillehammer\\nSkiing\\nCross Country S\\nRUS\\n5km\\nW\\nGold1994\\nLillehammer\\nSkiing\\nCross Country S\\nRUS\\nCombined 5km + 10km pursuit\\nW\\nGold1994\\nLillehammer\\nSkiing\\nFreestyle Ski.\\nRUS\\nmoguls\\nM\\nSilver1994\\nLillehammer\\nSkiing\\nFreestyle Ski.\\nRUS\\nmoguls\\nW\\nBronze1994\\nLillehammer\\nSkiing\\nAlpine Skiing\\nSLO\\nalpine combined\\nW\\nBronze1994\\nLillehammer\\nSkiing\\nAlpine Skiing\\nSLO\\nslalom\\nM\\nBronze1994\\nLillehammer\\nSkiing\\nAlpine Skiing\\nSLO\\nslalom\\nW\\nBronze1994\\nLillehammer\\nBobsleigh\\nBobsleigh\\nSUI\\nfour-man\\nM\\nSilver1994\\nLillehammer\\nBobsleigh\\nBobsleigh\\nSUI\\ntwo-man\\nM\\nGold1994\\nLillehammer\\nBobsleigh\\nBobsleigh\\nSUI\\ntwo-man\\nM\\nSilver1994\\nLillehammer\\nSkiing\\nAlpine Skiing\\nSUI\\nalpine combined\\nW\\nSilver1994\\nLillehammer\\nSkiing\\nAlpine Skiing\\nSUI\\ngiant slalom\\nM\\nSilver1994\\nLillehammer\\nSkiing\\nAlpine Skiing\\nSUI\\ngiant slalom\\nW\\nBronze1994\\nLillehammer\\nSkiing\\nAlpine Skiing\\nSUI\\nslalom\\nW\\nGold1994\\nLillehammer\\nSkiing\\nFreestyle Ski.\\nSUI\\naerials\\nM\\nGold1994\\nLillehammer\\nSkiing\\nNordic Combined\\nSUI\\nTeam\\nM\\nBronze1994\\nLillehammer\\nIce Hockey\\nIce Hockey\\nSWE\\nice hockey\\nM\\nGold1994\\nLillehammer\\nSkiing\\nAlpine Skiing\\nSWE\\nalpine combined\\nW\\nGold1994\\nLillehammer\\nSkiing\\nFreestyle Ski.\\nSWE\\naerials\\nW\\nSilver1994\\nLillehammer\\nBiathlon\\nBiathlon\\nUKR\\n7.5km\\nW\\nBronze1994\\nLillehammer\\nSkating\\nFigure skating\\nUKR\\nindividual\\nW\\nGold1994\\nLillehammer\\nSkating\\nFigure skating\\nUSA\\nindividual\\nW\\nSilver1994\\nLillehammer\\nSkating\\nShort Track S.\\nUSA\\n3000m relay\\nW\\nBronze1994\\nLillehammer\\nSkating\\nShort Track S.\\nUSA\\n5000m relay\\nM\\nSilver1994\\nLillehammer\\nSkating\\nShort Track S.\\nUSA\\n500m\\nW\\nBronze1994\\nLillehammer\\nSkating\\nShort Track S.\\nUSA\\n500m\\nW\\nGold1994\\nLillehammer\\nSkating\\nSpeed skating\\nUSA\\n1000m\\nM\\nGold1994\\nLillehammer\\nSkating\\nSpeed skating\\nUSA\\n1000m\\nW\\nGold1994\\nLillehammer\\nSkating\\nSpeed skating\\nUSA\\n500m\\nW\\nGold1994\\nLillehammer\\nSkiing\\nAlpine Skiing\\nUSA\\ndownhill\\nM\\nGold1994\\nLillehammer\\nSkiing\\nAlpine Skiing\\nUSA\\ndownhill\\nW\\nSilver1994\\nLillehammer\\nSkiing\\nAlpine Skiing\\nUSA\\nsuper-G\\nM\\nSilver1994\\nLillehammer\\nSkiing\\nAlpine Skiing\\nUSA\\nsuper-G\\nW\\nGold1994\\nLillehammer\\nSkiing\\nFreestyle Ski.\\nUSA\\nmoguls\\nW\\nSilver1994\\nLillehammer\\nSkiing\\nFreestyle Ski.\\nUZB\\naerials\\nW\\nGold1998\\nNagano\\nSkiing\\nAlpine Skiing\\nAUS\\nslalom\\nW\\nBronze1998\\nNagano\\nLuge\\nLuge\\nAUT\\nsingles\\nW\\nBronze1998\\nNagano\\nSkiing\\nAlpine Skiing\\nAUT\\nalpine combined\\nM\\nBronze1998\\nNagano\\nSkiing\\nAlpine Skiing\\nAUT\\nalpine combined\\nM\\nGold1998\\nNagano\\nSkiing\\nAlpine Skiing\\nAUT\\ndownhill\\nM\\nBronze1998\\nNagano\\nSkiing\\nAlpine Skiing\\nAUT\\ngiant slalom\\nM\\nGold1998\\nNagano\\nSkiing\\nAlpine Skiing\\nAUT\\ngiant slalom\\nM\\nSilver1998\\nNagano\\nSkiing\\nAlpine Skiing\\nAUT\\ngiant slalom\\nW\\nSilver1998\\nNagano\\nSkiing\\nAlpine Skiing\\nAUT\\nslalom\\nM\\nBronze1998\\nNagano\\nSkiing\\nAlpine Skiing\\nAUT\\nsuper-G\\nM\\nGold1998\\nNagano\\nSkiing\\nAlpine Skiing\\nAUT\\nsuper-G\\nM\\nSilver1998\\nNagano\\nSkiing\\nAlpine Skiing\\nAUT\\nsuper-G\\nW\\nBronze1998\\nNagano\\nSkiing\\nAlpine Skiing\\nAUT\\nsuper-G\\nW\\nSilver1998\\nNagano\\nSkiing\\nCross Country S\\nAUT\\n10km pursuit\\nM\\nSilver1998\\nNagano\\nSkiing\\nCross Country S\\nAUT\\n50km\\nM\\nBronze1998\\nNagano\\nSkiing\\nSki Jumping\\nAUT\\nK120 team (90m)\\nM\\nBronze1998\\nNagano\\nSkiing\\nSki Jumping\\nAUT\\nK90 individual (70m)\\nM\\nBronze1998\\nNagano\\nSkiing\\nSnowboard\\nAUT\\ngiant-slalom\\nW\\nBronze1998\\nNagano\\nSkating\\nSpeed skating\\nBEL\\n5000m\\nM\\nBronze1998\\nNagano\\nBiathlon\\nBiathlon\\nBLR\\n20km\\nM\\nBronze1998\\nNagano\\nSkiing\\nFreestyle Ski.\\nBLR\\naerials\\nM\\nBronze1998\\nNagano\\nBiathlon\\nBiathlon\\nBUL\\n15km\\nW\\nGold1998\\nNagano\\nBobsleigh\\nBobsleigh\\nCAN\\ntwo-man\\nM\\nGold1998\\nNagano\\nCurling\\nCurling\\nCAN\\ncurling\\nM\\nSilver1998\\nNagano\\nCurling\\nCurling\\nCAN\\ncurling\\nW\\nGold1998\\nNagano\\nIce Hockey\\nIce Hockey\\nCAN\\nice hockey\\nW\\nSilver1998\\nNagano\\nSkating\\nFigure skating\\nCAN\\nindividual\\nM\\nSilver1998\\nNagano\\nSkating\\nShort Track S.\\nCAN\\n1000m\\nM\\nBronze1998\\nNagano\\nSkating\\nShort Track S.\\nCAN\\n3000m relay\\nW\\nBronze1998\\nNagano\\nSkating\\nShort Track S.\\nCAN\\n5000m relay\\nM\\nGold1998\\nNagano\\nSkating\\nShort Track S.\\nCAN\\n500m\\nW\\nGold1998\\nNagano\\nSkating\\nSpeed skating\\nCAN\\n1000m\\nW\\nBronze1998\\nNagano\\nSkating\\nSpeed skating\\nCAN\\n500m\\nM\\nBronze1998\\nNagano\\nSkating\\nSpeed skating\\nCAN\\n500m\\nM\\nSilver1998\\nNagano\\nSkating\\nSpeed skating\\nCAN\\n500m\\nW\\nGold1998\\nNagano\\nSkating\\nSpeed skating\\nCAN\\n500m\\nW\\nSilver1998\\nNagano\\nSkiing\\nSnowboard\\nCAN\\ngiant-slalom\\nM\\nGold1998\\nNagano\\nSkating\\nFigure skating\\nCHN\\nindividual\\nW\\nBronze1998\\nNagano\\nSkating\\nShort Track S.\\nCHN\\n1000m\\nM\\nSilver1998\\nNagano\\nSkating\\nShort Track S.\\nCHN\\n1000m\\nW\\nSilver1998\\nNagano\\nSkating\\nShort Track S.\\nCHN\\n3000m relay\\nW\\nSilver1998\\nNagano\\nSkating\\nShort Track S.\\nCHN\\n5000m relay\\nM\\nBronze1998\\nNagano\\nSkating\\nShort Track S.\\nCHN\\n500m\\nM\\nSilver1998\\nNagano\\nSkating\\nShort Track S.\\nCHN\\n500m\\nW\\nSilver1998\\nNagano\\nSkiing\\nFreestyle Ski.\\nCHN\\naerials\\nW\\nSilver1998\\nNagano\\nIce Hockey\\nIce Hockey\\nCZE\\nice hockey\\nM\\nGold1998\\nNagano\\nSkiing\\nCross Country S\\nCZE\\n5km\\nW\\nSilver1998\\nNagano\\nSkiing\\nCross Country S\\nCZE\\nCombined 5km + 10km pursuit\\nW\\nBronze1998\\nNagano\\nCurling\\nCurling\\nDEN\\ncurling\\nW\\nSilver1998\\nNagano\\nBiathlon\\nBiathlon\\nFIN\\n10km\\nM\\nBronze1998\\nNagano\\nIce Hockey\\nIce Hockey\\nFIN\\nice hockey\\nM\\nBronze1998\\nNagano\\nIce Hockey\\nIce Hockey\\nFIN\\nice hockey\\nW\\nBronze1998\\nNagano\\nSkiing\\nCross Country S\\nFIN\\n10km pursuit\\nM\\nBronze1998\\nNagano\\nSkiing\\nCross Country S\\nFIN\\n30km mass start\\nM\\nGold1998\\nNagano\\nSkiing\\nCross Country S\\nFIN\\n4x10km relay\\nM\\nBronze1998\\nNagano\\nSkiing\\nFreestyle Ski.\\nFIN\\nmoguls\\nM\\nBronze1998\\nNagano\\nSkiing\\nFreestyle Ski.\\nFIN\\nmoguls\\nM\\nSilver1998\\nNagano\\nSkiing\\nNordic Combined\\nFIN\\nindividual\\nM\\nSilver1998\\nNagano\\nSkiing\\nNordic Combined\\nFIN\\nTeam\\nM\\nSilver1998\\nNagano\\nSkiing\\nSki Jumping\\nFIN\\nK120 individual (90m)\\nM\\nSilver1998\\nNagano\\nSkiing\\nSki Jumping\\nFIN\\nK90 individual (70m)\\nM\\nGold1998\\nNagano\\nBobsleigh\\nBobsleigh\\nFRA\\nfour-man\\nM\\nBronze1998\\nNagano\\nSkating\\nFigure skating\\nFRA\\nice dancing\\nX\\nBronze1998\\nNagano\\nSkating\\nFigure skating\\nFRA\\nindividual\\nM\\nBronze1998\\nNagano\\nSkiing\\nAlpine Skiing\\nFRA\\ndownhill\\nM\\nGold1998\\nNagano\\nSkiing\\nAlpine Skiing\\nFRA\\ndownhill\\nW\\nBronze1998\\nNagano\\nSkiing\\nFreestyle Ski.\\nFRA\\naerials\\nM\\nSilver1998\\nNagano\\nSkiing\\nNordic Combined\\nFRA\\nTeam\\nM\\nBronze1998\\nNagano\\nSkiing\\nSnowboard\\nFRA\\ngiant-slalom\\nW\\nGold1998\\nNagano\\nBobsleigh\\nBobsleigh\\nGBR\\nfour-man\\nM\\nBronze1998\\nNagano\\nBiathlon\\nBiathlon\\nGER\\n15km\\nW\\nBronze1998\\nNagano\\nBiathlon\\nBiathlon\\nGER\\n4x7.5km relay\\nM\\nGold1998\\nNagano\\nBiathlon\\nBiathlon\\nGER\\n4x7.5km relay\\nW\\nGold1998\\nNagano\\nBiathlon\\nBiathlon\\nGER\\n7.5km\\nW\\nBronze1998\\nNagano\\nBiathlon\\nBiathlon\\nGER\\n7.5km\\nW\\nSilver1998\\nNagano\\nBobsleigh\\nBobsleigh\\nGER\\nfour-man\\nM\\nGold1998\\nNagano\\nBobsleigh\\nBobsleigh\\nGER\\ntwo-man\\nM\\nBronze1998\\nNagano\\nLuge\\nLuge\\nGER\\ndoubles\\nX\\nGold1998\\nNagano\\nLuge\\nLuge\\nGER\\nsingles\\nM\\nBronze1998\\nNagano\\nLuge\\nLuge\\nGER\\nsingles\\nM\\nGold1998\\nNagano\\nLuge\\nLuge\\nGER\\nsingles\\nW\\nGold1998\\nNagano\\nLuge\\nLuge\\nGER\\nsingles\\nW\\nSilver1998\\nNagano\\nSkating\\nFigure skating\\nGER\\npairs\\nX\\nBronze1998\\nNagano\\nSkating\\nSpeed skating\\nGER\\n1500m\\nW\\nSilver1998\\nNagano\\nSkating\\nSpeed skating\\nGER\\n3000m\\nW\\nBronze1998\\nNagano\\nSkating\\nSpeed skating\\nGER\\n3000m\\nW\\nGold1998\\nNagano\\nSkating\\nSpeed skating\\nGER\\n3000m\\nW\\nSilver1998\\nNagano\\nSkating\\nSpeed skating\\nGER\\n5000m\\nW\\nGold1998\\nNagano\\nSkating\\nSpeed skating\\nGER\\n5000m\\nW\\nSilver1998\\nNagano\\nSkiing\\nAlpine Skiing\\nGER\\nalpine combined\\nW\\nBronze1998\\nNagano\\nSkiing\\nAlpine Skiing\\nGER\\nalpine combined\\nW\\nGold1998\\nNagano\\nSkiing\\nAlpine Skiing\\nGER\\nalpine combined\\nW\\nSilver1998\\nNagano\\nSkiing\\nAlpine Skiing\\nGER\\ndownhill\\nW\\nGold1998\\nNagano\\nSkiing\\nAlpine Skiing\\nGER\\ngiant slalom\\nW\\nBronze1998\\nNagano\\nSkiing\\nAlpine Skiing\\nGER\\nslalom\\nW\\nGold1998\\nNagano\\nSkiing\\nFreestyle Ski.\\nGER\\nmoguls\\nW\\nSilver1998\\nNagano\\nSkiing\\nSki Jumping\\nGER\\nK120 team (90m)\\nM\\nSilver1998\\nNagano\\nSkiing\\nSnowboard\\nGER\\ngiant-slalom\\nW\\nSilver1998\\nNagano\\nSkiing\\nSnowboard\\nGER\\nHalf-pipe\\nW\\nGold1998\\nNagano\\nBiathlon\\nBiathlon\\nITA\\n20km\\nM\\nSilver1998\\nNagano\\nBobsleigh\\nBobsleigh\\nITA\\ntwo-man\\nM\\nGold1998\\nNagano\\nLuge\\nLuge\\nITA\\nsingles\\nM\\nSilver1998\\nNagano\\nSkiing\\nAlpine Skiing\\nITA\\ngiant slalom\\nW\\nGold1998\\nNagano\\nSkiing\\nAlpine Skiing\\nITA\\nslalom\\nW\\nSilver1998\\nNagano\\nSkiing\\nCross Country S\\nITA\\n30km\\nW\\nSilver1998\\nNagano\\nSkiing\\nCross Country S\\nITA\\n30km mass start\\nM\\nBronze1998\\nNagano\\nSkiing\\nCross Country S\\nITA\\n4x10km relay\\nM\\nSilver1998\\nNagano\\nSkiing\\nCross Country S\\nITA\\n4x5km relay\\nW\\nBronze1998\\nNagano\\nSkiing\\nSnowboard\\nITA\\ngiant-slalom\\nM\\nSilver1998\\nNagano\\nSkating\\nShort Track S.\\nJPN\\n500m\\nM\\nBronze1998\\nNagano\\nSkating\\nShort Track S.\\nJPN\\n500m\\nM\\nGold1998\\nNagano\\nSkating\\nSpeed skating\\nJPN\\n1000m\\nM\\nBronze1998\\nNagano\\nSkating\\nSpeed skating\\nJPN\\n500m\\nM\\nGold1998\\nNagano\\nSkating\\nSpeed skating\\nJPN\\n500m\\nW\\nBronze1998\\nNagano\\nSkiing\\nFreestyle Ski.\\nJPN\\nmoguls\\nW\\nGold1998\\nNagano\\nSkiing\\nSki Jumping\\nJPN\\nK120 individual (90m)\\nM\\nBronze1998\\nNagano\\nSkiing\\nSki Jumping\\nJPN\\nK120 individual (90m)\\nM\\nGold1998\\nNagano\\nSkiing\\nSki Jumping\\nJPN\\nK120 team (90m)\\nM\\nGold1998\\nNagano\\nSkiing\\nSki Jumping\\nJPN\\nK90 individual (70m)\\nM\\nSilver1998\\nNagano\\nSkating\\nSpeed skating\\nKAZ\\n5000m\\nW\\nBronze1998\\nNagano\\nSkiing\\nCross Country S\\nKAZ\\nCombined 10km + 15km pursuit\\nM\\nBronze1998\\nNagano\\nSkating\\nShort Track S.\\nKOR\\n1000m\\nM\\nGold1998\\nNagano\\nSkating\\nShort Track S.\\nKOR\\n1000m\\nW\\nBronze1998\\nNagano\\nSkating\\nShort Track S.\\nKOR\\n1000m\\nW\\nGold1998\\nNagano\\nSkating\\nShort Track S.\\nKOR\\n3000m relay\\nW\\nGold1998\\nNagano\\nSkating\\nShort Track S.\\nKOR\\n5000m relay\\nM\\nSilver1998\\nNagano\\nSkating\\nShort Track S.\\nKOR\\n500m\\nW\\nBronze1998\\nNagano\\nSkating\\nSpeed skating\\nNED\\n10000m\\nM\\nBronze1998\\nNagano\\nSkating\\nSpeed skating\\nNED\\n10000m\\nM\\nGold1998\\nNagano\\nSkating\\nSpeed skating\\nNED\\n10000m\\nM\\nSilver1998\\nNagano\\nSkating\\nSpeed skating\\nNED\\n1000m\\nM\\nGold1998\\nNagano\\nSkating\\nSpeed skating\\nNED\\n1000m\\nM\\nSilver1998\\nNagano\\nSkating\\nSpeed skating\\nNED\\n1000m\\nW\\nGold1998\\nNagano\\nSkating\\nSpeed skating\\nNED\\n1500m\\nM\\nBronze1998\\nNagano\\nSkating\\nSpeed skating\\nNED\\n1500m\\nM\\nSilver1998\\nNagano\\nSkating\\nSpeed skating\\nNED\\n1500m\\nW\\nGold1998\\nNagano\\nSkating\\nSpeed skating\\nNED\\n5000m\\nM\\nGold1998\\nNagano\\nSkating\\nSpeed skating\\nNED\\n5000m\\nM\\nSilver1998\\nNagano\\nBiathlon\\nBiathlon\\nNOR\\n10km\\nM\\nGold1998\\nNagano\\nBiathlon\\nBiathlon\\nNOR\\n10km\\nM\\nSilver1998\\nNagano\\nBiathlon\\nBiathlon\\nNOR\\n20km\\nM\\nGold1998\\nNagano\\nBiathlon\\nBiathlon\\nNOR\\n4x7.5km relay\\nM\\nSilver1998\\nNagano\\nBiathlon\\nBiathlon\\nNOR\\n4x7.5km relay\\nW\\nBronze1998\\nNagano\\nCurling\\nCurling\\nNOR\\ncurling\\nM\\nBronze1998\\nNagano\\nSkating\\nSpeed skating\\nNOR\\n1500m\\nM\\nGold1998\\nNagano\\nSkiing\\nAlpine Skiing\\nNOR\\nalpine combined\\nM\\nSilver1998\\nNagano\\nSkiing\\nAlpine Skiing\\nNOR\\ndownhill\\nM\\nSilver1998\\nNagano\\nSkiing\\nAlpine Skiing\\nNOR\\nslalom\\nM\\nGold1998\\nNagano\\nSkiing\\nAlpine Skiing\\nNOR\\nslalom\\nM\\nSilver1998\\nNagano\\nSkiing\\nCross Country S\\nNOR\\n10km pursuit\\nM\\nGold1998\\nNagano\\nSkiing\\nCross Country S\\nNOR\\n15km mass start\\nW\\nBronze1998\\nNagano\\nSkiing\\nCross Country S\\nNOR\\n30km mass start\\nM\\nSilver1998\\nNagano\\nSkiing\\nCross Country S\\nNOR\\n4x10km relay\\nM\\nGold1998\\nNagano\\nSkiing\\nCross Country S\\nNOR\\n4x5km relay\\nW\\nSilver1998\\nNagano\\nSkiing\\nCross Country S\\nNOR\\n50km\\nM\\nGold1998\\nNagano\\nSkiing\\nCross Country S\\nNOR\\n5km\\nW\\nBronze1998\\nNagano\\nSkiing\\nCross Country S\\nNOR\\nCombined 10km + 15km pursuit\\nM\\nGold1998\\nNagano\\nSkiing\\nCross Country S\\nNOR\\nCombined 10km + 15km pursuit\\nM\\nSilver1998\\nNagano\\nSkiing\\nFreestyle Ski.\\nNOR\\nmoguls\\nW\\nBronze1998\\nNagano\\nSkiing\\nNordic Combined\\nNOR\\nindividual\\nM\\nGold1998\\nNagano\\nSkiing\\nNordic Combined\\nNOR\\nTeam\\nM\\nGold1998\\nNagano\\nSkiing\\nSnowboard\\nNOR\\nHalf-pipe\\nM\\nSilver1998\\nNagano\\nSkiing\\nSnowboard\\nNOR\\nHalf-pipe\\nW\\nSilver1998\\nNagano\\nBiathlon\\nBiathlon\\nRUS\\n4x7.5km relay\\nM\\nBronze1998\\nNagano\\nBiathlon\\nBiathlon\\nRUS\\n4x7.5km relay\\nW\\nSilver1998\\nNagano\\nBiathlon\\nBiathlon\\nRUS\\n7.5km\\nW\\nGold1998\\nNagano\\nIce Hockey\\nIce Hockey\\nRUS\\nice hockey\\nM\\nSilver1998\\nNagano\\nSkating\\nFigure skating\\nRUS\\nice dancing\\nX\\nGold1998\\nNagano\\nSkating\\nFigure skating\\nRUS\\nice dancing\\nX\\nSilver1998\\nNagano\\nSkating\\nFigure skating\\nRUS\\nindividual\\nM\\nGold1998\\nNagano\\nSkating\\nFigure skating\\nRUS\\npairs\\nX\\nGold1998\\nNagano\\nSkating\\nFigure skating\\nRUS\\npairs\\nX\\nSilver1998\\nNagano\\nSkiing\\nCross Country S\\nRUS\\n15km mass start\\nW\\nGold1998\\nNagano\\nSkiing\\nCross Country S\\nRUS\\n15km mass start\\nW\\nSilver1998\\nNagano\\nSkiing\\nCross Country S\\nRUS\\n30km\\nW\\nBronze1998\\nNagano\\nSkiing\\nCross Country S\\nRUS\\n30km\\nW\\nGold1998\\nNagano\\nSkiing\\nCross Country S\\nRUS\\n4x5km relay\\nW\\nGold1998\\nNagano\\nSkiing\\nCross Country S\\nRUS\\n5km\\nW\\nGold1998\\nNagano\\nSkiing\\nCross Country S\\nRUS\\nCombined 5km + 10km pursuit\\nW\\nGold1998\\nNagano\\nSkiing\\nCross Country S\\nRUS\\nCombined 5km + 10km pursuit\\nW\\nSilver1998\\nNagano\\nSkiing\\nNordic Combined\\nRUS\\nindividual\\nM\\nBronze1998\\nNagano\\nBobsleigh\\nBobsleigh\\nSUI\\nfour-man\\nM\\nSilver1998\\nNagano\\nCurling\\nCurling\\nSUI\\ncurling\\nM\\nGold1998\\nNagano\\nSkiing\\nAlpine Skiing\\nSUI\\ngiant slalom\\nM\\nBronze1998\\nNagano\\nSkiing\\nAlpine Skiing\\nSUI\\nsuper-G\\nM\\nSilver1998\\nNagano\\nSkiing\\nFreestyle Ski.\\nSUI\\naerials\\nW\\nBronze1998\\nNagano\\nSkiing\\nSnowboard\\nSUI\\ngiant-slalom\\nM\\nBronze1998\\nNagano\\nSkiing\\nSnowboard\\nSUI\\nHalf-pipe\\nM\\nGold1998\\nNagano\\nCurling\\nCurling\\nSWE\\ncurling\\nW\\nBronze1998\\nNagano\\nSkiing\\nAlpine Skiing\\nSWE\\ndownhill\\nW\\nSilver1998\\nNagano\\nSkiing\\nCross Country S\\nSWE\\n50km\\nM\\nSilver1998\\nNagano\\nBiathlon\\nBiathlon\\nUKR\\n15km\\nW\\nSilver1998\\nNagano\\nIce Hockey\\nIce Hockey\\nUSA\\nice hockey\\nW\\nGold1998\\nNagano\\nLuge\\nLuge\\nUSA\\ndoubles\\nX\\nBronze1998\\nNagano\\nLuge\\nLuge\\nUSA\\ndoubles\\nX\\nSilver1998\\nNagano\\nSkating\\nFigure skating\\nUSA\\nindividual\\nW\\nGold1998\\nNagano\\nSkating\\nFigure skating\\nUSA\\nindividual\\nW\\nSilver1998\\nNagano\\nSkating\\nSpeed skating\\nUSA\\n1000m\\nW\\nSilver1998\\nNagano\\nSkating\\nSpeed skating\\nUSA\\n1500m\\nW\\nBronze1998\\nNagano\\nSkiing\\nAlpine Skiing\\nUSA\\nsuper-G\\nW\\nGold1998\\nNagano\\nSkiing\\nFreestyle Ski.\\nUSA\\naerials\\nM\\nGold1998\\nNagano\\nSkiing\\nFreestyle Ski.\\nUSA\\naerials\\nW\\nGold1998\\nNagano\\nSkiing\\nFreestyle Ski.\\nUSA\\nmoguls\\nM\\nGold1998\\nNagano\\nSkiing\\nSnowboard\\nUSA\\nHalf-pipe\\nM\\nBronze1998\\nNagano\\nSkiing\\nSnowboard\\nUSA\\nHalf-pipe\\nW\\nBronze2002\\nSalt Lake City\\nSkating\\nShort Track S.\\nAUS\\n1000m\\nM\\nGold2002\\nSalt Lake City\\nSkiing\\nFreestyle Ski.\\nAUS\\naerials\\nW\\nGold2002\\nSalt Lake City\\nBiathlon\\nBiathlon\\nAUT\\n10km\\nM\\nBronze2002\\nSalt Lake City\\nBobsleigh\\nSkeleton\\nAUT\\nindividual\\nM\\nSilver2002\\nSalt Lake City\\nLuge\\nLuge\\nAUT\\nsingles\\nM\\nBronze2002\\nSalt Lake City\\nSkiing\\nAlpine Skiing\\nAUT\\nalpine combined\\nM\\nBronze2002\\nSalt Lake City\\nSkiing\\nAlpine Skiing\\nAUT\\nalpine combined\\nW\\nSilver2002\\nSalt Lake City\\nSkiing\\nAlpine Skiing\\nAUT\\ndownhill\\nM\\nBronze2002\\nSalt Lake City\\nSkiing\\nAlpine Skiing\\nAUT\\ndownhill\\nM\\nGold2002\\nSalt Lake City\\nSkiing\\nAlpine Skiing\\nAUT\\ndownhill\\nW\\nBronze2002\\nSalt Lake City\\nSkiing\\nAlpine Skiing\\nAUT\\ngiant slalom\\nM\\nGold2002\\nSalt Lake City\\nSkiing\\nAlpine Skiing\\nAUT\\nslalom\\nM\\nBronze2002\\nSalt Lake City\\nSkiing\\nAlpine Skiing\\nAUT\\nsuper-G\\nM\\nBronze2002\\nSalt Lake City\\nSkiing\\nAlpine Skiing\\nAUT\\nsuper-G\\nM\\nSilver2002\\nSalt Lake City\\nSkiing\\nCross Country S\\nAUT\\n30km mass start\\nM\\nGold2002\\nSalt Lake City\\nSkiing\\nCross Country S\\nAUT\\n30km mass start\\nM\\nSilver2002\\nSalt Lake City\\nSkiing\\nNordic Combined\\nAUT\\nindividual\\nM\\nBronze2002\\nSalt Lake City\\nSkiing\\nNordic Combined\\nAUT\\nsprint\\nM\\nBronze2002\\nSalt Lake City\\nSkiing\\nNordic Combined\\nAUT\\nTeam\\nM\\nBronze2002\\nSalt Lake City\\nSkiing\\nFreestyle Ski.\\nBLR\\naerials\\nM\\nBronze2002\\nSalt Lake City\\nBiathlon\\nBiathlon\\nBUL\\n10km pursuit\\nW\\nBronze2002\\nSalt Lake City\\nSkating\\nShort Track S.\\nBUL\\n1500m\\nW\\nBronze2002\\nSalt Lake City\\nSkating\\nShort Track S.\\nBUL\\n500m\\nW\\nSilver2002\\nSalt Lake City\\nCurling\\nCurling\\nCAN\\ncurling\\nM\\nSilver2002\\nSalt Lake City\\nCurling\\nCurling\\nCAN\\ncurling\\nW\\nBronze2002\\nSalt Lake City\\nIce Hockey\\nIce Hockey\\nCAN\\nice hockey\\nM\\nGold2002\\nSalt Lake City\\nIce Hockey\\nIce Hockey\\nCAN\\nice hockey\\nW\\nGold2002\\nSalt Lake City\\nSkating\\nFigure skating\\nCAN\\npairs\\nX\\nGold2002\\nSalt Lake City\\nSkating\\nShort Track S.\\nCAN\\n1000m\\nM\\nBronze2002\\nSalt Lake City\\nSkating\\nShort Track S.\\nCAN\\n1500m\\nM\\nBronze2002\\nSalt Lake City\\nSkating\\nShort Track S.\\nCAN\\n3000m relay\\nW\\nBronze2002\\nSalt Lake City\\nSkating\\nShort Track S.\\nCAN\\n5000m relay\\nM\\nGold2002\\nSalt Lake City\\nSkating\\nShort Track S.\\nCAN\\n500m\\nM\\nGold2002\\nSalt Lake City\\nSkating\\nShort Track S.\\nCAN\\n500m\\nM\\nSilver2002\\nSalt Lake City\\nSkating\\nSpeed skating\\nCAN\\n3000m\\nW\\nBronze2002\\nSalt Lake City\\nSkating\\nSpeed skating\\nCAN\\n5000m\\nW\\nBronze2002\\nSalt Lake City\\nSkating\\nSpeed skating\\nCAN\\n500m\\nW\\nGold2002\\nSalt Lake City\\nSkiing\\nCross Country S\\nCAN\\n5km pursuit\\nW\\nGold2002\\nSalt Lake City\\nSkiing\\nFreestyle Ski.\\nCAN\\naerials\\nW\\nBronze2002\\nSalt Lake City\\nSkiing\\nFreestyle Ski.\\nCAN\\naerials\\nW\\nSilver2002\\nSalt Lake City\\nSkating\\nFigure skating\\nCHN\\npairs\\nX\\nBronze2002\\nSalt Lake City\\nSkating\\nShort Track S.\\nCHN\\n1000m\\nW\\nBronze2002\\nSalt Lake City\\nSkating\\nShort Track S.\\nCHN\\n1000m\\nW\\nGold2002\\nSalt Lake City\\nSkating\\nShort Track S.\\nCHN\\n1500m\\nM\\nSilver2002\\nSalt Lake City\\nSkating\\nShort Track S.\\nCHN\\n3000m relay\\nW\\nSilver2002\\nSalt Lake City\\nSkating\\nShort Track S.\\nCHN\\n5000m relay\\nM\\nBronze2002\\nSalt Lake City\\nSkating\\nShort Track S.\\nCHN\\n500m\\nW\\nBronze2002\\nSalt Lake City\\nSkating\\nShort Track S.\\nCHN\\n500m\\nW\\nGold2002\\nSalt Lake City\\nSkiing\\nAlpine Skiing\\nCRO\\nalpine combined\\nW\\nGold2002\\nSalt Lake City\\nSkiing\\nAlpine Skiing\\nCRO\\ngiant slalom\\nW\\nGold2002\\nSalt Lake City\\nSkiing\\nAlpine Skiing\\nCRO\\nslalom\\nW\\nGold2002\\nSalt Lake City\\nSkiing\\nAlpine Skiing\\nCRO\\nsuper-G\\nW\\nSilver2002\\nSalt Lake City\\nSkiing\\nCross Country S\\nCZE\\n15km mass start\\nW\\nSilver2002\\nSalt Lake City\\nSkiing\\nCross Country S\\nCZE\\n5km pursuit\\nW\\nSilver2002\\nSalt Lake City\\nSkiing\\nFreestyle Ski.\\nCZE\\naerials\\nM\\nGold2002\\nSalt Lake City\\nSkiing\\nCross Country S\\nEST\\n15km\\nM\\nBronze2002\\nSalt Lake City\\nSkiing\\nCross Country S\\nEST\\n15km\\nM\\nGold2002\\nSalt Lake City\\nSkiing\\nCross Country S\\nEST\\n50km\\nM\\nSilver2002\\nSalt Lake City\\nSkiing\\nFreestyle Ski.\\nFIN\\nmoguls\\nM\\nGold2002\\nSalt Lake City\\nSkiing\\nNordic Combined\\nFIN\\nindividual\\nM\\nGold2002\\nSalt Lake City\\nSkiing\\nNordic Combined\\nFIN\\nindividual\\nM\\nSilver2002\\nSalt Lake City\\nSkiing\\nNordic Combined\\nFIN\\nsprint\\nM\\nGold2002\\nSalt Lake City\\nSkiing\\nNordic Combined\\nFIN\\nTeam\\nM\\nGold2002\\nSalt Lake City\\nSkiing\\nSki Jumping\\nFIN\\nK120 individual (90m)\\nM\\nBronze2002\\nSalt Lake City\\nSkiing\\nSki Jumping\\nFIN\\nK120 team (90m)\\nM\\nSilver2002\\nSalt Lake City\\nBiathlon\\nBiathlon\\nFRA\\n12.5km pursuit\\nM\\nSilver2002\\nSalt Lake City\\nBiathlon\\nBiathlon\\nFRA\\n4x7.5km relay\\nM\\nBronze2002\\nSalt Lake City\\nSkating\\nFigure skating\\nFRA\\nice dancing\\nX\\nGold2002\\nSalt Lake City\\nSkiing\\nAlpine Skiing\\nFRA\\ndownhill\\nW\\nGold2002\\nSalt Lake City\\nSkiing\\nAlpine Skiing\\nFRA\\nslalom\\nM\\nGold2002\\nSalt Lake City\\nSkiing\\nAlpine Skiing\\nFRA\\nslalom\\nM\\nSilver2002\\nSalt Lake City\\nSkiing\\nAlpine Skiing\\nFRA\\nslalom\\nW\\nSilver2002\\nSalt Lake City\\nSkiing\\nFreestyle Ski.\\nFRA\\nmoguls\\nM\\nBronze2002\\nSalt Lake City\\nSkiing\\nSnowboard\\nFRA\\nGiant parallel slalom\\nW\\nGold2002\\nSalt Lake City\\nSkiing\\nSnowboard\\nFRA\\nGiant parallel slalom\\nW\\nSilver2002\\nSalt Lake City\\nSkiing\\nSnowboard\\nFRA\\nHalf-pipe\\nW\\nSilver2002\\nSalt Lake City\\nBobsleigh\\nSkeleton\\nGBR\\nindividual\\nW\\nBronze2002\\nSalt Lake City\\nCurling\\nCurling\\nGBR\\ncurling\\nW\\nGold2002\\nSalt Lake City\\nBiathlon\\nBiathlon\\nGER\\n10km\\nM\\nSilver2002\\nSalt Lake City\\nBiathlon\\nBiathlon\\nGER\\n10km pursuit\\nW\\nSilver2002\\nSalt Lake City\\nBiathlon\\nBiathlon\\nGER\\n12.5km pursuit\\nM\\nBronze2002\\nSalt Lake City\\nBiathlon\\nBiathlon\\nGER\\n15km\\nW\\nGold2002\\nSalt Lake City\\nBiathlon\\nBiathlon\\nGER\\n20km\\nM\\nSilver2002\\nSalt Lake City\\nBiathlon\\nBiathlon\\nGER\\n4x7.5km relay\\nM\\nSilver2002\\nSalt Lake City\\nBiathlon\\nBiathlon\\nGER\\n4x7.5km relay\\nW\\nGold2002\\nSalt Lake City\\nBiathlon\\nBiathlon\\nGER\\n7.5km\\nW\\nGold2002\\nSalt Lake City\\nBiathlon\\nBiathlon\\nGER\\n7.5km\\nW\\nSilver2002\\nSalt Lake City\\nBobsleigh\\nBobsleigh\\nGER\\nfour-man\\nM\\nGold2002\\nSalt Lake City\\nBobsleigh\\nBobsleigh\\nGER\\ntwo-man\\nM\\nGold2002\\nSalt Lake City\\nBobsleigh\\nBobsleigh\\nGER\\ntwo-man\\nW\\nBronze2002\\nSalt Lake City\\nBobsleigh\\nBobsleigh\\nGER\\ntwo-man\\nW\\nSilver2002\\nSalt Lake City\\nLuge\\nLuge\\nGER\\ndoubles\\nX\\nGold2002\\nSalt Lake City\\nLuge\\nLuge\\nGER\\nsingles\\nM\\nSilver2002\\nSalt Lake City\\nLuge\\nLuge\\nGER\\nsingles\\nW\\nBronze2002\\nSalt Lake City\\nLuge\\nLuge\\nGER\\nsingles\\nW\\nGold2002\\nSalt Lake City\\nLuge\\nLuge\\nGER\\nsingles\\nW\\nSilver2002\\nSalt Lake City\\nSkating\\nSpeed skating\\nGER\\n1000m\\nW\\nSilver2002\\nSalt Lake City\\nSkating\\nSpeed skating\\nGER\\n1500m\\nW\\nGold2002\\nSalt Lake City\\nSkating\\nSpeed skating\\nGER\\n1500m\\nW\\nSilver2002\\nSalt Lake City\\nSkating\\nSpeed skating\\nGER\\n3000m\\nW\\nGold2002\\nSalt Lake City\\nSkating\\nSpeed skating\\nGER\\n5000m\\nM\\nBronze2002\\nSalt Lake City\\nSkating\\nSpeed skating\\nGER\\n5000m\\nW\\nGold2002\\nSalt Lake City\\nSkating\\nSpeed skating\\nGER\\n500m\\nW\\nBronze2002\\nSalt Lake City\\nSkating\\nSpeed skating\\nGER\\n500m\\nW\\nSilver2002\\nSalt Lake City\\nSkiing\\nAlpine Skiing\\nGER\\nalpine combined\\nW\\nBronze2002\\nSalt Lake City\\nSkiing\\nCross Country S\\nGER\\n4x10km relay\\nM\\nBronze2002\\nSalt Lake City\\nSkiing\\nCross Country S\\nGER\\n4x5km relay\\nW\\nGold2002\\nSalt Lake City\\nSkiing\\nCross Country S\\nGER\\n5km pursuit\\nW\\nBronze2002\\nSalt Lake City\\nSkiing\\nCross Country S\\nGER\\nSprint 1.5km\\nM\\nSilver2002\\nSalt Lake City\\nSkiing\\nCross Country S\\nGER\\nSprint 1.5km\\nW\\nSilver2002\\nSalt Lake City\\nSkiing\\nNordic Combined\\nGER\\nsprint\\nM\\nSilver2002\\nSalt Lake City\\nSkiing\\nNordic Combined\\nGER\\nTeam\\nM\\nSilver2002\\nSalt Lake City\\nSkiing\\nSki Jumping\\nGER\\nK120 team (90m)\\nM\\nGold2002\\nSalt Lake City\\nSkiing\\nSki Jumping\\nGER\\nK90 individual (70m)\\nM\\nSilver2002\\nSalt Lake City\\nLuge\\nLuge\\nITA\\nsingles\\nM\\nGold2002\\nSalt Lake City\\nSkating\\nFigure skating\\nITA\\nice dancing\\nX\\nBronze2002\\nSalt Lake City\\nSkating\\nShort Track S.\\nITA\\n5000m relay\\nM\\nSilver2002\\nSalt Lake City\\nSkiing\\nAlpine Skiing\\nITA\\ndownhill\\nW\\nSilver2002\\nSalt Lake City\\nSkiing\\nAlpine Skiing\\nITA\\nsuper-G\\nW\\nBronze2002\\nSalt Lake City\\nSkiing\\nAlpine Skiing\\nITA\\nsuper-G\\nW\\nGold2002\\nSalt Lake City\\nSkiing\\nCross Country S\\nITA\\n10km\\nW\\nBronze2002\\nSalt Lake City\\nSkiing\\nCross Country S\\nITA\\n15km mass start\\nW\\nGold2002\\nSalt Lake City\\nSkiing\\nCross Country S\\nITA\\n30km\\nW\\nGold2002\\nSalt Lake City\\nSkiing\\nCross Country S\\nITA\\n30km\\nW\\nSilver2002\\nSalt Lake City\\nSkiing\\nCross Country S\\nITA\\n4x10km relay\\nM\\nSilver2002\\nSalt Lake City\\nSkiing\\nCross Country S\\nITA\\nSprint 1.5km\\nM\\nBronze2002\\nSalt Lake City\\nSkiing\\nSnowboard\\nITA\\nGiant parallel slalom\\nW\\nBronze2002\\nSalt Lake City\\nSkating\\nSpeed skating\\nJPN\\n500m\\nM\\nSilver2002\\nSalt Lake City\\nSkiing\\nFreestyle Ski.\\nJPN\\nmoguls\\nW\\nBronze2002\\nSalt Lake City\\nSkating\\nShort Track S.\\nKOR\\n1000m\\nW\\nSilver2002\\nSalt Lake City\\nSkating\\nShort Track S.\\nKOR\\n1500m\\nW\\nGold2002\\nSalt Lake City\\nSkating\\nShort Track S.\\nKOR\\n1500m\\nW\\nSilver2002\\nSalt Lake City\\nSkating\\nShort Track S.\\nKOR\\n3000m relay\\nW\\nGold2002\\nSalt Lake City\\nSkating\\nSpeed skating\\nNED\\n10000m\\nM\\nGold2002\\nSalt Lake City\\nSkating\\nSpeed skating\\nNED\\n10000m\\nM\\nSilver2002\\nSalt Lake City\\nSkating\\nSpeed skating\\nNED\\n1000m\\nM\\nGold2002\\nSalt Lake City\\nSkating\\nSpeed skating\\nNED\\n1000m\\nM\\nSilver2002\\nSalt Lake City\\nSkating\\nSpeed skating\\nNED\\n1500m\\nM\\nSilver2002\\nSalt Lake City\\nSkating\\nSpeed skating\\nNED\\n3000m\\nW\\nSilver2002\\nSalt Lake City\\nSkating\\nSpeed skating\\nNED\\n5000m\\nM\\nGold2002\\nSalt Lake City\\nSkating\\nSpeed skating\\nNED\\n5000m\\nW\\nSilver2002\\nSalt Lake City\\nBiathlon\\nBiathlon\\nNOR\\n10km\\nM\\nGold2002\\nSalt Lake City\\nBiathlon\\nBiathlon\\nNOR\\n12.5km pursuit\\nM\\nGold2002\\nSalt Lake City\\nBiathlon\\nBiathlon\\nNOR\\n15km\\nW\\nSilver2002\\nSalt Lake City\\nBiathlon\\nBiathlon\\nNOR\\n20km\\nM\\nGold2002\\nSalt Lake City\\nBiathlon\\nBiathlon\\nNOR\\n4x7.5km relay\\nM\\nGold2002\\nSalt Lake City\\nBiathlon\\nBiathlon\\nNOR\\n4x7.5km relay\\nW\\nSilver2002\\nSalt Lake City\\nCurling\\nCurling\\nNOR\\ncurling\\nM\\nGold2002\\nSalt Lake City\\nSkating\\nSpeed skating\\nNOR\\n10000m\\nM\\nBronze2002\\nSalt Lake City\\nSkating\\nSpeed skating\\nNOR\\n1500m\\nM\\nBronze2002\\nSalt Lake City\\nSkiing\\nAlpine Skiing\\nNOR\\nalpine combined\\nM\\nGold2002\\nSalt Lake City\\nSkiing\\nAlpine Skiing\\nNOR\\ndownhill\\nM\\nSilver2002\\nSalt Lake City\\nSkiing\\nAlpine Skiing\\nNOR\\ngiant slalom\\nM\\nBronze2002\\nSalt Lake City\\nSkiing\\nAlpine Skiing\\nNOR\\nsuper-G\\nM\\nGold2002\\nSalt Lake City\\nSkiing\\nCross Country S\\nNOR\\n10km\\nW\\nGold2002\\nSalt Lake City\\nSkiing\\nCross Country S\\nNOR\\n10km pursuit\\nM\\nGold2002\\nSalt Lake City\\nSkiing\\nCross Country S\\nNOR\\n10km pursuit\\nM\\nGold2002\\nSalt Lake City\\nSkiing\\nCross Country S\\nNOR\\n15km\\nM\\nSilver2002\\nSalt Lake City\\nSkiing\\nCross Country S\\nNOR\\n30km\\nW\\nBronze2002\\nSalt Lake City\\nSkiing\\nCross Country S\\nNOR\\n30km mass start\\nM\\nBronze2002\\nSalt Lake City\\nSkiing\\nCross Country S\\nNOR\\n4x10km relay\\nM\\nGold2002\\nSalt Lake City\\nSkiing\\nCross Country S\\nNOR\\n4x5km relay\\nW\\nSilver2002\\nSalt Lake City\\nSkiing\\nCross Country S\\nNOR\\n50km\\nM\\nBronze2002\\nSalt Lake City\\nSkiing\\nCross Country S\\nNOR\\nSprint 1.5km\\nM\\nGold2002\\nSalt Lake City\\nSkiing\\nCross Country S\\nNOR\\nSprint 1.5km\\nW\\nBronze2002\\nSalt Lake City\\nSkiing\\nFreestyle Ski.\\nNOR\\nmoguls\\nW\\nGold2002\\nSalt Lake City\\nSkiing\\nSki Jumping\\nPOL\\nK120 individual (90m)\\nM\\nSilver2002\\nSalt Lake City\\nSkiing\\nSki Jumping\\nPOL\\nK90 individual (70m)\\nM\\nBronze2002\\nSalt Lake City\\nBiathlon\\nBiathlon\\nRUS\\n10km pursuit\\nW\\nGold2002\\nSalt Lake City\\nBiathlon\\nBiathlon\\nRUS\\n20km\\nM\\nBronze2002\\nSalt Lake City\\nBiathlon\\nBiathlon\\nRUS\\n4x7.5km relay\\nW\\nBronze2002\\nSalt Lake City\\nIce Hockey\\nIce Hockey\\nRUS\\nice hockey\\nM\\nBronze2002\\nSalt Lake City\\nSkating\\nFigure skating\\nRUS\\nice dancing\\nX\\nSilver2002\\nSalt Lake City\\nSkating\\nFigure skating\\nRUS\\nindividual\\nM\\nGold2002\\nSalt Lake City\\nSkating\\nFigure skating\\nRUS\\nindividual\\nM\\nSilver2002\\nSalt Lake City\\nSkating\\nFigure skating\\nRUS\\nindividual\\nW\\nSilver2002\\nSalt Lake City\\nSkating\\nFigure skating\\nRUS\\npairs\\nX\\nGold2002\\nSalt Lake City\\nSkiing\\nCross Country S\\nRUS\\n10km\\nW\\nSilver2002\\nSalt Lake City\\nSkiing\\nCross Country S\\nRUS\\n15km mass start\\nW\\nBronze2002\\nSalt Lake City\\nSkiing\\nCross Country S\\nRUS\\n50km\\nM\\nGold2002\\nSalt Lake City\\nSkiing\\nCross Country S\\nRUS\\nsprint 1.5km\\nW\\nGold2002\\nSalt Lake City\\nSkiing\\nSki Jumping\\nSLO\\nK120 team (90m)\\nM\\nBronze2002\\nSalt Lake City\\nBobsleigh\\nBobsleigh\\nSUI\\ntwo-man\\nM\\nBronze2002\\nSalt Lake City\\nBobsleigh\\nBobsleigh\\nSUI\\ntwo-man\\nM\\nSilver2002\\nSalt Lake City\\nBobsleigh\\nSkeleton\\nSUI\\nindividual\\nM\\nBronze2002\\nSalt Lake City\\nCurling\\nCurling\\nSUI\\ncurling\\nM\\nBronze2002\\nSalt Lake City\\nCurling\\nCurling\\nSUI\\ncurling\\nW\\nSilver2002\\nSalt Lake City\\nSkiing\\nAlpine Skiing\\nSUI\\ngiant slalom\\nW\\nBronze2002\\nSalt Lake City\\nSkiing\\nCross Country S\\nSUI\\n4x5km relay\\nW\\nBronze2002\\nSalt Lake City\\nSkiing\\nSki Jumping\\nSUI\\nK120 individual (90m)\\nM\\nGold2002\\nSalt Lake City\\nSkiing\\nSki Jumping\\nSUI\\nK90 individual (70m)\\nM\\nGold2002\\nSalt Lake City\\nSkiing\\nSnowboard\\nSUI\\nGiant parallel slalom\\nM\\nGold2002\\nSalt Lake City\\nSkiing\\nSnowboard\\nSUI\\nHalf-pipe\\nW\\nBronze2002\\nSalt Lake City\\nBiathlon\\nBiathlon\\nSWE\\n15km\\nW\\nBronze2002\\nSalt Lake City\\nBiathlon\\nBiathlon\\nSWE\\n7.5km\\nW\\nBronze2002\\nSalt Lake City\\nIce Hockey\\nIce Hockey\\nSWE\\nice hockey\\nW\\nBronze2002\\nSalt Lake City\\nSkiing\\nAlpine Skiing\\nSWE\\ngiant slalom\\nW\\nSilver2002\\nSalt Lake City\\nSkiing\\nAlpine Skiing\\nSWE\\nslalom\\nW\\nBronze2002\\nSalt Lake City\\nSkiing\\nCross Country S\\nSWE\\n10km pursuit\\nM\\nBronze2002\\nSalt Lake City\\nSkiing\\nSnowboard\\nSWE\\nGiant parallel slalom\\nM\\nSilver2002\\nSalt Lake City\\nBobsleigh\\nBobsleigh\\nUSA\\nfour-man\\nM\\nBronze2002\\nSalt Lake City\\nBobsleigh\\nBobsleigh\\nUSA\\nfour-man\\nM\\nSilver2002\\nSalt Lake City\\nBobsleigh\\nBobsleigh\\nUSA\\ntwo-man\\nW\\nGold2002\\nSalt Lake City\\nBobsleigh\\nSkeleton\\nUSA\\nindividual\\nM\\nGold2002\\nSalt Lake City\\nBobsleigh\\nSkeleton\\nUSA\\nindividual\\nW\\nGold2002\\nSalt Lake City\\nBobsleigh\\nSkeleton\\nUSA\\nindividual\\nW\\nSilver2002\\nSalt Lake City\\nIce Hockey\\nIce Hockey\\nUSA\\nice hockey\\nM\\nSilver2002\\nSalt Lake City\\nIce Hockey\\nIce Hockey\\nUSA\\nice hockey\\nW\\nSilver2002\\nSalt Lake City\\nLuge\\nLuge\\nUSA\\ndoubles\\nX\\nBronze2002\\nSalt Lake City\\nLuge\\nLuge\\nUSA\\ndoubles\\nX\\nSilver2002\\nSalt Lake City\\nSkating\\nFigure skating\\nUSA\\nindividual\\nM\\nBronze2002\\nSalt Lake City\\nSkating\\nFigure skating\\nUSA\\nindividual\\nW\\nBronze2002\\nSalt Lake City\\nSkating\\nFigure skating\\nUSA\\nindividual\\nW\\nGold2002\\nSalt Lake City\\nSkating\\nShort Track S.\\nUSA\\n1000m\\nM\\nSilver2002\\nSalt Lake City\\nSkating\\nShort Track S.\\nUSA\\n1500m\\nM\\nGold2002\\nSalt Lake City\\nSkating\\nShort Track S.\\nUSA\\n500m\\nM\\nBronze2002\\nSalt Lake City\\nSkating\\nSpeed skating\\nUSA\\n1000m\\nM\\nBronze2002\\nSalt Lake City\\nSkating\\nSpeed skating\\nUSA\\n1000m\\nW\\nBronze2002\\nSalt Lake City\\nSkating\\nSpeed skating\\nUSA\\n1000m\\nW\\nGold2002\\nSalt Lake City\\nSkating\\nSpeed skating\\nUSA\\n1500m\\nM\\nGold2002\\nSalt Lake City\\nSkating\\nSpeed skating\\nUSA\\n1500m\\nW\\nBronze2002\\nSalt Lake City\\nSkating\\nSpeed skating\\nUSA\\n5000m\\nM\\nSilver2002\\nSalt Lake City\\nSkating\\nSpeed skating\\nUSA\\n500m\\nM\\nBronze2002\\nSalt Lake City\\nSkating\\nSpeed skating\\nUSA\\n500m\\nM\\nGold2002\\nSalt Lake City\\nSkiing\\nAlpine Skiing\\nUSA\\nalpine combined\\nM\\nSilver2002\\nSalt Lake City\\nSkiing\\nAlpine Skiing\\nUSA\\ngiant slalom\\nM\\nSilver2002\\nSalt Lake City\\nSkiing\\nFreestyle Ski.\\nUSA\\naerials\\nM\\nSilver2002\\nSalt Lake City\\nSkiing\\nFreestyle Ski.\\nUSA\\nmoguls\\nM\\nSilver2002\\nSalt Lake City\\nSkiing\\nFreestyle Ski.\\nUSA\\nmoguls\\nW\\nSilver2002\\nSalt Lake City\\nSkiing\\nSnowboard\\nUSA\\nGiant parallel slalom\\nM\\nBronze2002\\nSalt Lake City\\nSkiing\\nSnowboard\\nUSA\\nHalf-pipe\\nM\\nBronze2002\\nSalt Lake City\\nSkiing\\nSnowboard\\nUSA\\nHalf-pipe\\nM\\nGold2002\\nSalt Lake City\\nSkiing\\nSnowboard\\nUSA\\nHalf-pipe\\nM\\nSilver2002\\nSalt Lake City\\nSkiing\\nSnowboard\\nUSA\\nHalf-pipe\\nW\\nGold2006\\nTurin\\nSkiing\\nFreestyle Ski.\\nAUS\\naerials\\nW\\nBronze2006\\nTurin\\nSkiing\\nFreestyle Ski.\\nAUS\\nmoguls\\nM\\nGold2006\\nTurin\\nLuge\\nLuge\\nAUT\\ndoubles\\nX\\nGold2006\\nTurin\\nSkiing\\nAlpine Skiing\\nAUT\\nAlpine combined\\nM\\nBronze2006\\nTurin\\nSkiing\\nAlpine Skiing\\nAUT\\nAlpine combined\\nW\\nSilver2006\\nTurin\\nSkiing\\nAlpine Skiing\\nAUT\\ndownhill\\nM\\nSilver2006\\nTurin\\nSkiing\\nAlpine Skiing\\nAUT\\ndownhill\\nW\\nGold2006\\nTurin\\nSkiing\\nAlpine Skiing\\nAUT\\ngiant slalom\\nM\\nBronze2006\\nTurin\\nSkiing\\nAlpine Skiing\\nAUT\\ngiant slalom\\nM\\nGold2006\\nTurin\\nSkiing\\nAlpine Skiing\\nAUT\\nslalom\\nM\\nBronze2006\\nTurin\\nSkiing\\nAlpine Skiing\\nAUT\\nslalom\\nM\\nGold2006\\nTurin\\nSkiing\\nAlpine Skiing\\nAUT\\nslalom\\nM\\nSilver2006\\nTurin\\nSkiing\\nAlpine Skiing\\nAUT\\nslalom\\nW\\nBronze2006\\nTurin\\nSkiing\\nAlpine Skiing\\nAUT\\nslalom\\nW\\nSilver2006\\nTurin\\nSkiing\\nAlpine Skiing\\nAUT\\nsuper-G\\nM\\nSilver2006\\nTurin\\nSkiing\\nAlpine Skiing\\nAUT\\nsuper-G\\nW\\nBronze2006\\nTurin\\nSkiing\\nAlpine Skiing\\nAUT\\nsuper-G\\nW\\nGold2006\\nTurin\\nSkiing\\nCross Country S\\nAUT\\n50km\\nM\\nBronze2006\\nTurin\\nSkiing\\nNordic Combined\\nAUT\\nIndividual\\nM\\nSilver2006\\nTurin\\nSkiing\\nNordic Combined\\nAUT\\nIndividual sprint\\nM\\nGold2006\\nTurin\\nSkiing\\nNordic Combined\\nAUT\\nTeam\\nM\\nGold2006\\nTurin\\nSkiing\\nSki Jumping\\nAUT\\nK120 individual (90m)\\nM\\nGold2006\\nTurin\\nSkiing\\nSki Jumping\\nAUT\\nK120 individual (90m)\\nM\\nSilver2006\\nTurin\\nSkiing\\nSki Jumping\\nAUT\\nK120 team (90m)\\nM\\nGold2006\\nTurin\\nSkiing\\nSnowboard\\nAUT\\nGiant parallel slalom\\nM\\nBronze2006\\nTurin\\nSkiing\\nFreestyle Ski.\\nBLR\\naerials\\nM\\nSilver2006\\nTurin\\nSkating\\nShort Track S.\\nBUL\\n500m\\nW\\nSilver2006\\nTurin\\nBobsleigh\\nBobsleigh\\nCAN\\ntwo-man\\nM\\nSilver2006\\nTurin\\nBobsleigh\\nSkeleton\\nCAN\\nindividual\\nM\\nGold2006\\nTurin\\nBobsleigh\\nSkeleton\\nCAN\\nindividual\\nM\\nSilver2006\\nTurin\\nBobsleigh\\nSkeleton\\nCAN\\nindividual\\nW\\nBronze2006\\nTurin\\nCurling\\nCurling\\nCAN\\ncurling\\nM\\nGold2006\\nTurin\\nCurling\\nCurling\\nCAN\\ncurling\\nW\\nBronze2006\\nTurin\\nIce Hockey\\nIce Hockey\\nCAN\\nice hockey\\nW\\nGold2006\\nTurin\\nSkating\\nFigure skating\\nCAN\\nindividual\\nM\\nBronze2006\\nTurin\\nSkating\\nShort Track S.\\nCAN\\n3000m relay\\nW\\nSilver2006\\nTurin\\nSkating\\nShort Track S.\\nCAN\\n5000m relay\\nM\\nSilver2006\\nTurin\\nSkating\\nShort Track S.\\nCAN\\n500m\\nM\\nSilver2006\\nTurin\\nSkating\\nShort Track S.\\nCAN\\n500m\\nW\\nBronze2006\\nTurin\\nSkating\\nSpeed skating\\nCAN\\n1000m\\nW\\nSilver2006\\nTurin\\nSkating\\nSpeed skating\\nCAN\\n1500m\\nW\\nGold2006\\nTurin\\nSkating\\nSpeed skating\\nCAN\\n1500m\\nW\\nSilver2006\\nTurin\\nSkating\\nSpeed skating\\nCAN\\n3000m\\nW\\nBronze2006\\nTurin\\nSkating\\nSpeed skating\\nCAN\\n5000m\\nW\\nBronze2006\\nTurin\\nSkating\\nSpeed skating\\nCAN\\n5000m\\nW\\nGold2006\\nTurin\\nSkating\\nSpeed skating\\nCAN\\nTeam pursuit\\nM\\nSilver2006\\nTurin\\nSkating\\nSpeed skating\\nCAN\\nTeam pursuit\\nW\\nSilver2006\\nTurin\\nSkiing\\nCross Country S\\nCAN\\nSprint 1.5km\\nW\\nGold2006\\nTurin\\nSkiing\\nCross Country S\\nCAN\\nTeam sprint\\nW\\nSilver2006\\nTurin\\nSkiing\\nFreestyle Ski.\\nCAN\\nmoguls\\nW\\nGold2006\\nTurin\\nSkiing\\nSnowboard\\nCAN\\nSnowboard Cross\\nW\\nBronze2006\\nTurin\\nSkating\\nFigure skating\\nCHN\\npairs\\nX\\nBronze2006\\nTurin\\nSkating\\nFigure skating\\nCHN\\npairs\\nX\\nSilver2006\\nTurin\\nSkating\\nShort Track S.\\nCHN\\n1000m\\nW\\nBronze2006\\nTurin\\nSkating\\nShort Track S.\\nCHN\\n1000m\\nW\\nSilver2006\\nTurin\\nSkating\\nShort Track S.\\nCHN\\n1500m\\nM\\nBronze2006\\nTurin\\nSkating\\nShort Track S.\\nCHN\\n1500m\\nW\\nBronze2006\\nTurin\\nSkating\\nShort Track S.\\nCHN\\n500m\\nW\\nGold2006\\nTurin\\nSkating\\nSpeed skating\\nCHN\\n500m\\nW\\nBronze2006\\nTurin\\nSkating\\nSpeed skating\\nCHN\\n500m\\nW\\nSilver2006\\nTurin\\nSkiing\\nFreestyle Ski.\\nCHN\\naerials\\nM\\nGold2006\\nTurin\\nSkiing\\nFreestyle Ski.\\nCHN\\naerials\\nW\\nSilver2006\\nTurin\\nSkiing\\nAlpine Skiing\\nCRO\\nAlpine combined\\nM\\nSilver2006\\nTurin\\nSkiing\\nAlpine Skiing\\nCRO\\nAlpine combined\\nW\\nGold2006\\nTurin\\nSkiing\\nAlpine Skiing\\nCRO\\nsuper-G\\nW\\nSilver2006\\nTurin\\nIce Hockey\\nIce Hockey\\nCZE\\nice hockey\\nM\\nBronze2006\\nTurin\\nSkiing\\nCross Country S\\nCZE\\n15km\\nM\\nSilver2006\\nTurin\\nSkiing\\nCross Country S\\nCZE\\n30km\\nW\\nGold2006\\nTurin\\nSkiing\\nCross Country S\\nCZE\\nCombined 7.5 + 7.5km mass start\\nW\\nSilver2006\\nTurin\\nSkiing\\nCross Country S\\nEST\\n10km\\nW\\nGold2006\\nTurin\\nSkiing\\nCross Country S\\nEST\\n15km\\nM\\nGold2006\\nTurin\\nSkiing\\nCross Country S\\nEST\\nCombined 7.5 + 7.5km mass start\\nW\\nGold2006\\nTurin\\nCurling\\nCurling\\nFIN\\ncurling\\nM\\nSilver2006\\nTurin\\nIce Hockey\\nIce Hockey\\nFIN\\nice hockey\\nM\\nSilver2006\\nTurin\\nSkiing\\nAlpine Skiing\\nFIN\\ngiant slalom\\nW\\nSilver2006\\nTurin\\nSkiing\\nCross Country S\\nFIN\\nTeam sprint\\nW\\nBronze2006\\nTurin\\nSkiing\\nFreestyle Ski.\\nFIN\\nmoguls\\nM\\nSilver2006\\nTurin\\nSkiing\\nNordic Combined\\nFIN\\nTeam\\nM\\nBronze2006\\nTurin\\nSkiing\\nSki Jumping\\nFIN\\nK120 team (90m)\\nM\\nSilver2006\\nTurin\\nSkiing\\nSki Jumping\\nFIN\\nK90 individual (70m)\\nM\\nSilver2006\\nTurin\\nSkiing\\nSnowboard\\nFIN\\nHalf-pipe\\nM\\nBronze2006\\nTurin\\nBiathlon\\nBiathlon\\nFRA\\n12.5km pursuit\\nM\\nGold2006\\nTurin\\nBiathlon\\nBiathlon\\nFRA\\n4x6km relay\\nW\\nBronze2006\\nTurin\\nBiathlon\\nBiathlon\\nFRA\\n4x7.5km relay\\nM\\nBronze2006\\nTurin\\nBiathlon\\nBiathlon\\nFRA\\n7.5km\\nW\\nGold2006\\nTurin\\nSkiing\\nAlpine Skiing\\nFRA\\ndownhill\\nM\\nGold2006\\nTurin\\nSkiing\\nAlpine Skiing\\nFRA\\ngiant slalom\\nM\\nSilver2006\\nTurin\\nSkiing\\nCross Country S\\nFRA\\nSprint 1.5km\\nM\\nSilver2006\\nTurin\\nSkiing\\nFreestyle Ski.\\nFRA\\nmoguls\\nW\\nBronze2006\\nTurin\\nSkiing\\nSnowboard\\nFRA\\nSnowboard Cross\\nM\\nBronze2006\\nTurin\\nBobsleigh\\nSkeleton\\nGBR\\nindividual\\nW\\nSilver2006\\nTurin\\nBiathlon\\nBiathlon\\nGER\\n10km\\nM\\nGold2006\\nTurin\\nBiathlon\\nBiathlon\\nGER\\n10km pursuit\\nW\\nGold2006\\nTurin\\nBiathlon\\nBiathlon\\nGER\\n10km pursuit\\nW\\nSilver2006\\nTurin\\nBiathlon\\nBiathlon\\nGER\\n12.5km mass start\\nW\\nBronze2006\\nTurin\\nBiathlon\\nBiathlon\\nGER\\n12.5km mass start\\nW\\nSilver2006\\nTurin\\nBiathlon\\nBiathlon\\nGER\\n12.5km pursuit\\nM\\nBronze2006\\nTurin\\nBiathlon\\nBiathlon\\nGER\\n15km\\nW\\nSilver2006\\nTurin\\nBiathlon\\nBiathlon\\nGER\\n15km mass start\\nM\\nGold2006\\nTurin\\nBiathlon\\nBiathlon\\nGER\\n20km\\nM\\nGold2006\\nTurin\\nBiathlon\\nBiathlon\\nGER\\n4x6km relay\\nW\\nSilver2006\\nTurin\\nBiathlon\\nBiathlon\\nGER\\n4x7.5km relay\\nM\\nGold2006\\nTurin\\nBobsleigh\\nBobsleigh\\nGER\\nfour-man\\nM\\nGold2006\\nTurin\\nBobsleigh\\nBobsleigh\\nGER\\ntwo-man\\nM\\nGold2006\\nTurin\\nBobsleigh\\nBobsleigh\\nGER\\ntwo-man\\nW\\nGold2006\\nTurin\\nLuge\\nLuge\\nGER\\ndoubles\\nX\\nSilver2006\\nTurin\\nLuge\\nLuge\\nGER\\nsingles\\nW\\nBronze2006\\nTurin\\nLuge\\nLuge\\nGER\\nsingles\\nW\\nGold2006\\nTurin\\nLuge\\nLuge\\nGER\\nsingles\\nW\\nSilver2006\\nTurin\\nSkating\\nSpeed skating\\nGER\\n1000m\\nW\\nBronze2006\\nTurin\\nSkating\\nSpeed skating\\nGER\\n5000m\\nW\\nSilver2006\\nTurin\\nSkating\\nSpeed skating\\nGER\\nTeam pursuit\\nW\\nGold2006\\nTurin\\nSkiing\\nCross Country S\\nGER\\n15km\\nM\\nBronze2006\\nTurin\\nSkiing\\nCross Country S\\nGER\\n4x10km relay\\nM\\nSilver2006\\nTurin\\nSkiing\\nCross Country S\\nGER\\n4x5km relay\\nW\\nSilver2006\\nTurin\\nSkiing\\nCross Country S\\nGER\\nsprint 1.5km\\nW\\nSilver2006\\nTurin\\nSkiing\\nNordic Combined\\nGER\\nIndividual\\nM\\nGold2006\\nTurin\\nSkiing\\nNordic Combined\\nGER\\nIndividual sprint\\nM\\nBronze2006\\nTurin\\nSkiing\\nNordic Combined\\nGER\\nTeam\\nM\\nSilver2006\\nTurin\\nSkiing\\nSnowboard\\nGER\\nGiant parallel slalom\\nW\\nSilver2006\\nTurin\\nBobsleigh\\nBobsleigh\\nITA\\ntwo-man\\nW\\nBronze2006\\nTurin\\nLuge\\nLuge\\nITA\\ndoubles\\nX\\nBronze2006\\nTurin\\nLuge\\nLuge\\nITA\\nsingles\\nM\\nGold2006\\nTurin\\nSkating\\nShort Track S.\\nITA\\n3000m relay\\nW\\nBronze2006\\nTurin\\nSkating\\nSpeed skating\\nITA\\n1500m\\nM\\nGold2006\\nTurin\\nSkating\\nSpeed skating\\nITA\\n5000m\\nM\\nBronze2006\\nTurin\\nSkating\\nSpeed skating\\nITA\\nTeam pursuit\\nM\\nGold2006\\nTurin\\nSkiing\\nCross Country S\\nITA\\n4x10km relay\\nM\\nGold2006\\nTurin\\nSkiing\\nCross Country S\\nITA\\n4x5km relay\\nW\\nBronze2006\\nTurin\\nSkiing\\nCross Country S\\nITA\\n50km\\nM\\nGold2006\\nTurin\\nSkiing\\nCross Country S\\nITA\\nCombined 15 + 15km mass start\\nM\\nBronze2006\\nTurin\\nSkating\\nFigure skating\\nJPN\\nindividual\\nW\\nGold2006\\nTurin\\nSkating\\nShort Track S.\\nKOR\\n1000m\\nM\\nGold2006\\nTurin\\nSkating\\nShort Track S.\\nKOR\\n1000m\\nM\\nSilver2006\\nTurin\\nSkating\\nShort Track S.\\nKOR\\n1000m\\nW\\nGold2006\\nTurin\\nSkating\\nShort Track S.\\nKOR\\n1500m\\nM\\nGold2006\\nTurin\\nSkating\\nShort Track S.\\nKOR\\n1500m\\nM\\nSilver2006\\nTurin\\nSkating\\nShort Track S.\\nKOR\\n1500m\\nW\\nGold2006\\nTurin\\nSkating\\nShort Track S.\\nKOR\\n1500m\\nW\\nSilver2006\\nTurin\\nSkating\\nShort Track S.\\nKOR\\n3000m relay\\nW\\nGold2006\\nTurin\\nSkating\\nShort Track S.\\nKOR\\n5000m relay\\nM\\nGold2006\\nTurin\\nSkating\\nShort Track S.\\nKOR\\n500m\\nM\\nBronze2006\\nTurin\\nSkating\\nSpeed skating\\nKOR\\n500m\\nM\\nBronze2006\\nTurin\\nLuge\\nLuge\\nLAT\\nsingles\\nM\\nBronze2006\\nTurin\\nSkating\\nSpeed skating\\nNED\\n10000m\\nM\\nBronze2006\\nTurin\\nSkating\\nSpeed skating\\nNED\\n10000m\\nM\\nGold2006\\nTurin\\nSkating\\nSpeed skating\\nNED\\n1000m\\nM\\nBronze2006\\nTurin\\nSkating\\nSpeed skating\\nNED\\n1000m\\nW\\nGold2006\\nTurin\\nSkating\\nSpeed skating\\nNED\\n1500m\\nW\\nBronze2006\\nTurin\\nSkating\\nSpeed skating\\nNED\\n3000m\\nW\\nGold2006\\nTurin\\nSkating\\nSpeed skating\\nNED\\n3000m\\nW\\nSilver2006\\nTurin\\nSkating\\nSpeed skating\\nNED\\n5000m\\nM\\nSilver2006\\nTurin\\nSkating\\nSpeed skating\\nNED\\nTeam pursuit\\nM\\nBronze2006\\nTurin\\nBiathlon\\nBiathlon\\nNOR\\n10km\\nM\\nBronze2006\\nTurin\\nBiathlon\\nBiathlon\\nNOR\\n10km\\nM\\nSilver2006\\nTurin\\nBiathlon\\nBiathlon\\nNOR\\n12.5km pursuit\\nM\\nSilver2006\\nTurin\\nBiathlon\\nBiathlon\\nNOR\\n15km mass start\\nM\\nBronze2006\\nTurin\\nBiathlon\\nBiathlon\\nNOR\\n20km\\nM\\nBronze2006\\nTurin\\nBiathlon\\nBiathlon\\nNOR\\n20km\\nM\\nSilver2006\\nTurin\\nSkiing\\nAlpine Skiing\\nNOR\\nsuper-G\\nM\\nGold2006\\nTurin\\nSkiing\\nCross Country S\\nNOR\\n10km\\nW\\nBronze2006\\nTurin\\nSkiing\\nCross Country S\\nNOR\\n10km\\nW\\nSilver2006\\nTurin\\nSkiing\\nCross Country S\\nNOR\\nCombined 15 + 15km mass start\\nM\\nSilver2006\\nTurin\\nSkiing\\nCross Country S\\nNOR\\nTeam sprint\\nM\\nSilver2006\\nTurin\\nSkiing\\nFreestyle Ski.\\nNOR\\nmoguls\\nW\\nSilver2006\\nTurin\\nSkiing\\nNordic Combined\\nNOR\\nIndividual\\nM\\nBronze2006\\nTurin\\nSkiing\\nNordic Combined\\nNOR\\nIndividual sprint\\nM\\nSilver2006\\nTurin\\nSkiing\\nSki Jumping\\nNOR\\nK120 individual (90m)\\nM\\nBronze2006\\nTurin\\nSkiing\\nSki Jumping\\nNOR\\nK120 team (90m)\\nM\\nBronze2006\\nTurin\\nSkiing\\nSki Jumping\\nNOR\\nK90 individual (70m)\\nM\\nBronze2006\\nTurin\\nSkiing\\nSki Jumping\\nNOR\\nK90 individual (70m)\\nM\\nGold2006\\nTurin\\nSkiing\\nSnowboard\\nNOR\\nHalf-pipe\\nW\\nBronze2006\\nTurin\\nBiathlon\\nBiathlon\\nPOL\\n15km mass start\\nM\\nSilver2006\\nTurin\\nSkiing\\nCross Country S\\nPOL\\n30km\\nW\\nBronze2006\\nTurin\\nBiathlon\\nBiathlon\\nRUS\\n10km pursuit\\nW\\nBronze2006\\nTurin\\nBiathlon\\nBiathlon\\nRUS\\n15km\\nW\\nBronze2006\\nTurin\\nBiathlon\\nBiathlon\\nRUS\\n15km\\nW\\nGold2006\\nTurin\\nBiathlon\\nBiathlon\\nRUS\\n4x6km relay\\nW\\nGold2006\\nTurin\\nBiathlon\\nBiathlon\\nRUS\\n4x7.5km relay\\nM\\nSilver2006\\nTurin\\nBobsleigh\\nBobsleigh\\nRUS\\nfour-man\\nM\\nSilver2006\\nTurin\\nLuge\\nLuge\\nRUS\\nsingles\\nM\\nSilver2006\\nTurin\\nSkating\\nFigure skating\\nRUS\\nice dancing\\nX\\nGold2006\\nTurin\\nSkating\\nFigure skating\\nRUS\\nindividual\\nM\\nGold2006\\nTurin\\nSkating\\nFigure skating\\nRUS\\nindividual\\nW\\nBronze2006\\nTurin\\nSkating\\nFigure skating\\nRUS\\npairs\\nX\\nGold2006\\nTurin\\nSkating\\nSpeed skating\\nRUS\\n500m\\nM\\nSilver2006\\nTurin\\nSkating\\nSpeed skating\\nRUS\\n500m\\nW\\nGold2006\\nTurin\\nSkating\\nSpeed skating\\nRUS\\nTeam pursuit\\nW\\nBronze2006\\nTurin\\nSkiing\\nCross Country S\\nRUS\\n30km\\nW\\nSilver2006\\nTurin\\nSkiing\\nCross Country S\\nRUS\\n4x5km relay\\nW\\nGold2006\\nTurin\\nSkiing\\nCross Country S\\nRUS\\n50km\\nM\\nSilver2006\\nTurin\\nSkiing\\nCross Country S\\nRUS\\nCombined 15 + 15km mass start\\nM\\nGold2006\\nTurin\\nSkiing\\nCross Country S\\nRUS\\nCombined 7.5 + 7.5km mass start\\nW\\nBronze2006\\nTurin\\nSkiing\\nCross Country S\\nRUS\\nsprint 1.5km\\nW\\nBronze2006\\nTurin\\nSkiing\\nCross Country S\\nRUS\\nTeam sprint\\nM\\nBronze2006\\nTurin\\nSkiing\\nFreestyle Ski.\\nRUS\\naerials\\nM\\nBronze2006\\nTurin\\nBobsleigh\\nBobsleigh\\nSUI\\nfour-man\\nM\\nBronze2006\\nTurin\\nBobsleigh\\nBobsleigh\\nSUI\\ntwo-man\\nM\\nBronze2006\\nTurin\\nBobsleigh\\nSkeleton\\nSUI\\nindividual\\nM\\nBronze2006\\nTurin\\nBobsleigh\\nSkeleton\\nSUI\\nindividual\\nW\\nGold2006\\nTurin\\nCurling\\nCurling\\nSUI\\ncurling\\nW\\nSilver2006\\nTurin\\nSkating\\nFigure skating\\nSUI\\nindividual\\nM\\nSilver2006\\nTurin\\nSkiing\\nAlpine Skiing\\nSUI\\ndownhill\\nM\\nBronze2006\\nTurin\\nSkiing\\nAlpine Skiing\\nSUI\\ndownhill\\nW\\nSilver2006\\nTurin\\nSkiing\\nAlpine Skiing\\nSUI\\nsuper-G\\nM\\nBronze2006\\nTurin\\nSkiing\\nFreestyle Ski.\\nSUI\\naerials\\nW\\nGold2006\\nTurin\\nSkiing\\nSnowboard\\nSUI\\nGiant parallel slalom\\nM\\nGold2006\\nTurin\\nSkiing\\nSnowboard\\nSUI\\nGiant parallel slalom\\nM\\nSilver2006\\nTurin\\nSkiing\\nSnowboard\\nSUI\\nGiant parallel slalom\\nW\\nGold2006\\nTurin\\nSkiing\\nSnowboard\\nSUI\\nSnowboard Cross\\nW\\nGold2006\\nTurin\\nSkiing\\nSnowboard\\nSVK\\nSnowboard Cross\\nM\\nSilver2006\\nTurin\\nBiathlon\\nBiathlon\\nSWE\\n12.5km mass start\\nW\\nGold2006\\nTurin\\nBiathlon\\nBiathlon\\nSWE\\n7.5km\\nW\\nSilver2006\\nTurin\\nCurling\\nCurling\\nSWE\\ncurling\\nW\\nGold2006\\nTurin\\nIce Hockey\\nIce Hockey\\nSWE\\nice hockey\\nM\\nGold2006\\nTurin\\nIce Hockey\\nIce Hockey\\nSWE\\nice hockey\\nW\\nSilver2006\\nTurin\\nSkiing\\nAlpine Skiing\\nSWE\\nAlpine combined\\nW\\nBronze2006\\nTurin\\nSkiing\\nAlpine Skiing\\nSWE\\ndownhill\\nW\\nBronze2006\\nTurin\\nSkiing\\nAlpine Skiing\\nSWE\\ngiant slalom\\nW\\nBronze2006\\nTurin\\nSkiing\\nAlpine Skiing\\nSWE\\nslalom\\nW\\nGold2006\\nTurin\\nSkiing\\nCross Country S\\nSWE\\n4x10km relay\\nM\\nBronze2006\\nTurin\\nSkiing\\nCross Country S\\nSWE\\nSprint 1.5km\\nM\\nBronze2006\\nTurin\\nSkiing\\nCross Country S\\nSWE\\nSprint 1.5km\\nM\\nGold2006\\nTurin\\nSkiing\\nCross Country S\\nSWE\\nTeam sprint\\nM\\nGold2006\\nTurin\\nSkiing\\nCross Country S\\nSWE\\nTeam sprint\\nW\\nGold2006\\nTurin\\nBiathlon\\nBiathlon\\nUKR\\n7.5km\\nW\\nBronze2006\\nTurin\\nSkating\\nFigure skating\\nUKR\\nice dancing\\nX\\nBronze2006\\nTurin\\nBobsleigh\\nBobsleigh\\nUSA\\ntwo-man\\nW\\nSilver2006\\nTurin\\nCurling\\nCurling\\nUSA\\ncurling\\nM\\nBronze2006\\nTurin\\nIce Hockey\\nIce Hockey\\nUSA\\nice hockey\\nW\\nBronze2006\\nTurin\\nSkating\\nFigure skating\\nUSA\\nice dancing\\nX\\nSilver2006\\nTurin\\nSkating\\nFigure skating\\nUSA\\nindividual\\nW\\nSilver2006\\nTurin\\nSkating\\nShort Track S.\\nUSA\\n1000m\\nM\\nBronze2006\\nTurin\\nSkating\\nShort Track S.\\nUSA\\n5000m relay\\nM\\nBronze2006\\nTurin\\nSkating\\nShort Track S.\\nUSA\\n500m\\nM\\nGold2006\\nTurin\\nSkating\\nSpeed skating\\nUSA\\n10000m\\nM\\nSilver2006\\nTurin\\nSkating\\nSpeed skating\\nUSA\\n1000m\\nM\\nGold2006\\nTurin\\nSkating\\nSpeed skating\\nUSA\\n1000m\\nM\\nSilver2006\\nTurin\\nSkating\\nSpeed skating\\nUSA\\n1500m\\nM\\nBronze2006\\nTurin\\nSkating\\nSpeed skating\\nUSA\\n1500m\\nM\\nSilver2006\\nTurin\\nSkating\\nSpeed skating\\nUSA\\n5000m\\nM\\nGold2006\\nTurin\\nSkating\\nSpeed skating\\nUSA\\n500m\\nM\\nGold2006\\nTurin\\nSkiing\\nAlpine Skiing\\nUSA\\nAlpine combined\\nM\\nGold2006\\nTurin\\nSkiing\\nAlpine Skiing\\nUSA\\ngiant slalom\\nW\\nGold2006\\nTurin\\nSkiing\\nFreestyle Ski.\\nUSA\\nmoguls\\nM\\nBronze2006\\nTurin\\nSkiing\\nSnowboard\\nUSA\\nGiant parallel slalom\\nW\\nBronze2006\\nTurin\\nSkiing\\nSnowboard\\nUSA\\nHalf-pipe\\nM\\nGold2006\\nTurin\\nSkiing\\nSnowboard\\nUSA\\nHalf-pipe\\nM\\nSilver2006\\nTurin\\nSkiing\\nSnowboard\\nUSA\\nHalf-pipe\\nW\\nGold2006\\nTurin\\nSkiing\\nSnowboard\\nUSA\\nHalf-pipe\\nW\\nSilver2006\\nTurin\\nSkiing\\nSnowboard\\nUSA\\nSnowboard Cross\\nM\\nGold2006\\nTurin\\nSkiing\\nSnowboard\\nUSA\\nSnowboard Cross\\nW\\nSilver\""
            ]
          },
          "metadata": {
            "tags": []
          },
          "execution_count": 46
        }
      ]
    },
    {
      "cell_type": "markdown",
      "metadata": {
        "id": "1_xpz6Mk1GHK",
        "colab_type": "text"
      },
      "source": [
        "## Ficheros XLS y XLSX"
      ]
    },
    {
      "cell_type": "code",
      "metadata": {
        "id": "DzG2oc_Z1GHL",
        "colab_type": "code",
        "colab": {}
      },
      "source": [
        "#windows\n",
        "#mainpath = \"E:/personal/programacion ex/MachineLearningPython/JupyterNotebook/datasets\"\n",
        "\n",
        "#linux\n",
        "#mainpath = \"/home/piero/Documentos/Cursos/machine-learning-python/datasets\"\n",
        "\n",
        "\n",
        "filename = \"titanic/titanic3.xls\""
      ],
      "execution_count": 47,
      "outputs": []
    },
    {
      "cell_type": "code",
      "metadata": {
        "id": "rCevKm9G1GHO",
        "colab_type": "code",
        "colab": {}
      },
      "source": [
        "titanic2 = pd.read_excel(filename, \"titanic3\")"
      ],
      "execution_count": 48,
      "outputs": []
    },
    {
      "cell_type": "code",
      "metadata": {
        "id": "zoBUx9r41GHR",
        "colab_type": "code",
        "colab": {}
      },
      "source": [
        "titanic3 = pd.read_excel(filename, \"titanic3\")"
      ],
      "execution_count": 49,
      "outputs": []
    },
    {
      "cell_type": "code",
      "metadata": {
        "id": "HPLtpk3F1GHU",
        "colab_type": "code",
        "colab": {}
      },
      "source": [
        "titanic3.to_csv(\"titanic/titanic_custom.csv\")"
      ],
      "execution_count": 50,
      "outputs": []
    },
    {
      "cell_type": "code",
      "metadata": {
        "id": "ME1Qrfu11GHW",
        "colab_type": "code",
        "colab": {}
      },
      "source": [
        "titanic3.to_excel(\"titanic/titanic_custom.xls\")"
      ],
      "execution_count": 51,
      "outputs": []
    },
    {
      "cell_type": "code",
      "metadata": {
        "id": "YdciPLuj1GHZ",
        "colab_type": "code",
        "colab": {}
      },
      "source": [
        "titanic3.to_json(\"titanic/titanic_custom.json\")"
      ],
      "execution_count": 52,
      "outputs": []
    },
    {
      "cell_type": "code",
      "metadata": {
        "id": "9niTE-fI1GHc",
        "colab_type": "code",
        "colab": {
          "base_uri": "https://localhost:8080/",
          "height": 204
        },
        "outputId": "e2af0cc6-307f-43b6-d3b5-1918fc51b743"
      },
      "source": [
        "titanic3.head()"
      ],
      "execution_count": 53,
      "outputs": [
        {
          "output_type": "execute_result",
          "data": {
            "text/html": [
              "<div>\n",
              "<style scoped>\n",
              "    .dataframe tbody tr th:only-of-type {\n",
              "        vertical-align: middle;\n",
              "    }\n",
              "\n",
              "    .dataframe tbody tr th {\n",
              "        vertical-align: top;\n",
              "    }\n",
              "\n",
              "    .dataframe thead th {\n",
              "        text-align: right;\n",
              "    }\n",
              "</style>\n",
              "<table border=\"1\" class=\"dataframe\">\n",
              "  <thead>\n",
              "    <tr style=\"text-align: right;\">\n",
              "      <th></th>\n",
              "      <th>pclass</th>\n",
              "      <th>survived</th>\n",
              "      <th>name</th>\n",
              "      <th>sex</th>\n",
              "      <th>age</th>\n",
              "      <th>sibsp</th>\n",
              "      <th>parch</th>\n",
              "      <th>ticket</th>\n",
              "      <th>fare</th>\n",
              "      <th>cabin</th>\n",
              "      <th>embarked</th>\n",
              "      <th>boat</th>\n",
              "      <th>body</th>\n",
              "      <th>home.dest</th>\n",
              "    </tr>\n",
              "  </thead>\n",
              "  <tbody>\n",
              "    <tr>\n",
              "      <th>0</th>\n",
              "      <td>1</td>\n",
              "      <td>1</td>\n",
              "      <td>Allen, Miss. Elisabeth Walton</td>\n",
              "      <td>female</td>\n",
              "      <td>29.0000</td>\n",
              "      <td>0</td>\n",
              "      <td>0</td>\n",
              "      <td>24160</td>\n",
              "      <td>211.3375</td>\n",
              "      <td>B5</td>\n",
              "      <td>S</td>\n",
              "      <td>2</td>\n",
              "      <td>NaN</td>\n",
              "      <td>St Louis, MO</td>\n",
              "    </tr>\n",
              "    <tr>\n",
              "      <th>1</th>\n",
              "      <td>1</td>\n",
              "      <td>1</td>\n",
              "      <td>Allison, Master. Hudson Trevor</td>\n",
              "      <td>male</td>\n",
              "      <td>0.9167</td>\n",
              "      <td>1</td>\n",
              "      <td>2</td>\n",
              "      <td>113781</td>\n",
              "      <td>151.5500</td>\n",
              "      <td>C22 C26</td>\n",
              "      <td>S</td>\n",
              "      <td>11</td>\n",
              "      <td>NaN</td>\n",
              "      <td>Montreal, PQ / Chesterville, ON</td>\n",
              "    </tr>\n",
              "    <tr>\n",
              "      <th>2</th>\n",
              "      <td>1</td>\n",
              "      <td>0</td>\n",
              "      <td>Allison, Miss. Helen Loraine</td>\n",
              "      <td>female</td>\n",
              "      <td>2.0000</td>\n",
              "      <td>1</td>\n",
              "      <td>2</td>\n",
              "      <td>113781</td>\n",
              "      <td>151.5500</td>\n",
              "      <td>C22 C26</td>\n",
              "      <td>S</td>\n",
              "      <td>NaN</td>\n",
              "      <td>NaN</td>\n",
              "      <td>Montreal, PQ / Chesterville, ON</td>\n",
              "    </tr>\n",
              "    <tr>\n",
              "      <th>3</th>\n",
              "      <td>1</td>\n",
              "      <td>0</td>\n",
              "      <td>Allison, Mr. Hudson Joshua Creighton</td>\n",
              "      <td>male</td>\n",
              "      <td>30.0000</td>\n",
              "      <td>1</td>\n",
              "      <td>2</td>\n",
              "      <td>113781</td>\n",
              "      <td>151.5500</td>\n",
              "      <td>C22 C26</td>\n",
              "      <td>S</td>\n",
              "      <td>NaN</td>\n",
              "      <td>135.0</td>\n",
              "      <td>Montreal, PQ / Chesterville, ON</td>\n",
              "    </tr>\n",
              "    <tr>\n",
              "      <th>4</th>\n",
              "      <td>1</td>\n",
              "      <td>0</td>\n",
              "      <td>Allison, Mrs. Hudson J C (Bessie Waldo Daniels)</td>\n",
              "      <td>female</td>\n",
              "      <td>25.0000</td>\n",
              "      <td>1</td>\n",
              "      <td>2</td>\n",
              "      <td>113781</td>\n",
              "      <td>151.5500</td>\n",
              "      <td>C22 C26</td>\n",
              "      <td>S</td>\n",
              "      <td>NaN</td>\n",
              "      <td>NaN</td>\n",
              "      <td>Montreal, PQ / Chesterville, ON</td>\n",
              "    </tr>\n",
              "  </tbody>\n",
              "</table>\n",
              "</div>"
            ],
            "text/plain": [
              "   pclass  survived  ...   body                        home.dest\n",
              "0       1         1  ...    NaN                     St Louis, MO\n",
              "1       1         1  ...    NaN  Montreal, PQ / Chesterville, ON\n",
              "2       1         0  ...    NaN  Montreal, PQ / Chesterville, ON\n",
              "3       1         0  ...  135.0  Montreal, PQ / Chesterville, ON\n",
              "4       1         0  ...    NaN  Montreal, PQ / Chesterville, ON\n",
              "\n",
              "[5 rows x 14 columns]"
            ]
          },
          "metadata": {
            "tags": []
          },
          "execution_count": 53
        }
      ]
    }
  ]
}