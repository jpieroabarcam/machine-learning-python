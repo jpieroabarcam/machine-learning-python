{
  "nbformat": 4,
  "nbformat_minor": 0,
  "metadata": {
    "kernelspec": {
      "display_name": "Python 3",
      "language": "python",
      "name": "python3"
    },
    "language_info": {
      "codemirror_mode": {
        "name": "ipython",
        "version": 3
      },
      "file_extension": ".py",
      "mimetype": "text/x-python",
      "name": "python",
      "nbconvert_exporter": "python",
      "pygments_lexer": "ipython3",
      "version": "3.7.0"
    },
    "colab": {
      "name": "T1 - 1 - Data Cleaning.ipynb",
      "provenance": []
    }
  },
  "cells": [
    {
      "cell_type": "markdown",
      "metadata": {
        "id": "1k-yyJyeEH9b",
        "colab_type": "text"
      },
      "source": [
        "# Ejercicio de descarga de datos con urllib3\n",
        "Leer datos desde una URL externa, procesarlos y convertirlos a un data frame de python antes de guardarlos en un CSV local."
      ]
    },
    {
      "cell_type": "code",
      "metadata": {
        "id": "jvO6qxj-EUsu",
        "colab_type": "code",
        "colab": {
          "base_uri": "https://localhost:8080/",
          "height": 122
        },
        "outputId": "6eb34204-93c1-4da0-d65d-df4ddc7d47e9"
      },
      "source": [
        "from google.colab import drive\n",
        "drive.mount('/content/drive')"
      ],
      "execution_count": 1,
      "outputs": [
        {
          "output_type": "stream",
          "text": [
            "Go to this URL in a browser: https://accounts.google.com/o/oauth2/auth?client_id=947318989803-6bn6qk8qdgf4n4g3pfee6491hc0brc4i.apps.googleusercontent.com&redirect_uri=urn%3aietf%3awg%3aoauth%3a2.0%3aoob&response_type=code&scope=email%20https%3a%2f%2fwww.googleapis.com%2fauth%2fdocs.test%20https%3a%2f%2fwww.googleapis.com%2fauth%2fdrive%20https%3a%2f%2fwww.googleapis.com%2fauth%2fdrive.photos.readonly%20https%3a%2f%2fwww.googleapis.com%2fauth%2fpeopleapi.readonly\n",
            "\n",
            "Enter your authorization code:\n",
            "··········\n",
            "Mounted at /content/drive\n"
          ],
          "name": "stdout"
        }
      ]
    },
    {
      "cell_type": "code",
      "metadata": {
        "id": "zZBFoaboEzGG",
        "colab_type": "code",
        "colab": {
          "base_uri": "https://localhost:8080/",
          "height": 34
        },
        "outputId": "f1acccaf-e416-48ef-ef0c-bfb7d05b56a8"
      },
      "source": [
        "%cd drive/My\\ Drive/Investigacion/Datasets"
      ],
      "execution_count": 2,
      "outputs": [
        {
          "output_type": "stream",
          "text": [
            "/content/drive/My Drive/Investigacion/Datasets\n"
          ],
          "name": "stdout"
        }
      ]
    },
    {
      "cell_type": "code",
      "metadata": {
        "id": "RoX34mfgEH9d",
        "colab_type": "code",
        "colab": {}
      },
      "source": [
        "import pandas as pd\n",
        "import os\n",
        "import urllib3\n",
        "\n",
        "def downloadFromURL(url, filename, sep = \",\", delim = '\\n', encoding= \"utf-8\"):\n",
        "\n",
        "    #medals_url = 'http://winterolympicsmedals.com/medals.csv'\n",
        "    medals_url = url\n",
        "    http = urllib3.PoolManager()\n",
        "\n",
        "    r = http.request('GET', medals_url)\n",
        "    print(\"El estado de la respuesta es %d\" %r.status)\n",
        "    response = r.data\n",
        "\n",
        "    str_data = response.decode(encoding)\n",
        "\n",
        "    lines = str_data.split(delim)\n",
        "\n",
        "    col_names = lines[0].split(sep)\n",
        "    n_cols = len(col_names)\n",
        "\n",
        "\n",
        "    counter = 0\n",
        "    main_dict = {}\n",
        "    for col in col_names:\n",
        "        main_dict[col] = []\n",
        "\n",
        "    #Procesar fila a fila la informacion para ir rellenando el diccionario\n",
        "    for line in lines:\n",
        "        if(counter > 0):\n",
        "            values = line.strip().split(\",\")\n",
        "            for i in range(len(col_names)):\n",
        "                main_dict[col_names[i]].append(values[i])\n",
        "        counter += 1\n",
        "\n",
        "    print(\"el dataset tiene %d filas y %d columnas\"%(counter,n_cols))\n",
        "\n",
        "    df = pd.DataFrame(main_dict)\n",
        "    print(df.head())\n",
        "\n",
        "    #windows\n",
        "    #mainpath = \"E:/personal/programacion ex/MachineLearningPython/JupyterNotebook/datasets\"\n",
        "\n",
        "    #linux\n",
        "    #mainpath = \"/home/piero/Documentos/Cursos/machine-learning-python/datasets\"\n",
        "\n",
        "    # Modificado para Colab\n",
        "\n",
        "    #filename = \"athletes/downloaded_medals.\"\n",
        "    filename = filename\n",
        "    #fullpath = os.path.join(mainpath, filename)\n",
        "    fullpath = filename\n",
        "\n",
        "    # guardarlos en CSV, en JSON o en Excel\n",
        "    df.to_csv(fullpath+\"csv\")\n",
        "    df.to_json(fullpath+\"json\")\n",
        "    df.to_excel(fullpath+\"xls\")\n",
        "    \n",
        "    print(\"Los ficheros se han guardado correctamente en: \"+fullpath)\n",
        "\n",
        "    return df\n",
        "\n",
        "#response = \"\".join(map(chr,r.data))\n",
        "\n"
      ],
      "execution_count": 6,
      "outputs": []
    },
    {
      "cell_type": "code",
      "metadata": {
        "id": "7tUgsRHTEH9j",
        "colab_type": "code",
        "colab": {
          "base_uri": "https://localhost:8080/",
          "height": 391
        },
        "outputId": "02e3a32c-9503-44c5-905a-3ea9f4d92028"
      },
      "source": [
        "medals_df = downloadFromURL('http://winterolympicsmedals.com/medals.csv', 'athletes/downloaded_medals.')\n",
        "medals_df.head()"
      ],
      "execution_count": 7,
      "outputs": [
        {
          "output_type": "stream",
          "text": [
            "El estado de la respuesta es 200\n",
            "el dataset tiene 2312 filas y 8 columnas\n",
            "   Year      City       Sport  ...       Event Event gender   Medal\n",
            "0  1924  Chamonix     Skating  ...  individual            M  Silver\n",
            "1  1924  Chamonix     Skating  ...  individual            W    Gold\n",
            "2  1924  Chamonix     Skating  ...       pairs            X    Gold\n",
            "3  1924  Chamonix   Bobsleigh  ...    four-man            M  Bronze\n",
            "4  1924  Chamonix  Ice Hockey  ...  ice hockey            M    Gold\n",
            "\n",
            "[5 rows x 8 columns]\n",
            "Los ficheros se han guardado correctamente en: athletes/downloaded_medals.\n"
          ],
          "name": "stdout"
        },
        {
          "output_type": "execute_result",
          "data": {
            "text/html": [
              "<div>\n",
              "<style scoped>\n",
              "    .dataframe tbody tr th:only-of-type {\n",
              "        vertical-align: middle;\n",
              "    }\n",
              "\n",
              "    .dataframe tbody tr th {\n",
              "        vertical-align: top;\n",
              "    }\n",
              "\n",
              "    .dataframe thead th {\n",
              "        text-align: right;\n",
              "    }\n",
              "</style>\n",
              "<table border=\"1\" class=\"dataframe\">\n",
              "  <thead>\n",
              "    <tr style=\"text-align: right;\">\n",
              "      <th></th>\n",
              "      <th>Year</th>\n",
              "      <th>City</th>\n",
              "      <th>Sport</th>\n",
              "      <th>Discipline</th>\n",
              "      <th>NOC</th>\n",
              "      <th>Event</th>\n",
              "      <th>Event gender</th>\n",
              "      <th>Medal</th>\n",
              "    </tr>\n",
              "  </thead>\n",
              "  <tbody>\n",
              "    <tr>\n",
              "      <th>0</th>\n",
              "      <td>1924</td>\n",
              "      <td>Chamonix</td>\n",
              "      <td>Skating</td>\n",
              "      <td>Figure skating</td>\n",
              "      <td>AUT</td>\n",
              "      <td>individual</td>\n",
              "      <td>M</td>\n",
              "      <td>Silver</td>\n",
              "    </tr>\n",
              "    <tr>\n",
              "      <th>1</th>\n",
              "      <td>1924</td>\n",
              "      <td>Chamonix</td>\n",
              "      <td>Skating</td>\n",
              "      <td>Figure skating</td>\n",
              "      <td>AUT</td>\n",
              "      <td>individual</td>\n",
              "      <td>W</td>\n",
              "      <td>Gold</td>\n",
              "    </tr>\n",
              "    <tr>\n",
              "      <th>2</th>\n",
              "      <td>1924</td>\n",
              "      <td>Chamonix</td>\n",
              "      <td>Skating</td>\n",
              "      <td>Figure skating</td>\n",
              "      <td>AUT</td>\n",
              "      <td>pairs</td>\n",
              "      <td>X</td>\n",
              "      <td>Gold</td>\n",
              "    </tr>\n",
              "    <tr>\n",
              "      <th>3</th>\n",
              "      <td>1924</td>\n",
              "      <td>Chamonix</td>\n",
              "      <td>Bobsleigh</td>\n",
              "      <td>Bobsleigh</td>\n",
              "      <td>BEL</td>\n",
              "      <td>four-man</td>\n",
              "      <td>M</td>\n",
              "      <td>Bronze</td>\n",
              "    </tr>\n",
              "    <tr>\n",
              "      <th>4</th>\n",
              "      <td>1924</td>\n",
              "      <td>Chamonix</td>\n",
              "      <td>Ice Hockey</td>\n",
              "      <td>Ice Hockey</td>\n",
              "      <td>CAN</td>\n",
              "      <td>ice hockey</td>\n",
              "      <td>M</td>\n",
              "      <td>Gold</td>\n",
              "    </tr>\n",
              "  </tbody>\n",
              "</table>\n",
              "</div>"
            ],
            "text/plain": [
              "   Year      City       Sport  ...       Event Event gender   Medal\n",
              "0  1924  Chamonix     Skating  ...  individual            M  Silver\n",
              "1  1924  Chamonix     Skating  ...  individual            W    Gold\n",
              "2  1924  Chamonix     Skating  ...       pairs            X    Gold\n",
              "3  1924  Chamonix   Bobsleigh  ...    four-man            M  Bronze\n",
              "4  1924  Chamonix  Ice Hockey  ...  ice hockey            M    Gold\n",
              "\n",
              "[5 rows x 8 columns]"
            ]
          },
          "metadata": {
            "tags": []
          },
          "execution_count": 7
        }
      ]
    },
    {
      "cell_type": "code",
      "metadata": {
        "id": "s2BFNCkUEH9q",
        "colab_type": "code",
        "colab": {}
      },
      "source": [
        ""
      ],
      "execution_count": null,
      "outputs": []
    }
  ]
}